{
 "cells": [
  {
   "cell_type": "code",
   "execution_count": 346,
   "metadata": {},
   "outputs": [],
   "source": [
    "import pandas as pd\n",
    "import numpy as np\n",
    "import matplotlib.pyplot as plt\n",
    "import datetime\n",
    "from aquarel import load_theme\n",
    "\n",
    "import plotly.express as px\n",
    "import plotly.graph_objects as go\n",
    "from plotly.subplots import make_subplots\n",
    "\n",
    "# show all columns of a pandas dataframe\n",
    "pd.set_option('display.max_columns', None)"
   ]
  },
  {
   "cell_type": "markdown",
   "metadata": {},
   "source": [
    "### Import & clean the data\n",
    "\n",
    "The dataset shows Airbnb activity in Seattle, has been provided by Airbnb and can be downloaded on Kaggle: <br> \n",
    "https://www.kaggle.com/datasets/airbnb/seattle/data <br>\n",
    "\n",
    "The dataset contains the following:\n",
    "- Calendar, including listing id and the price and availability for that day (calender.csv)\n",
    "- Listings, including full descriptions and average review score (listings.csv)\n",
    "- Reviews, including unique id for each reviewer and detailed comments (reviews.csv)"
   ]
  },
  {
   "cell_type": "code",
   "execution_count": 347,
   "metadata": {},
   "outputs": [],
   "source": [
    "# Import the datasets\n",
    "df_cal = pd.read_csv(\"data/calendar.csv\")\n",
    "df_list = pd.read_csv(\"data/listings.csv\")\n",
    "df_rev = pd.read_csv(\"data/reviews.csv\")"
   ]
  },
  {
   "cell_type": "markdown",
   "metadata": {},
   "source": [
    "---\n",
    "Check & modify the dataframe with the calendar"
   ]
  },
  {
   "cell_type": "code",
   "execution_count": 348,
   "metadata": {},
   "outputs": [
    {
     "data": {
      "text/html": [
       "<div>\n",
       "<style scoped>\n",
       "    .dataframe tbody tr th:only-of-type {\n",
       "        vertical-align: middle;\n",
       "    }\n",
       "\n",
       "    .dataframe tbody tr th {\n",
       "        vertical-align: top;\n",
       "    }\n",
       "\n",
       "    .dataframe thead th {\n",
       "        text-align: right;\n",
       "    }\n",
       "</style>\n",
       "<table border=\"1\" class=\"dataframe\">\n",
       "  <thead>\n",
       "    <tr style=\"text-align: right;\">\n",
       "      <th></th>\n",
       "      <th>listing_id</th>\n",
       "      <th>date</th>\n",
       "      <th>available</th>\n",
       "      <th>price</th>\n",
       "    </tr>\n",
       "  </thead>\n",
       "  <tbody>\n",
       "    <tr>\n",
       "      <th>0</th>\n",
       "      <td>241032</td>\n",
       "      <td>2016-01-04</td>\n",
       "      <td>t</td>\n",
       "      <td>$85.00</td>\n",
       "    </tr>\n",
       "    <tr>\n",
       "      <th>1</th>\n",
       "      <td>241032</td>\n",
       "      <td>2016-01-05</td>\n",
       "      <td>t</td>\n",
       "      <td>$85.00</td>\n",
       "    </tr>\n",
       "    <tr>\n",
       "      <th>2</th>\n",
       "      <td>241032</td>\n",
       "      <td>2016-01-06</td>\n",
       "      <td>f</td>\n",
       "      <td>NaN</td>\n",
       "    </tr>\n",
       "    <tr>\n",
       "      <th>3</th>\n",
       "      <td>241032</td>\n",
       "      <td>2016-01-07</td>\n",
       "      <td>f</td>\n",
       "      <td>NaN</td>\n",
       "    </tr>\n",
       "    <tr>\n",
       "      <th>4</th>\n",
       "      <td>241032</td>\n",
       "      <td>2016-01-08</td>\n",
       "      <td>f</td>\n",
       "      <td>NaN</td>\n",
       "    </tr>\n",
       "  </tbody>\n",
       "</table>\n",
       "</div>"
      ],
      "text/plain": [
       "   listing_id        date available   price\n",
       "0      241032  2016-01-04         t  $85.00\n",
       "1      241032  2016-01-05         t  $85.00\n",
       "2      241032  2016-01-06         f     NaN\n",
       "3      241032  2016-01-07         f     NaN\n",
       "4      241032  2016-01-08         f     NaN"
      ]
     },
     "execution_count": 348,
     "metadata": {},
     "output_type": "execute_result"
    }
   ],
   "source": [
    "df_cal.head()"
   ]
  },
  {
   "cell_type": "code",
   "execution_count": 349,
   "metadata": {},
   "outputs": [
    {
     "name": "stdout",
     "output_type": "stream",
     "text": [
      "<class 'pandas.core.frame.DataFrame'>\n",
      "RangeIndex: 1393570 entries, 0 to 1393569\n",
      "Data columns (total 4 columns):\n",
      " #   Column      Non-Null Count    Dtype \n",
      "---  ------      --------------    ----- \n",
      " 0   listing_id  1393570 non-null  int64 \n",
      " 1   date        1393570 non-null  object\n",
      " 2   available   1393570 non-null  object\n",
      " 3   price       934542 non-null   object\n",
      "dtypes: int64(1), object(3)\n",
      "memory usage: 42.5+ MB\n"
     ]
    }
   ],
   "source": [
    "df_cal.info()"
   ]
  },
  {
   "cell_type": "code",
   "execution_count": 350,
   "metadata": {},
   "outputs": [],
   "source": [
    "# change column date from str to datetime\n",
    "df_cal['date'] = pd.to_datetime(df_cal.date)\n",
    "\n",
    "# get the month\n",
    "df_cal['month'] = df_cal['date'].apply(lambda x: x.month)\n",
    "\n",
    "# get the month_name\n",
    "df_cal['month_name'] = df_cal['date'].apply(lambda x: x.month_name())\n",
    "\n",
    "# calculate the week\n",
    "df_cal['week'] = df_cal['date'].apply(lambda x: x.isocalendar()[1])\n",
    "\n",
    "# change column available from string to boolean\n",
    "df_cal['available'] = df_cal['available'].apply(lambda x: True if x == 't' else False)\n",
    "\n",
    "# calculate a new column without currency sign\n",
    "df_cal['price_usd_cal'] = df_cal['price'].apply(lambda x: x[1:] if isinstance(x, str) else x)\n",
    "\n",
    "# remove thousand separator and convert column to float\n",
    "df_cal['price_usd_cal'] = df_cal['price_usd_cal'].apply(lambda x: x.replace(',', '') if isinstance(x, str) else x).astype(float)\n",
    "\n",
    "# drop column price\n",
    "df_cal = df_cal.drop(columns='price')"
   ]
  },
  {
   "cell_type": "code",
   "execution_count": 351,
   "metadata": {},
   "outputs": [
    {
     "data": {
      "text/plain": [
       "'January'"
      ]
     },
     "execution_count": 351,
     "metadata": {},
     "output_type": "execute_result"
    }
   ],
   "source": [
    "df_cal.date[0].month_name()"
   ]
  },
  {
   "cell_type": "code",
   "execution_count": 352,
   "metadata": {},
   "outputs": [
    {
     "name": "stdout",
     "output_type": "stream",
     "text": [
      "<class 'pandas.core.frame.DataFrame'>\n",
      "RangeIndex: 1393570 entries, 0 to 1393569\n",
      "Data columns (total 7 columns):\n",
      " #   Column         Non-Null Count    Dtype         \n",
      "---  ------         --------------    -----         \n",
      " 0   listing_id     1393570 non-null  int64         \n",
      " 1   date           1393570 non-null  datetime64[ns]\n",
      " 2   available      1393570 non-null  bool          \n",
      " 3   month          1393570 non-null  int64         \n",
      " 4   month_name     1393570 non-null  object        \n",
      " 5   week           1393570 non-null  int64         \n",
      " 6   price_usd_cal  934542 non-null   float64       \n",
      "dtypes: bool(1), datetime64[ns](1), float64(1), int64(3), object(1)\n",
      "memory usage: 65.1+ MB\n"
     ]
    }
   ],
   "source": [
    "df_cal.info()"
   ]
  },
  {
   "cell_type": "code",
   "execution_count": 353,
   "metadata": {},
   "outputs": [
    {
     "data": {
      "text/html": [
       "<div>\n",
       "<style scoped>\n",
       "    .dataframe tbody tr th:only-of-type {\n",
       "        vertical-align: middle;\n",
       "    }\n",
       "\n",
       "    .dataframe tbody tr th {\n",
       "        vertical-align: top;\n",
       "    }\n",
       "\n",
       "    .dataframe thead th {\n",
       "        text-align: right;\n",
       "    }\n",
       "</style>\n",
       "<table border=\"1\" class=\"dataframe\">\n",
       "  <thead>\n",
       "    <tr style=\"text-align: right;\">\n",
       "      <th></th>\n",
       "      <th>listing_id</th>\n",
       "      <th>date</th>\n",
       "      <th>month</th>\n",
       "      <th>week</th>\n",
       "      <th>price_usd_cal</th>\n",
       "    </tr>\n",
       "  </thead>\n",
       "  <tbody>\n",
       "    <tr>\n",
       "      <th>count</th>\n",
       "      <td>1.393570e+06</td>\n",
       "      <td>1393570</td>\n",
       "      <td>1.393570e+06</td>\n",
       "      <td>1.393570e+06</td>\n",
       "      <td>934542.000000</td>\n",
       "    </tr>\n",
       "    <tr>\n",
       "      <th>mean</th>\n",
       "      <td>5.550111e+06</td>\n",
       "      <td>2016-07-04 00:00:00.000000256</td>\n",
       "      <td>6.528767e+00</td>\n",
       "      <td>2.643014e+01</td>\n",
       "      <td>137.944859</td>\n",
       "    </tr>\n",
       "    <tr>\n",
       "      <th>min</th>\n",
       "      <td>3.335000e+03</td>\n",
       "      <td>2016-01-04 00:00:00</td>\n",
       "      <td>1.000000e+00</td>\n",
       "      <td>1.000000e+00</td>\n",
       "      <td>10.000000</td>\n",
       "    </tr>\n",
       "    <tr>\n",
       "      <th>25%</th>\n",
       "      <td>3.258213e+06</td>\n",
       "      <td>2016-04-04 00:00:00</td>\n",
       "      <td>4.000000e+00</td>\n",
       "      <td>1.300000e+01</td>\n",
       "      <td>75.000000</td>\n",
       "    </tr>\n",
       "    <tr>\n",
       "      <th>50%</th>\n",
       "      <td>6.118244e+06</td>\n",
       "      <td>2016-07-04 00:00:00</td>\n",
       "      <td>7.000000e+00</td>\n",
       "      <td>2.600000e+01</td>\n",
       "      <td>109.000000</td>\n",
       "    </tr>\n",
       "    <tr>\n",
       "      <th>75%</th>\n",
       "      <td>8.035212e+06</td>\n",
       "      <td>2016-10-03 00:00:00</td>\n",
       "      <td>1.000000e+01</td>\n",
       "      <td>3.900000e+01</td>\n",
       "      <td>160.000000</td>\n",
       "    </tr>\n",
       "    <tr>\n",
       "      <th>max</th>\n",
       "      <td>1.034016e+07</td>\n",
       "      <td>2017-01-02 00:00:00</td>\n",
       "      <td>1.200000e+01</td>\n",
       "      <td>5.200000e+01</td>\n",
       "      <td>1650.000000</td>\n",
       "    </tr>\n",
       "    <tr>\n",
       "      <th>std</th>\n",
       "      <td>2.962274e+06</td>\n",
       "      <td>NaN</td>\n",
       "      <td>3.443855e+00</td>\n",
       "      <td>1.504692e+01</td>\n",
       "      <td>105.062870</td>\n",
       "    </tr>\n",
       "  </tbody>\n",
       "</table>\n",
       "</div>"
      ],
      "text/plain": [
       "         listing_id                           date         month  \\\n",
       "count  1.393570e+06                        1393570  1.393570e+06   \n",
       "mean   5.550111e+06  2016-07-04 00:00:00.000000256  6.528767e+00   \n",
       "min    3.335000e+03            2016-01-04 00:00:00  1.000000e+00   \n",
       "25%    3.258213e+06            2016-04-04 00:00:00  4.000000e+00   \n",
       "50%    6.118244e+06            2016-07-04 00:00:00  7.000000e+00   \n",
       "75%    8.035212e+06            2016-10-03 00:00:00  1.000000e+01   \n",
       "max    1.034016e+07            2017-01-02 00:00:00  1.200000e+01   \n",
       "std    2.962274e+06                            NaN  3.443855e+00   \n",
       "\n",
       "               week  price_usd_cal  \n",
       "count  1.393570e+06  934542.000000  \n",
       "mean   2.643014e+01     137.944859  \n",
       "min    1.000000e+00      10.000000  \n",
       "25%    1.300000e+01      75.000000  \n",
       "50%    2.600000e+01     109.000000  \n",
       "75%    3.900000e+01     160.000000  \n",
       "max    5.200000e+01    1650.000000  \n",
       "std    1.504692e+01     105.062870  "
      ]
     },
     "execution_count": 353,
     "metadata": {},
     "output_type": "execute_result"
    }
   ],
   "source": [
    "df_cal.describe()"
   ]
  },
  {
   "cell_type": "code",
   "execution_count": 354,
   "metadata": {},
   "outputs": [
    {
     "data": {
      "text/plain": [
       "(1393570, 7)"
      ]
     },
     "execution_count": 354,
     "metadata": {},
     "output_type": "execute_result"
    }
   ],
   "source": [
    "df_cal.shape"
   ]
  },
  {
   "cell_type": "markdown",
   "metadata": {},
   "source": [
    "---\n",
    "Check & modify the dataframe with the listings"
   ]
  },
  {
   "cell_type": "code",
   "execution_count": 355,
   "metadata": {},
   "outputs": [
    {
     "data": {
      "text/html": [
       "<div>\n",
       "<style scoped>\n",
       "    .dataframe tbody tr th:only-of-type {\n",
       "        vertical-align: middle;\n",
       "    }\n",
       "\n",
       "    .dataframe tbody tr th {\n",
       "        vertical-align: top;\n",
       "    }\n",
       "\n",
       "    .dataframe thead th {\n",
       "        text-align: right;\n",
       "    }\n",
       "</style>\n",
       "<table border=\"1\" class=\"dataframe\">\n",
       "  <thead>\n",
       "    <tr style=\"text-align: right;\">\n",
       "      <th></th>\n",
       "      <th>id</th>\n",
       "      <th>listing_url</th>\n",
       "      <th>scrape_id</th>\n",
       "      <th>last_scraped</th>\n",
       "      <th>name</th>\n",
       "      <th>summary</th>\n",
       "      <th>space</th>\n",
       "      <th>description</th>\n",
       "      <th>experiences_offered</th>\n",
       "      <th>neighborhood_overview</th>\n",
       "      <th>notes</th>\n",
       "      <th>transit</th>\n",
       "      <th>thumbnail_url</th>\n",
       "      <th>medium_url</th>\n",
       "      <th>picture_url</th>\n",
       "      <th>xl_picture_url</th>\n",
       "      <th>host_id</th>\n",
       "      <th>host_url</th>\n",
       "      <th>host_name</th>\n",
       "      <th>host_since</th>\n",
       "      <th>host_location</th>\n",
       "      <th>host_about</th>\n",
       "      <th>host_response_time</th>\n",
       "      <th>host_response_rate</th>\n",
       "      <th>host_acceptance_rate</th>\n",
       "      <th>host_is_superhost</th>\n",
       "      <th>host_thumbnail_url</th>\n",
       "      <th>host_picture_url</th>\n",
       "      <th>host_neighbourhood</th>\n",
       "      <th>host_listings_count</th>\n",
       "      <th>host_total_listings_count</th>\n",
       "      <th>host_verifications</th>\n",
       "      <th>host_has_profile_pic</th>\n",
       "      <th>host_identity_verified</th>\n",
       "      <th>street</th>\n",
       "      <th>neighbourhood</th>\n",
       "      <th>neighbourhood_cleansed</th>\n",
       "      <th>neighbourhood_group_cleansed</th>\n",
       "      <th>city</th>\n",
       "      <th>state</th>\n",
       "      <th>zipcode</th>\n",
       "      <th>market</th>\n",
       "      <th>smart_location</th>\n",
       "      <th>country_code</th>\n",
       "      <th>country</th>\n",
       "      <th>latitude</th>\n",
       "      <th>longitude</th>\n",
       "      <th>is_location_exact</th>\n",
       "      <th>property_type</th>\n",
       "      <th>room_type</th>\n",
       "      <th>accommodates</th>\n",
       "      <th>bathrooms</th>\n",
       "      <th>bedrooms</th>\n",
       "      <th>beds</th>\n",
       "      <th>bed_type</th>\n",
       "      <th>amenities</th>\n",
       "      <th>square_feet</th>\n",
       "      <th>price</th>\n",
       "      <th>weekly_price</th>\n",
       "      <th>monthly_price</th>\n",
       "      <th>security_deposit</th>\n",
       "      <th>cleaning_fee</th>\n",
       "      <th>guests_included</th>\n",
       "      <th>extra_people</th>\n",
       "      <th>minimum_nights</th>\n",
       "      <th>maximum_nights</th>\n",
       "      <th>calendar_updated</th>\n",
       "      <th>has_availability</th>\n",
       "      <th>availability_30</th>\n",
       "      <th>availability_60</th>\n",
       "      <th>availability_90</th>\n",
       "      <th>availability_365</th>\n",
       "      <th>calendar_last_scraped</th>\n",
       "      <th>number_of_reviews</th>\n",
       "      <th>first_review</th>\n",
       "      <th>last_review</th>\n",
       "      <th>review_scores_rating</th>\n",
       "      <th>review_scores_accuracy</th>\n",
       "      <th>review_scores_cleanliness</th>\n",
       "      <th>review_scores_checkin</th>\n",
       "      <th>review_scores_communication</th>\n",
       "      <th>review_scores_location</th>\n",
       "      <th>review_scores_value</th>\n",
       "      <th>requires_license</th>\n",
       "      <th>license</th>\n",
       "      <th>jurisdiction_names</th>\n",
       "      <th>instant_bookable</th>\n",
       "      <th>cancellation_policy</th>\n",
       "      <th>require_guest_profile_picture</th>\n",
       "      <th>require_guest_phone_verification</th>\n",
       "      <th>calculated_host_listings_count</th>\n",
       "      <th>reviews_per_month</th>\n",
       "    </tr>\n",
       "  </thead>\n",
       "  <tbody>\n",
       "    <tr>\n",
       "      <th>0</th>\n",
       "      <td>241032</td>\n",
       "      <td>https://www.airbnb.com/rooms/241032</td>\n",
       "      <td>20160104002432</td>\n",
       "      <td>2016-01-04</td>\n",
       "      <td>Stylish Queen Anne Apartment</td>\n",
       "      <td>NaN</td>\n",
       "      <td>Make your self at home in this charming one-be...</td>\n",
       "      <td>Make your self at home in this charming one-be...</td>\n",
       "      <td>none</td>\n",
       "      <td>NaN</td>\n",
       "      <td>NaN</td>\n",
       "      <td>NaN</td>\n",
       "      <td>NaN</td>\n",
       "      <td>NaN</td>\n",
       "      <td>https://a1.muscache.com/ac/pictures/67560560/c...</td>\n",
       "      <td>NaN</td>\n",
       "      <td>956883</td>\n",
       "      <td>https://www.airbnb.com/users/show/956883</td>\n",
       "      <td>Maija</td>\n",
       "      <td>2011-08-11</td>\n",
       "      <td>Seattle, Washington, United States</td>\n",
       "      <td>I am an artist, interior designer, and run a s...</td>\n",
       "      <td>within a few hours</td>\n",
       "      <td>96%</td>\n",
       "      <td>100%</td>\n",
       "      <td>f</td>\n",
       "      <td>https://a0.muscache.com/ac/users/956883/profil...</td>\n",
       "      <td>https://a0.muscache.com/ac/users/956883/profil...</td>\n",
       "      <td>Queen Anne</td>\n",
       "      <td>3.0</td>\n",
       "      <td>3.0</td>\n",
       "      <td>['email', 'phone', 'reviews', 'kba']</td>\n",
       "      <td>t</td>\n",
       "      <td>t</td>\n",
       "      <td>Gilman Dr W, Seattle, WA 98119, United States</td>\n",
       "      <td>Queen Anne</td>\n",
       "      <td>West Queen Anne</td>\n",
       "      <td>Queen Anne</td>\n",
       "      <td>Seattle</td>\n",
       "      <td>WA</td>\n",
       "      <td>98119</td>\n",
       "      <td>Seattle</td>\n",
       "      <td>Seattle, WA</td>\n",
       "      <td>US</td>\n",
       "      <td>United States</td>\n",
       "      <td>47.636289</td>\n",
       "      <td>-122.371025</td>\n",
       "      <td>t</td>\n",
       "      <td>Apartment</td>\n",
       "      <td>Entire home/apt</td>\n",
       "      <td>4</td>\n",
       "      <td>1.0</td>\n",
       "      <td>1.0</td>\n",
       "      <td>1.0</td>\n",
       "      <td>Real Bed</td>\n",
       "      <td>{TV,\"Cable TV\",Internet,\"Wireless Internet\",\"A...</td>\n",
       "      <td>NaN</td>\n",
       "      <td>$85.00</td>\n",
       "      <td>NaN</td>\n",
       "      <td>NaN</td>\n",
       "      <td>NaN</td>\n",
       "      <td>NaN</td>\n",
       "      <td>2</td>\n",
       "      <td>$5.00</td>\n",
       "      <td>1</td>\n",
       "      <td>365</td>\n",
       "      <td>4 weeks ago</td>\n",
       "      <td>t</td>\n",
       "      <td>14</td>\n",
       "      <td>41</td>\n",
       "      <td>71</td>\n",
       "      <td>346</td>\n",
       "      <td>2016-01-04</td>\n",
       "      <td>207</td>\n",
       "      <td>2011-11-01</td>\n",
       "      <td>2016-01-02</td>\n",
       "      <td>95.0</td>\n",
       "      <td>10.0</td>\n",
       "      <td>10.0</td>\n",
       "      <td>10.0</td>\n",
       "      <td>10.0</td>\n",
       "      <td>9.0</td>\n",
       "      <td>10.0</td>\n",
       "      <td>f</td>\n",
       "      <td>NaN</td>\n",
       "      <td>WASHINGTON</td>\n",
       "      <td>f</td>\n",
       "      <td>moderate</td>\n",
       "      <td>f</td>\n",
       "      <td>f</td>\n",
       "      <td>2</td>\n",
       "      <td>4.07</td>\n",
       "    </tr>\n",
       "    <tr>\n",
       "      <th>1</th>\n",
       "      <td>953595</td>\n",
       "      <td>https://www.airbnb.com/rooms/953595</td>\n",
       "      <td>20160104002432</td>\n",
       "      <td>2016-01-04</td>\n",
       "      <td>Bright &amp; Airy Queen Anne Apartment</td>\n",
       "      <td>Chemically sensitive? We've removed the irrita...</td>\n",
       "      <td>Beautiful, hypoallergenic apartment in an extr...</td>\n",
       "      <td>Chemically sensitive? We've removed the irrita...</td>\n",
       "      <td>none</td>\n",
       "      <td>Queen Anne is a wonderful, truly functional vi...</td>\n",
       "      <td>What's up with the free pillows?  Our home was...</td>\n",
       "      <td>Convenient bus stops are just down the block, ...</td>\n",
       "      <td>https://a0.muscache.com/ac/pictures/14409893/f...</td>\n",
       "      <td>https://a0.muscache.com/im/pictures/14409893/f...</td>\n",
       "      <td>https://a0.muscache.com/ac/pictures/14409893/f...</td>\n",
       "      <td>https://a0.muscache.com/ac/pictures/14409893/f...</td>\n",
       "      <td>5177328</td>\n",
       "      <td>https://www.airbnb.com/users/show/5177328</td>\n",
       "      <td>Andrea</td>\n",
       "      <td>2013-02-21</td>\n",
       "      <td>Seattle, Washington, United States</td>\n",
       "      <td>Living east coast/left coast/overseas.  Time i...</td>\n",
       "      <td>within an hour</td>\n",
       "      <td>98%</td>\n",
       "      <td>100%</td>\n",
       "      <td>t</td>\n",
       "      <td>https://a0.muscache.com/ac/users/5177328/profi...</td>\n",
       "      <td>https://a0.muscache.com/ac/users/5177328/profi...</td>\n",
       "      <td>Queen Anne</td>\n",
       "      <td>6.0</td>\n",
       "      <td>6.0</td>\n",
       "      <td>['email', 'phone', 'facebook', 'linkedin', 're...</td>\n",
       "      <td>t</td>\n",
       "      <td>t</td>\n",
       "      <td>7th Avenue West, Seattle, WA 98119, United States</td>\n",
       "      <td>Queen Anne</td>\n",
       "      <td>West Queen Anne</td>\n",
       "      <td>Queen Anne</td>\n",
       "      <td>Seattle</td>\n",
       "      <td>WA</td>\n",
       "      <td>98119</td>\n",
       "      <td>Seattle</td>\n",
       "      <td>Seattle, WA</td>\n",
       "      <td>US</td>\n",
       "      <td>United States</td>\n",
       "      <td>47.639123</td>\n",
       "      <td>-122.365666</td>\n",
       "      <td>t</td>\n",
       "      <td>Apartment</td>\n",
       "      <td>Entire home/apt</td>\n",
       "      <td>4</td>\n",
       "      <td>1.0</td>\n",
       "      <td>1.0</td>\n",
       "      <td>1.0</td>\n",
       "      <td>Real Bed</td>\n",
       "      <td>{TV,Internet,\"Wireless Internet\",Kitchen,\"Free...</td>\n",
       "      <td>NaN</td>\n",
       "      <td>$150.00</td>\n",
       "      <td>$1,000.00</td>\n",
       "      <td>$3,000.00</td>\n",
       "      <td>$100.00</td>\n",
       "      <td>$40.00</td>\n",
       "      <td>1</td>\n",
       "      <td>$0.00</td>\n",
       "      <td>2</td>\n",
       "      <td>90</td>\n",
       "      <td>today</td>\n",
       "      <td>t</td>\n",
       "      <td>13</td>\n",
       "      <td>13</td>\n",
       "      <td>16</td>\n",
       "      <td>291</td>\n",
       "      <td>2016-01-04</td>\n",
       "      <td>43</td>\n",
       "      <td>2013-08-19</td>\n",
       "      <td>2015-12-29</td>\n",
       "      <td>96.0</td>\n",
       "      <td>10.0</td>\n",
       "      <td>10.0</td>\n",
       "      <td>10.0</td>\n",
       "      <td>10.0</td>\n",
       "      <td>10.0</td>\n",
       "      <td>10.0</td>\n",
       "      <td>f</td>\n",
       "      <td>NaN</td>\n",
       "      <td>WASHINGTON</td>\n",
       "      <td>f</td>\n",
       "      <td>strict</td>\n",
       "      <td>t</td>\n",
       "      <td>t</td>\n",
       "      <td>6</td>\n",
       "      <td>1.48</td>\n",
       "    </tr>\n",
       "    <tr>\n",
       "      <th>2</th>\n",
       "      <td>3308979</td>\n",
       "      <td>https://www.airbnb.com/rooms/3308979</td>\n",
       "      <td>20160104002432</td>\n",
       "      <td>2016-01-04</td>\n",
       "      <td>New Modern House-Amazing water view</td>\n",
       "      <td>New modern house built in 2013.  Spectacular s...</td>\n",
       "      <td>Our house is modern, light and fresh with a wa...</td>\n",
       "      <td>New modern house built in 2013.  Spectacular s...</td>\n",
       "      <td>none</td>\n",
       "      <td>Upper Queen Anne is a charming neighborhood fu...</td>\n",
       "      <td>Our house is located just 5 short blocks to To...</td>\n",
       "      <td>A bus stop is just 2 blocks away.   Easy bus a...</td>\n",
       "      <td>NaN</td>\n",
       "      <td>NaN</td>\n",
       "      <td>https://a2.muscache.com/ac/pictures/b4324e0f-a...</td>\n",
       "      <td>NaN</td>\n",
       "      <td>16708587</td>\n",
       "      <td>https://www.airbnb.com/users/show/16708587</td>\n",
       "      <td>Jill</td>\n",
       "      <td>2014-06-12</td>\n",
       "      <td>Seattle, Washington, United States</td>\n",
       "      <td>i love living in Seattle.  i grew up in the mi...</td>\n",
       "      <td>within a few hours</td>\n",
       "      <td>67%</td>\n",
       "      <td>100%</td>\n",
       "      <td>f</td>\n",
       "      <td>https://a1.muscache.com/ac/users/16708587/prof...</td>\n",
       "      <td>https://a1.muscache.com/ac/users/16708587/prof...</td>\n",
       "      <td>Queen Anne</td>\n",
       "      <td>2.0</td>\n",
       "      <td>2.0</td>\n",
       "      <td>['email', 'phone', 'google', 'reviews', 'jumio']</td>\n",
       "      <td>t</td>\n",
       "      <td>t</td>\n",
       "      <td>West Lee Street, Seattle, WA 98119, United States</td>\n",
       "      <td>Queen Anne</td>\n",
       "      <td>West Queen Anne</td>\n",
       "      <td>Queen Anne</td>\n",
       "      <td>Seattle</td>\n",
       "      <td>WA</td>\n",
       "      <td>98119</td>\n",
       "      <td>Seattle</td>\n",
       "      <td>Seattle, WA</td>\n",
       "      <td>US</td>\n",
       "      <td>United States</td>\n",
       "      <td>47.629724</td>\n",
       "      <td>-122.369483</td>\n",
       "      <td>t</td>\n",
       "      <td>House</td>\n",
       "      <td>Entire home/apt</td>\n",
       "      <td>11</td>\n",
       "      <td>4.5</td>\n",
       "      <td>5.0</td>\n",
       "      <td>7.0</td>\n",
       "      <td>Real Bed</td>\n",
       "      <td>{TV,\"Cable TV\",Internet,\"Wireless Internet\",\"A...</td>\n",
       "      <td>NaN</td>\n",
       "      <td>$975.00</td>\n",
       "      <td>NaN</td>\n",
       "      <td>NaN</td>\n",
       "      <td>$1,000.00</td>\n",
       "      <td>$300.00</td>\n",
       "      <td>10</td>\n",
       "      <td>$25.00</td>\n",
       "      <td>4</td>\n",
       "      <td>30</td>\n",
       "      <td>5 weeks ago</td>\n",
       "      <td>t</td>\n",
       "      <td>1</td>\n",
       "      <td>6</td>\n",
       "      <td>17</td>\n",
       "      <td>220</td>\n",
       "      <td>2016-01-04</td>\n",
       "      <td>20</td>\n",
       "      <td>2014-07-30</td>\n",
       "      <td>2015-09-03</td>\n",
       "      <td>97.0</td>\n",
       "      <td>10.0</td>\n",
       "      <td>10.0</td>\n",
       "      <td>10.0</td>\n",
       "      <td>10.0</td>\n",
       "      <td>10.0</td>\n",
       "      <td>10.0</td>\n",
       "      <td>f</td>\n",
       "      <td>NaN</td>\n",
       "      <td>WASHINGTON</td>\n",
       "      <td>f</td>\n",
       "      <td>strict</td>\n",
       "      <td>f</td>\n",
       "      <td>f</td>\n",
       "      <td>2</td>\n",
       "      <td>1.15</td>\n",
       "    </tr>\n",
       "  </tbody>\n",
       "</table>\n",
       "</div>"
      ],
      "text/plain": [
       "        id                           listing_url       scrape_id last_scraped  \\\n",
       "0   241032   https://www.airbnb.com/rooms/241032  20160104002432   2016-01-04   \n",
       "1   953595   https://www.airbnb.com/rooms/953595  20160104002432   2016-01-04   \n",
       "2  3308979  https://www.airbnb.com/rooms/3308979  20160104002432   2016-01-04   \n",
       "\n",
       "                                  name  \\\n",
       "0         Stylish Queen Anne Apartment   \n",
       "1   Bright & Airy Queen Anne Apartment   \n",
       "2  New Modern House-Amazing water view   \n",
       "\n",
       "                                             summary  \\\n",
       "0                                                NaN   \n",
       "1  Chemically sensitive? We've removed the irrita...   \n",
       "2  New modern house built in 2013.  Spectacular s...   \n",
       "\n",
       "                                               space  \\\n",
       "0  Make your self at home in this charming one-be...   \n",
       "1  Beautiful, hypoallergenic apartment in an extr...   \n",
       "2  Our house is modern, light and fresh with a wa...   \n",
       "\n",
       "                                         description experiences_offered  \\\n",
       "0  Make your self at home in this charming one-be...                none   \n",
       "1  Chemically sensitive? We've removed the irrita...                none   \n",
       "2  New modern house built in 2013.  Spectacular s...                none   \n",
       "\n",
       "                               neighborhood_overview  \\\n",
       "0                                                NaN   \n",
       "1  Queen Anne is a wonderful, truly functional vi...   \n",
       "2  Upper Queen Anne is a charming neighborhood fu...   \n",
       "\n",
       "                                               notes  \\\n",
       "0                                                NaN   \n",
       "1  What's up with the free pillows?  Our home was...   \n",
       "2  Our house is located just 5 short blocks to To...   \n",
       "\n",
       "                                             transit  \\\n",
       "0                                                NaN   \n",
       "1  Convenient bus stops are just down the block, ...   \n",
       "2  A bus stop is just 2 blocks away.   Easy bus a...   \n",
       "\n",
       "                                       thumbnail_url  \\\n",
       "0                                                NaN   \n",
       "1  https://a0.muscache.com/ac/pictures/14409893/f...   \n",
       "2                                                NaN   \n",
       "\n",
       "                                          medium_url  \\\n",
       "0                                                NaN   \n",
       "1  https://a0.muscache.com/im/pictures/14409893/f...   \n",
       "2                                                NaN   \n",
       "\n",
       "                                         picture_url  \\\n",
       "0  https://a1.muscache.com/ac/pictures/67560560/c...   \n",
       "1  https://a0.muscache.com/ac/pictures/14409893/f...   \n",
       "2  https://a2.muscache.com/ac/pictures/b4324e0f-a...   \n",
       "\n",
       "                                      xl_picture_url   host_id  \\\n",
       "0                                                NaN    956883   \n",
       "1  https://a0.muscache.com/ac/pictures/14409893/f...   5177328   \n",
       "2                                                NaN  16708587   \n",
       "\n",
       "                                     host_url host_name  host_since  \\\n",
       "0    https://www.airbnb.com/users/show/956883     Maija  2011-08-11   \n",
       "1   https://www.airbnb.com/users/show/5177328    Andrea  2013-02-21   \n",
       "2  https://www.airbnb.com/users/show/16708587      Jill  2014-06-12   \n",
       "\n",
       "                        host_location  \\\n",
       "0  Seattle, Washington, United States   \n",
       "1  Seattle, Washington, United States   \n",
       "2  Seattle, Washington, United States   \n",
       "\n",
       "                                          host_about  host_response_time  \\\n",
       "0  I am an artist, interior designer, and run a s...  within a few hours   \n",
       "1  Living east coast/left coast/overseas.  Time i...      within an hour   \n",
       "2  i love living in Seattle.  i grew up in the mi...  within a few hours   \n",
       "\n",
       "  host_response_rate host_acceptance_rate host_is_superhost  \\\n",
       "0                96%                 100%                 f   \n",
       "1                98%                 100%                 t   \n",
       "2                67%                 100%                 f   \n",
       "\n",
       "                                  host_thumbnail_url  \\\n",
       "0  https://a0.muscache.com/ac/users/956883/profil...   \n",
       "1  https://a0.muscache.com/ac/users/5177328/profi...   \n",
       "2  https://a1.muscache.com/ac/users/16708587/prof...   \n",
       "\n",
       "                                    host_picture_url host_neighbourhood  \\\n",
       "0  https://a0.muscache.com/ac/users/956883/profil...         Queen Anne   \n",
       "1  https://a0.muscache.com/ac/users/5177328/profi...         Queen Anne   \n",
       "2  https://a1.muscache.com/ac/users/16708587/prof...         Queen Anne   \n",
       "\n",
       "   host_listings_count  host_total_listings_count  \\\n",
       "0                  3.0                        3.0   \n",
       "1                  6.0                        6.0   \n",
       "2                  2.0                        2.0   \n",
       "\n",
       "                                  host_verifications host_has_profile_pic  \\\n",
       "0               ['email', 'phone', 'reviews', 'kba']                    t   \n",
       "1  ['email', 'phone', 'facebook', 'linkedin', 're...                    t   \n",
       "2   ['email', 'phone', 'google', 'reviews', 'jumio']                    t   \n",
       "\n",
       "  host_identity_verified                                             street  \\\n",
       "0                      t      Gilman Dr W, Seattle, WA 98119, United States   \n",
       "1                      t  7th Avenue West, Seattle, WA 98119, United States   \n",
       "2                      t  West Lee Street, Seattle, WA 98119, United States   \n",
       "\n",
       "  neighbourhood neighbourhood_cleansed neighbourhood_group_cleansed     city  \\\n",
       "0    Queen Anne        West Queen Anne                   Queen Anne  Seattle   \n",
       "1    Queen Anne        West Queen Anne                   Queen Anne  Seattle   \n",
       "2    Queen Anne        West Queen Anne                   Queen Anne  Seattle   \n",
       "\n",
       "  state zipcode   market smart_location country_code        country  \\\n",
       "0    WA   98119  Seattle    Seattle, WA           US  United States   \n",
       "1    WA   98119  Seattle    Seattle, WA           US  United States   \n",
       "2    WA   98119  Seattle    Seattle, WA           US  United States   \n",
       "\n",
       "    latitude   longitude is_location_exact property_type        room_type  \\\n",
       "0  47.636289 -122.371025                 t     Apartment  Entire home/apt   \n",
       "1  47.639123 -122.365666                 t     Apartment  Entire home/apt   \n",
       "2  47.629724 -122.369483                 t         House  Entire home/apt   \n",
       "\n",
       "   accommodates  bathrooms  bedrooms  beds  bed_type  \\\n",
       "0             4        1.0       1.0   1.0  Real Bed   \n",
       "1             4        1.0       1.0   1.0  Real Bed   \n",
       "2            11        4.5       5.0   7.0  Real Bed   \n",
       "\n",
       "                                           amenities  square_feet    price  \\\n",
       "0  {TV,\"Cable TV\",Internet,\"Wireless Internet\",\"A...          NaN   $85.00   \n",
       "1  {TV,Internet,\"Wireless Internet\",Kitchen,\"Free...          NaN  $150.00   \n",
       "2  {TV,\"Cable TV\",Internet,\"Wireless Internet\",\"A...          NaN  $975.00   \n",
       "\n",
       "  weekly_price monthly_price security_deposit cleaning_fee  guests_included  \\\n",
       "0          NaN           NaN              NaN          NaN                2   \n",
       "1    $1,000.00     $3,000.00          $100.00       $40.00                1   \n",
       "2          NaN           NaN        $1,000.00      $300.00               10   \n",
       "\n",
       "  extra_people  minimum_nights  maximum_nights calendar_updated  \\\n",
       "0        $5.00               1             365      4 weeks ago   \n",
       "1        $0.00               2              90            today   \n",
       "2       $25.00               4              30      5 weeks ago   \n",
       "\n",
       "  has_availability  availability_30  availability_60  availability_90  \\\n",
       "0                t               14               41               71   \n",
       "1                t               13               13               16   \n",
       "2                t                1                6               17   \n",
       "\n",
       "   availability_365 calendar_last_scraped  number_of_reviews first_review  \\\n",
       "0               346            2016-01-04                207   2011-11-01   \n",
       "1               291            2016-01-04                 43   2013-08-19   \n",
       "2               220            2016-01-04                 20   2014-07-30   \n",
       "\n",
       "  last_review  review_scores_rating  review_scores_accuracy  \\\n",
       "0  2016-01-02                  95.0                    10.0   \n",
       "1  2015-12-29                  96.0                    10.0   \n",
       "2  2015-09-03                  97.0                    10.0   \n",
       "\n",
       "   review_scores_cleanliness  review_scores_checkin  \\\n",
       "0                       10.0                   10.0   \n",
       "1                       10.0                   10.0   \n",
       "2                       10.0                   10.0   \n",
       "\n",
       "   review_scores_communication  review_scores_location  review_scores_value  \\\n",
       "0                         10.0                     9.0                 10.0   \n",
       "1                         10.0                    10.0                 10.0   \n",
       "2                         10.0                    10.0                 10.0   \n",
       "\n",
       "  requires_license  license jurisdiction_names instant_bookable  \\\n",
       "0                f      NaN         WASHINGTON                f   \n",
       "1                f      NaN         WASHINGTON                f   \n",
       "2                f      NaN         WASHINGTON                f   \n",
       "\n",
       "  cancellation_policy require_guest_profile_picture  \\\n",
       "0            moderate                             f   \n",
       "1              strict                             t   \n",
       "2              strict                             f   \n",
       "\n",
       "  require_guest_phone_verification  calculated_host_listings_count  \\\n",
       "0                                f                               2   \n",
       "1                                t                               6   \n",
       "2                                f                               2   \n",
       "\n",
       "   reviews_per_month  \n",
       "0               4.07  \n",
       "1               1.48  \n",
       "2               1.15  "
      ]
     },
     "execution_count": 355,
     "metadata": {},
     "output_type": "execute_result"
    }
   ],
   "source": [
    "df_list.head(3)"
   ]
  },
  {
   "cell_type": "code",
   "execution_count": 356,
   "metadata": {},
   "outputs": [],
   "source": [
    "# rename the column id to listing_id for later join\n",
    "df_list = df_list.rename(columns={'id' : 'listing_id'})\n",
    "\n",
    "# change some columns from str to boolean\n",
    "col_bool = ['host_is_superhost',\n",
    "            'host_has_profile_pic',\n",
    "            'host_identity_verified',\n",
    "            'is_location_exact',\n",
    "            'has_availability',\n",
    "            'requires_license',\n",
    "            'instant_bookable',\n",
    "            'require_guest_profile_picture',\n",
    "            'require_guest_phone_verification']\n",
    "\n",
    "for col in col_bool:\n",
    "    df_list[col] = df_list[col].apply(lambda x: True if x == 't' else False)\n",
    "\n",
    "\n",
    "# change column from str to datetime\n",
    "col_date = ['last_scraped', 'host_since', 'calendar_last_scraped', 'first_review', 'last_review']\n",
    "\n",
    "for col in col_date:\n",
    "    df_list[col] = pd.to_datetime(df_list[col])\n",
    "\n",
    "\n",
    "# replace percentage sign and convert column from str to float\n",
    "col_perc = ['host_response_rate', 'host_acceptance_rate']\n",
    "\n",
    "for col in col_perc:\n",
    "    df_list[col] = df_list[col].apply(lambda x: x[:-1] if isinstance(x, str) else x).astype(float)\n",
    "\n",
    "\n",
    "# calculate a new column without currency sign\n",
    "col_curr = ['price','extra_people', 'weekly_price', 'monthly_price', 'security_deposit', 'cleaning_fee']\n",
    "\n",
    "for col in col_curr:\n",
    "    df_list[col] = df_list[col].apply(lambda x: x.replace(',', '') if isinstance(x,str) else x)\n",
    "    df_list[col + '_usd'] = df_list[col].apply(lambda x: x[1:] if isinstance(x, str) else x).astype(float)\n",
    "\n",
    "# generate numeric values for the column host_response_time\n",
    "resp_dict = {\n",
    "    'within an hour': 1,\n",
    "    'within a few hours' : .75,\n",
    "    'within a day' : .5,\n",
    "    'a few days or more' : .25\n",
    "}\n",
    "\n",
    "df_list['host_response_time_val'] = df_list['host_response_time'].apply(lambda x: resp_dict[x] if isinstance(x, str) else x).astype(float)\n",
    "\n",
    "\n",
    "# Prepare and extend the column amenities\n",
    "df_list['amenities'] = df_list['amenities'].apply(lambda x: x.replace('\"', '').replace('{', '').replace('}', '').replace('/', '_').replace('(s)', ''))\n",
    "df_list['amenities'] = df_list['amenities'].apply(lambda x: x.lower())\n",
    "df_list['amenities'] = df_list['amenities'].apply(lambda x: x.replace(' ', '_'))\n",
    "\n",
    "temp_df = df_list['amenities'].str.get_dummies(sep=',')\n",
    "\n",
    "new_cols = []\n",
    "for entry in temp_df.columns:\n",
    "    new_cols.append('amenity_' + entry)\n",
    "\n",
    "temp_df.columns = new_cols\n",
    "\n",
    "df_list = pd.concat([df_list, temp_df], axis = 1) "
   ]
  },
  {
   "cell_type": "code",
   "execution_count": 357,
   "metadata": {},
   "outputs": [],
   "source": [
    "# drop columns that are not further considered or needed\n",
    "col_drop = ['thumbnail_url',\n",
    "            'medium_url',\n",
    "            'xl_picture_url',\n",
    "            'host_location',\n",
    "            'host_verifications',\n",
    "            'state',\n",
    "            'market',\n",
    "            'smart_location',\n",
    "            'country_code',\n",
    "            'country',\n",
    "            'jurisdiction_names',\n",
    "            'price',\n",
    "            'extra_people',\n",
    "            'weekly_price',\n",
    "            'monthly_price',\n",
    "            'security_deposit',\n",
    "            'cleaning_fee',\n",
    "            'host_response_time',\n",
    "            'amenities']\n",
    "\n",
    "df_list = df_list.drop(columns=col_drop)\n",
    "\n",
    "# calculate the price per accomodate\n",
    "df_list['price_p_accom'] = df_list['price_usd'] / df_list['accommodates']"
   ]
  },
  {
   "cell_type": "code",
   "execution_count": 358,
   "metadata": {},
   "outputs": [
    {
     "data": {
      "text/html": [
       "<div>\n",
       "<style scoped>\n",
       "    .dataframe tbody tr th:only-of-type {\n",
       "        vertical-align: middle;\n",
       "    }\n",
       "\n",
       "    .dataframe tbody tr th {\n",
       "        vertical-align: top;\n",
       "    }\n",
       "\n",
       "    .dataframe thead th {\n",
       "        text-align: right;\n",
       "    }\n",
       "</style>\n",
       "<table border=\"1\" class=\"dataframe\">\n",
       "  <thead>\n",
       "    <tr style=\"text-align: right;\">\n",
       "      <th></th>\n",
       "      <th>listing_id</th>\n",
       "      <th>listing_url</th>\n",
       "      <th>scrape_id</th>\n",
       "      <th>last_scraped</th>\n",
       "      <th>name</th>\n",
       "      <th>summary</th>\n",
       "      <th>space</th>\n",
       "      <th>description</th>\n",
       "      <th>experiences_offered</th>\n",
       "      <th>neighborhood_overview</th>\n",
       "      <th>notes</th>\n",
       "      <th>transit</th>\n",
       "      <th>picture_url</th>\n",
       "      <th>host_id</th>\n",
       "      <th>host_url</th>\n",
       "      <th>host_name</th>\n",
       "      <th>host_since</th>\n",
       "      <th>host_about</th>\n",
       "      <th>host_response_rate</th>\n",
       "      <th>host_acceptance_rate</th>\n",
       "      <th>host_is_superhost</th>\n",
       "      <th>host_thumbnail_url</th>\n",
       "      <th>host_picture_url</th>\n",
       "      <th>host_neighbourhood</th>\n",
       "      <th>host_listings_count</th>\n",
       "      <th>host_total_listings_count</th>\n",
       "      <th>host_has_profile_pic</th>\n",
       "      <th>host_identity_verified</th>\n",
       "      <th>street</th>\n",
       "      <th>neighbourhood</th>\n",
       "      <th>neighbourhood_cleansed</th>\n",
       "      <th>neighbourhood_group_cleansed</th>\n",
       "      <th>city</th>\n",
       "      <th>zipcode</th>\n",
       "      <th>latitude</th>\n",
       "      <th>longitude</th>\n",
       "      <th>is_location_exact</th>\n",
       "      <th>property_type</th>\n",
       "      <th>room_type</th>\n",
       "      <th>accommodates</th>\n",
       "      <th>bathrooms</th>\n",
       "      <th>bedrooms</th>\n",
       "      <th>beds</th>\n",
       "      <th>bed_type</th>\n",
       "      <th>square_feet</th>\n",
       "      <th>guests_included</th>\n",
       "      <th>minimum_nights</th>\n",
       "      <th>maximum_nights</th>\n",
       "      <th>calendar_updated</th>\n",
       "      <th>has_availability</th>\n",
       "      <th>availability_30</th>\n",
       "      <th>availability_60</th>\n",
       "      <th>availability_90</th>\n",
       "      <th>availability_365</th>\n",
       "      <th>calendar_last_scraped</th>\n",
       "      <th>number_of_reviews</th>\n",
       "      <th>first_review</th>\n",
       "      <th>last_review</th>\n",
       "      <th>review_scores_rating</th>\n",
       "      <th>review_scores_accuracy</th>\n",
       "      <th>review_scores_cleanliness</th>\n",
       "      <th>review_scores_checkin</th>\n",
       "      <th>review_scores_communication</th>\n",
       "      <th>review_scores_location</th>\n",
       "      <th>review_scores_value</th>\n",
       "      <th>requires_license</th>\n",
       "      <th>license</th>\n",
       "      <th>instant_bookable</th>\n",
       "      <th>cancellation_policy</th>\n",
       "      <th>require_guest_profile_picture</th>\n",
       "      <th>require_guest_phone_verification</th>\n",
       "      <th>calculated_host_listings_count</th>\n",
       "      <th>reviews_per_month</th>\n",
       "      <th>price_usd</th>\n",
       "      <th>extra_people_usd</th>\n",
       "      <th>weekly_price_usd</th>\n",
       "      <th>monthly_price_usd</th>\n",
       "      <th>security_deposit_usd</th>\n",
       "      <th>cleaning_fee_usd</th>\n",
       "      <th>host_response_time_val</th>\n",
       "      <th>amenity_24-hour_check-in</th>\n",
       "      <th>amenity_air_conditioning</th>\n",
       "      <th>amenity_breakfast</th>\n",
       "      <th>amenity_buzzer_wireless_intercom</th>\n",
       "      <th>amenity_cable_tv</th>\n",
       "      <th>amenity_carbon_monoxide_detector</th>\n",
       "      <th>amenity_cat</th>\n",
       "      <th>amenity_dog</th>\n",
       "      <th>amenity_doorman</th>\n",
       "      <th>amenity_dryer</th>\n",
       "      <th>amenity_elevator_in_building</th>\n",
       "      <th>amenity_essentials</th>\n",
       "      <th>amenity_family_kid_friendly</th>\n",
       "      <th>amenity_fire_extinguisher</th>\n",
       "      <th>amenity_first_aid_kit</th>\n",
       "      <th>amenity_free_parking_on_premises</th>\n",
       "      <th>amenity_gym</th>\n",
       "      <th>amenity_hair_dryer</th>\n",
       "      <th>amenity_hangers</th>\n",
       "      <th>amenity_heating</th>\n",
       "      <th>amenity_hot_tub</th>\n",
       "      <th>amenity_indoor_fireplace</th>\n",
       "      <th>amenity_internet</th>\n",
       "      <th>amenity_iron</th>\n",
       "      <th>amenity_kitchen</th>\n",
       "      <th>amenity_laptop_friendly_workspace</th>\n",
       "      <th>amenity_lock_on_bedroom_door</th>\n",
       "      <th>amenity_other_pet</th>\n",
       "      <th>amenity_pets_allowed</th>\n",
       "      <th>amenity_pets_live_on_this_property</th>\n",
       "      <th>amenity_pool</th>\n",
       "      <th>amenity_safety_card</th>\n",
       "      <th>amenity_shampoo</th>\n",
       "      <th>amenity_smoke_detector</th>\n",
       "      <th>amenity_smoking_allowed</th>\n",
       "      <th>amenity_suitable_for_events</th>\n",
       "      <th>amenity_tv</th>\n",
       "      <th>amenity_washer</th>\n",
       "      <th>amenity_washer___dryer</th>\n",
       "      <th>amenity_wheelchair_accessible</th>\n",
       "      <th>amenity_wireless_internet</th>\n",
       "      <th>price_p_accom</th>\n",
       "    </tr>\n",
       "  </thead>\n",
       "  <tbody>\n",
       "    <tr>\n",
       "      <th>0</th>\n",
       "      <td>241032</td>\n",
       "      <td>https://www.airbnb.com/rooms/241032</td>\n",
       "      <td>20160104002432</td>\n",
       "      <td>2016-01-04</td>\n",
       "      <td>Stylish Queen Anne Apartment</td>\n",
       "      <td>NaN</td>\n",
       "      <td>Make your self at home in this charming one-be...</td>\n",
       "      <td>Make your self at home in this charming one-be...</td>\n",
       "      <td>none</td>\n",
       "      <td>NaN</td>\n",
       "      <td>NaN</td>\n",
       "      <td>NaN</td>\n",
       "      <td>https://a1.muscache.com/ac/pictures/67560560/c...</td>\n",
       "      <td>956883</td>\n",
       "      <td>https://www.airbnb.com/users/show/956883</td>\n",
       "      <td>Maija</td>\n",
       "      <td>2011-08-11</td>\n",
       "      <td>I am an artist, interior designer, and run a s...</td>\n",
       "      <td>96.0</td>\n",
       "      <td>100.0</td>\n",
       "      <td>False</td>\n",
       "      <td>https://a0.muscache.com/ac/users/956883/profil...</td>\n",
       "      <td>https://a0.muscache.com/ac/users/956883/profil...</td>\n",
       "      <td>Queen Anne</td>\n",
       "      <td>3.0</td>\n",
       "      <td>3.0</td>\n",
       "      <td>True</td>\n",
       "      <td>True</td>\n",
       "      <td>Gilman Dr W, Seattle, WA 98119, United States</td>\n",
       "      <td>Queen Anne</td>\n",
       "      <td>West Queen Anne</td>\n",
       "      <td>Queen Anne</td>\n",
       "      <td>Seattle</td>\n",
       "      <td>98119</td>\n",
       "      <td>47.636289</td>\n",
       "      <td>-122.371025</td>\n",
       "      <td>True</td>\n",
       "      <td>Apartment</td>\n",
       "      <td>Entire home/apt</td>\n",
       "      <td>4</td>\n",
       "      <td>1.0</td>\n",
       "      <td>1.0</td>\n",
       "      <td>1.0</td>\n",
       "      <td>Real Bed</td>\n",
       "      <td>NaN</td>\n",
       "      <td>2</td>\n",
       "      <td>1</td>\n",
       "      <td>365</td>\n",
       "      <td>4 weeks ago</td>\n",
       "      <td>True</td>\n",
       "      <td>14</td>\n",
       "      <td>41</td>\n",
       "      <td>71</td>\n",
       "      <td>346</td>\n",
       "      <td>2016-01-04</td>\n",
       "      <td>207</td>\n",
       "      <td>2011-11-01</td>\n",
       "      <td>2016-01-02</td>\n",
       "      <td>95.0</td>\n",
       "      <td>10.0</td>\n",
       "      <td>10.0</td>\n",
       "      <td>10.0</td>\n",
       "      <td>10.0</td>\n",
       "      <td>9.0</td>\n",
       "      <td>10.0</td>\n",
       "      <td>False</td>\n",
       "      <td>NaN</td>\n",
       "      <td>False</td>\n",
       "      <td>moderate</td>\n",
       "      <td>False</td>\n",
       "      <td>False</td>\n",
       "      <td>2</td>\n",
       "      <td>4.07</td>\n",
       "      <td>85.0</td>\n",
       "      <td>5.0</td>\n",
       "      <td>NaN</td>\n",
       "      <td>NaN</td>\n",
       "      <td>NaN</td>\n",
       "      <td>NaN</td>\n",
       "      <td>0.75</td>\n",
       "      <td>0</td>\n",
       "      <td>1</td>\n",
       "      <td>0</td>\n",
       "      <td>0</td>\n",
       "      <td>1</td>\n",
       "      <td>0</td>\n",
       "      <td>0</td>\n",
       "      <td>0</td>\n",
       "      <td>0</td>\n",
       "      <td>1</td>\n",
       "      <td>0</td>\n",
       "      <td>0</td>\n",
       "      <td>1</td>\n",
       "      <td>0</td>\n",
       "      <td>0</td>\n",
       "      <td>0</td>\n",
       "      <td>0</td>\n",
       "      <td>0</td>\n",
       "      <td>0</td>\n",
       "      <td>1</td>\n",
       "      <td>0</td>\n",
       "      <td>0</td>\n",
       "      <td>1</td>\n",
       "      <td>0</td>\n",
       "      <td>1</td>\n",
       "      <td>0</td>\n",
       "      <td>0</td>\n",
       "      <td>0</td>\n",
       "      <td>0</td>\n",
       "      <td>0</td>\n",
       "      <td>0</td>\n",
       "      <td>0</td>\n",
       "      <td>0</td>\n",
       "      <td>0</td>\n",
       "      <td>0</td>\n",
       "      <td>0</td>\n",
       "      <td>1</td>\n",
       "      <td>1</td>\n",
       "      <td>0</td>\n",
       "      <td>0</td>\n",
       "      <td>1</td>\n",
       "      <td>21.250000</td>\n",
       "    </tr>\n",
       "    <tr>\n",
       "      <th>1</th>\n",
       "      <td>953595</td>\n",
       "      <td>https://www.airbnb.com/rooms/953595</td>\n",
       "      <td>20160104002432</td>\n",
       "      <td>2016-01-04</td>\n",
       "      <td>Bright &amp; Airy Queen Anne Apartment</td>\n",
       "      <td>Chemically sensitive? We've removed the irrita...</td>\n",
       "      <td>Beautiful, hypoallergenic apartment in an extr...</td>\n",
       "      <td>Chemically sensitive? We've removed the irrita...</td>\n",
       "      <td>none</td>\n",
       "      <td>Queen Anne is a wonderful, truly functional vi...</td>\n",
       "      <td>What's up with the free pillows?  Our home was...</td>\n",
       "      <td>Convenient bus stops are just down the block, ...</td>\n",
       "      <td>https://a0.muscache.com/ac/pictures/14409893/f...</td>\n",
       "      <td>5177328</td>\n",
       "      <td>https://www.airbnb.com/users/show/5177328</td>\n",
       "      <td>Andrea</td>\n",
       "      <td>2013-02-21</td>\n",
       "      <td>Living east coast/left coast/overseas.  Time i...</td>\n",
       "      <td>98.0</td>\n",
       "      <td>100.0</td>\n",
       "      <td>True</td>\n",
       "      <td>https://a0.muscache.com/ac/users/5177328/profi...</td>\n",
       "      <td>https://a0.muscache.com/ac/users/5177328/profi...</td>\n",
       "      <td>Queen Anne</td>\n",
       "      <td>6.0</td>\n",
       "      <td>6.0</td>\n",
       "      <td>True</td>\n",
       "      <td>True</td>\n",
       "      <td>7th Avenue West, Seattle, WA 98119, United States</td>\n",
       "      <td>Queen Anne</td>\n",
       "      <td>West Queen Anne</td>\n",
       "      <td>Queen Anne</td>\n",
       "      <td>Seattle</td>\n",
       "      <td>98119</td>\n",
       "      <td>47.639123</td>\n",
       "      <td>-122.365666</td>\n",
       "      <td>True</td>\n",
       "      <td>Apartment</td>\n",
       "      <td>Entire home/apt</td>\n",
       "      <td>4</td>\n",
       "      <td>1.0</td>\n",
       "      <td>1.0</td>\n",
       "      <td>1.0</td>\n",
       "      <td>Real Bed</td>\n",
       "      <td>NaN</td>\n",
       "      <td>1</td>\n",
       "      <td>2</td>\n",
       "      <td>90</td>\n",
       "      <td>today</td>\n",
       "      <td>True</td>\n",
       "      <td>13</td>\n",
       "      <td>13</td>\n",
       "      <td>16</td>\n",
       "      <td>291</td>\n",
       "      <td>2016-01-04</td>\n",
       "      <td>43</td>\n",
       "      <td>2013-08-19</td>\n",
       "      <td>2015-12-29</td>\n",
       "      <td>96.0</td>\n",
       "      <td>10.0</td>\n",
       "      <td>10.0</td>\n",
       "      <td>10.0</td>\n",
       "      <td>10.0</td>\n",
       "      <td>10.0</td>\n",
       "      <td>10.0</td>\n",
       "      <td>False</td>\n",
       "      <td>NaN</td>\n",
       "      <td>False</td>\n",
       "      <td>strict</td>\n",
       "      <td>True</td>\n",
       "      <td>True</td>\n",
       "      <td>6</td>\n",
       "      <td>1.48</td>\n",
       "      <td>150.0</td>\n",
       "      <td>0.0</td>\n",
       "      <td>1000.0</td>\n",
       "      <td>3000.0</td>\n",
       "      <td>100.0</td>\n",
       "      <td>40.0</td>\n",
       "      <td>1.00</td>\n",
       "      <td>0</td>\n",
       "      <td>0</td>\n",
       "      <td>0</td>\n",
       "      <td>1</td>\n",
       "      <td>0</td>\n",
       "      <td>1</td>\n",
       "      <td>0</td>\n",
       "      <td>0</td>\n",
       "      <td>0</td>\n",
       "      <td>1</td>\n",
       "      <td>0</td>\n",
       "      <td>1</td>\n",
       "      <td>1</td>\n",
       "      <td>1</td>\n",
       "      <td>1</td>\n",
       "      <td>1</td>\n",
       "      <td>0</td>\n",
       "      <td>0</td>\n",
       "      <td>0</td>\n",
       "      <td>1</td>\n",
       "      <td>0</td>\n",
       "      <td>0</td>\n",
       "      <td>1</td>\n",
       "      <td>0</td>\n",
       "      <td>1</td>\n",
       "      <td>0</td>\n",
       "      <td>0</td>\n",
       "      <td>0</td>\n",
       "      <td>0</td>\n",
       "      <td>0</td>\n",
       "      <td>0</td>\n",
       "      <td>1</td>\n",
       "      <td>0</td>\n",
       "      <td>1</td>\n",
       "      <td>0</td>\n",
       "      <td>0</td>\n",
       "      <td>1</td>\n",
       "      <td>1</td>\n",
       "      <td>0</td>\n",
       "      <td>0</td>\n",
       "      <td>1</td>\n",
       "      <td>37.500000</td>\n",
       "    </tr>\n",
       "    <tr>\n",
       "      <th>2</th>\n",
       "      <td>3308979</td>\n",
       "      <td>https://www.airbnb.com/rooms/3308979</td>\n",
       "      <td>20160104002432</td>\n",
       "      <td>2016-01-04</td>\n",
       "      <td>New Modern House-Amazing water view</td>\n",
       "      <td>New modern house built in 2013.  Spectacular s...</td>\n",
       "      <td>Our house is modern, light and fresh with a wa...</td>\n",
       "      <td>New modern house built in 2013.  Spectacular s...</td>\n",
       "      <td>none</td>\n",
       "      <td>Upper Queen Anne is a charming neighborhood fu...</td>\n",
       "      <td>Our house is located just 5 short blocks to To...</td>\n",
       "      <td>A bus stop is just 2 blocks away.   Easy bus a...</td>\n",
       "      <td>https://a2.muscache.com/ac/pictures/b4324e0f-a...</td>\n",
       "      <td>16708587</td>\n",
       "      <td>https://www.airbnb.com/users/show/16708587</td>\n",
       "      <td>Jill</td>\n",
       "      <td>2014-06-12</td>\n",
       "      <td>i love living in Seattle.  i grew up in the mi...</td>\n",
       "      <td>67.0</td>\n",
       "      <td>100.0</td>\n",
       "      <td>False</td>\n",
       "      <td>https://a1.muscache.com/ac/users/16708587/prof...</td>\n",
       "      <td>https://a1.muscache.com/ac/users/16708587/prof...</td>\n",
       "      <td>Queen Anne</td>\n",
       "      <td>2.0</td>\n",
       "      <td>2.0</td>\n",
       "      <td>True</td>\n",
       "      <td>True</td>\n",
       "      <td>West Lee Street, Seattle, WA 98119, United States</td>\n",
       "      <td>Queen Anne</td>\n",
       "      <td>West Queen Anne</td>\n",
       "      <td>Queen Anne</td>\n",
       "      <td>Seattle</td>\n",
       "      <td>98119</td>\n",
       "      <td>47.629724</td>\n",
       "      <td>-122.369483</td>\n",
       "      <td>True</td>\n",
       "      <td>House</td>\n",
       "      <td>Entire home/apt</td>\n",
       "      <td>11</td>\n",
       "      <td>4.5</td>\n",
       "      <td>5.0</td>\n",
       "      <td>7.0</td>\n",
       "      <td>Real Bed</td>\n",
       "      <td>NaN</td>\n",
       "      <td>10</td>\n",
       "      <td>4</td>\n",
       "      <td>30</td>\n",
       "      <td>5 weeks ago</td>\n",
       "      <td>True</td>\n",
       "      <td>1</td>\n",
       "      <td>6</td>\n",
       "      <td>17</td>\n",
       "      <td>220</td>\n",
       "      <td>2016-01-04</td>\n",
       "      <td>20</td>\n",
       "      <td>2014-07-30</td>\n",
       "      <td>2015-09-03</td>\n",
       "      <td>97.0</td>\n",
       "      <td>10.0</td>\n",
       "      <td>10.0</td>\n",
       "      <td>10.0</td>\n",
       "      <td>10.0</td>\n",
       "      <td>10.0</td>\n",
       "      <td>10.0</td>\n",
       "      <td>False</td>\n",
       "      <td>NaN</td>\n",
       "      <td>False</td>\n",
       "      <td>strict</td>\n",
       "      <td>False</td>\n",
       "      <td>False</td>\n",
       "      <td>2</td>\n",
       "      <td>1.15</td>\n",
       "      <td>975.0</td>\n",
       "      <td>25.0</td>\n",
       "      <td>NaN</td>\n",
       "      <td>NaN</td>\n",
       "      <td>1000.0</td>\n",
       "      <td>300.0</td>\n",
       "      <td>0.75</td>\n",
       "      <td>0</td>\n",
       "      <td>1</td>\n",
       "      <td>0</td>\n",
       "      <td>0</td>\n",
       "      <td>1</td>\n",
       "      <td>1</td>\n",
       "      <td>1</td>\n",
       "      <td>1</td>\n",
       "      <td>0</td>\n",
       "      <td>1</td>\n",
       "      <td>0</td>\n",
       "      <td>1</td>\n",
       "      <td>1</td>\n",
       "      <td>0</td>\n",
       "      <td>0</td>\n",
       "      <td>1</td>\n",
       "      <td>0</td>\n",
       "      <td>0</td>\n",
       "      <td>0</td>\n",
       "      <td>1</td>\n",
       "      <td>1</td>\n",
       "      <td>1</td>\n",
       "      <td>1</td>\n",
       "      <td>0</td>\n",
       "      <td>1</td>\n",
       "      <td>0</td>\n",
       "      <td>0</td>\n",
       "      <td>0</td>\n",
       "      <td>1</td>\n",
       "      <td>1</td>\n",
       "      <td>0</td>\n",
       "      <td>0</td>\n",
       "      <td>1</td>\n",
       "      <td>1</td>\n",
       "      <td>0</td>\n",
       "      <td>0</td>\n",
       "      <td>1</td>\n",
       "      <td>1</td>\n",
       "      <td>0</td>\n",
       "      <td>0</td>\n",
       "      <td>1</td>\n",
       "      <td>88.636364</td>\n",
       "    </tr>\n",
       "  </tbody>\n",
       "</table>\n",
       "</div>"
      ],
      "text/plain": [
       "   listing_id                           listing_url       scrape_id  \\\n",
       "0      241032   https://www.airbnb.com/rooms/241032  20160104002432   \n",
       "1      953595   https://www.airbnb.com/rooms/953595  20160104002432   \n",
       "2     3308979  https://www.airbnb.com/rooms/3308979  20160104002432   \n",
       "\n",
       "  last_scraped                                 name  \\\n",
       "0   2016-01-04         Stylish Queen Anne Apartment   \n",
       "1   2016-01-04   Bright & Airy Queen Anne Apartment   \n",
       "2   2016-01-04  New Modern House-Amazing water view   \n",
       "\n",
       "                                             summary  \\\n",
       "0                                                NaN   \n",
       "1  Chemically sensitive? We've removed the irrita...   \n",
       "2  New modern house built in 2013.  Spectacular s...   \n",
       "\n",
       "                                               space  \\\n",
       "0  Make your self at home in this charming one-be...   \n",
       "1  Beautiful, hypoallergenic apartment in an extr...   \n",
       "2  Our house is modern, light and fresh with a wa...   \n",
       "\n",
       "                                         description experiences_offered  \\\n",
       "0  Make your self at home in this charming one-be...                none   \n",
       "1  Chemically sensitive? We've removed the irrita...                none   \n",
       "2  New modern house built in 2013.  Spectacular s...                none   \n",
       "\n",
       "                               neighborhood_overview  \\\n",
       "0                                                NaN   \n",
       "1  Queen Anne is a wonderful, truly functional vi...   \n",
       "2  Upper Queen Anne is a charming neighborhood fu...   \n",
       "\n",
       "                                               notes  \\\n",
       "0                                                NaN   \n",
       "1  What's up with the free pillows?  Our home was...   \n",
       "2  Our house is located just 5 short blocks to To...   \n",
       "\n",
       "                                             transit  \\\n",
       "0                                                NaN   \n",
       "1  Convenient bus stops are just down the block, ...   \n",
       "2  A bus stop is just 2 blocks away.   Easy bus a...   \n",
       "\n",
       "                                         picture_url   host_id  \\\n",
       "0  https://a1.muscache.com/ac/pictures/67560560/c...    956883   \n",
       "1  https://a0.muscache.com/ac/pictures/14409893/f...   5177328   \n",
       "2  https://a2.muscache.com/ac/pictures/b4324e0f-a...  16708587   \n",
       "\n",
       "                                     host_url host_name host_since  \\\n",
       "0    https://www.airbnb.com/users/show/956883     Maija 2011-08-11   \n",
       "1   https://www.airbnb.com/users/show/5177328    Andrea 2013-02-21   \n",
       "2  https://www.airbnb.com/users/show/16708587      Jill 2014-06-12   \n",
       "\n",
       "                                          host_about  host_response_rate  \\\n",
       "0  I am an artist, interior designer, and run a s...                96.0   \n",
       "1  Living east coast/left coast/overseas.  Time i...                98.0   \n",
       "2  i love living in Seattle.  i grew up in the mi...                67.0   \n",
       "\n",
       "   host_acceptance_rate  host_is_superhost  \\\n",
       "0                 100.0              False   \n",
       "1                 100.0               True   \n",
       "2                 100.0              False   \n",
       "\n",
       "                                  host_thumbnail_url  \\\n",
       "0  https://a0.muscache.com/ac/users/956883/profil...   \n",
       "1  https://a0.muscache.com/ac/users/5177328/profi...   \n",
       "2  https://a1.muscache.com/ac/users/16708587/prof...   \n",
       "\n",
       "                                    host_picture_url host_neighbourhood  \\\n",
       "0  https://a0.muscache.com/ac/users/956883/profil...         Queen Anne   \n",
       "1  https://a0.muscache.com/ac/users/5177328/profi...         Queen Anne   \n",
       "2  https://a1.muscache.com/ac/users/16708587/prof...         Queen Anne   \n",
       "\n",
       "   host_listings_count  host_total_listings_count  host_has_profile_pic  \\\n",
       "0                  3.0                        3.0                  True   \n",
       "1                  6.0                        6.0                  True   \n",
       "2                  2.0                        2.0                  True   \n",
       "\n",
       "   host_identity_verified                                             street  \\\n",
       "0                    True      Gilman Dr W, Seattle, WA 98119, United States   \n",
       "1                    True  7th Avenue West, Seattle, WA 98119, United States   \n",
       "2                    True  West Lee Street, Seattle, WA 98119, United States   \n",
       "\n",
       "  neighbourhood neighbourhood_cleansed neighbourhood_group_cleansed     city  \\\n",
       "0    Queen Anne        West Queen Anne                   Queen Anne  Seattle   \n",
       "1    Queen Anne        West Queen Anne                   Queen Anne  Seattle   \n",
       "2    Queen Anne        West Queen Anne                   Queen Anne  Seattle   \n",
       "\n",
       "  zipcode   latitude   longitude  is_location_exact property_type  \\\n",
       "0   98119  47.636289 -122.371025               True     Apartment   \n",
       "1   98119  47.639123 -122.365666               True     Apartment   \n",
       "2   98119  47.629724 -122.369483               True         House   \n",
       "\n",
       "         room_type  accommodates  bathrooms  bedrooms  beds  bed_type  \\\n",
       "0  Entire home/apt             4        1.0       1.0   1.0  Real Bed   \n",
       "1  Entire home/apt             4        1.0       1.0   1.0  Real Bed   \n",
       "2  Entire home/apt            11        4.5       5.0   7.0  Real Bed   \n",
       "\n",
       "   square_feet  guests_included  minimum_nights  maximum_nights  \\\n",
       "0          NaN                2               1             365   \n",
       "1          NaN                1               2              90   \n",
       "2          NaN               10               4              30   \n",
       "\n",
       "  calendar_updated  has_availability  availability_30  availability_60  \\\n",
       "0      4 weeks ago              True               14               41   \n",
       "1            today              True               13               13   \n",
       "2      5 weeks ago              True                1                6   \n",
       "\n",
       "   availability_90  availability_365 calendar_last_scraped  number_of_reviews  \\\n",
       "0               71               346            2016-01-04                207   \n",
       "1               16               291            2016-01-04                 43   \n",
       "2               17               220            2016-01-04                 20   \n",
       "\n",
       "  first_review last_review  review_scores_rating  review_scores_accuracy  \\\n",
       "0   2011-11-01  2016-01-02                  95.0                    10.0   \n",
       "1   2013-08-19  2015-12-29                  96.0                    10.0   \n",
       "2   2014-07-30  2015-09-03                  97.0                    10.0   \n",
       "\n",
       "   review_scores_cleanliness  review_scores_checkin  \\\n",
       "0                       10.0                   10.0   \n",
       "1                       10.0                   10.0   \n",
       "2                       10.0                   10.0   \n",
       "\n",
       "   review_scores_communication  review_scores_location  review_scores_value  \\\n",
       "0                         10.0                     9.0                 10.0   \n",
       "1                         10.0                    10.0                 10.0   \n",
       "2                         10.0                    10.0                 10.0   \n",
       "\n",
       "   requires_license  license  instant_bookable cancellation_policy  \\\n",
       "0             False      NaN             False            moderate   \n",
       "1             False      NaN             False              strict   \n",
       "2             False      NaN             False              strict   \n",
       "\n",
       "   require_guest_profile_picture  require_guest_phone_verification  \\\n",
       "0                          False                             False   \n",
       "1                           True                              True   \n",
       "2                          False                             False   \n",
       "\n",
       "   calculated_host_listings_count  reviews_per_month  price_usd  \\\n",
       "0                               2               4.07       85.0   \n",
       "1                               6               1.48      150.0   \n",
       "2                               2               1.15      975.0   \n",
       "\n",
       "   extra_people_usd  weekly_price_usd  monthly_price_usd  \\\n",
       "0               5.0               NaN                NaN   \n",
       "1               0.0            1000.0             3000.0   \n",
       "2              25.0               NaN                NaN   \n",
       "\n",
       "   security_deposit_usd  cleaning_fee_usd  host_response_time_val  \\\n",
       "0                   NaN               NaN                    0.75   \n",
       "1                 100.0              40.0                    1.00   \n",
       "2                1000.0             300.0                    0.75   \n",
       "\n",
       "   amenity_24-hour_check-in  amenity_air_conditioning  amenity_breakfast  \\\n",
       "0                         0                         1                  0   \n",
       "1                         0                         0                  0   \n",
       "2                         0                         1                  0   \n",
       "\n",
       "   amenity_buzzer_wireless_intercom  amenity_cable_tv  \\\n",
       "0                                 0                 1   \n",
       "1                                 1                 0   \n",
       "2                                 0                 1   \n",
       "\n",
       "   amenity_carbon_monoxide_detector  amenity_cat  amenity_dog  \\\n",
       "0                                 0            0            0   \n",
       "1                                 1            0            0   \n",
       "2                                 1            1            1   \n",
       "\n",
       "   amenity_doorman  amenity_dryer  amenity_elevator_in_building  \\\n",
       "0                0              1                             0   \n",
       "1                0              1                             0   \n",
       "2                0              1                             0   \n",
       "\n",
       "   amenity_essentials  amenity_family_kid_friendly  amenity_fire_extinguisher  \\\n",
       "0                   0                            1                          0   \n",
       "1                   1                            1                          1   \n",
       "2                   1                            1                          0   \n",
       "\n",
       "   amenity_first_aid_kit  amenity_free_parking_on_premises  amenity_gym  \\\n",
       "0                      0                                 0            0   \n",
       "1                      1                                 1            0   \n",
       "2                      0                                 1            0   \n",
       "\n",
       "   amenity_hair_dryer  amenity_hangers  amenity_heating  amenity_hot_tub  \\\n",
       "0                   0                0                1                0   \n",
       "1                   0                0                1                0   \n",
       "2                   0                0                1                1   \n",
       "\n",
       "   amenity_indoor_fireplace  amenity_internet  amenity_iron  amenity_kitchen  \\\n",
       "0                         0                 1             0                1   \n",
       "1                         0                 1             0                1   \n",
       "2                         1                 1             0                1   \n",
       "\n",
       "   amenity_laptop_friendly_workspace  amenity_lock_on_bedroom_door  \\\n",
       "0                                  0                             0   \n",
       "1                                  0                             0   \n",
       "2                                  0                             0   \n",
       "\n",
       "   amenity_other_pet  amenity_pets_allowed  \\\n",
       "0                  0                     0   \n",
       "1                  0                     0   \n",
       "2                  0                     1   \n",
       "\n",
       "   amenity_pets_live_on_this_property  amenity_pool  amenity_safety_card  \\\n",
       "0                                   0             0                    0   \n",
       "1                                   0             0                    1   \n",
       "2                                   1             0                    0   \n",
       "\n",
       "   amenity_shampoo  amenity_smoke_detector  amenity_smoking_allowed  \\\n",
       "0                0                       0                        0   \n",
       "1                0                       1                        0   \n",
       "2                1                       1                        0   \n",
       "\n",
       "   amenity_suitable_for_events  amenity_tv  amenity_washer  \\\n",
       "0                            0           1               1   \n",
       "1                            0           1               1   \n",
       "2                            0           1               1   \n",
       "\n",
       "   amenity_washer___dryer  amenity_wheelchair_accessible  \\\n",
       "0                       0                              0   \n",
       "1                       0                              0   \n",
       "2                       0                              0   \n",
       "\n",
       "   amenity_wireless_internet  price_p_accom  \n",
       "0                          1      21.250000  \n",
       "1                          1      37.500000  \n",
       "2                          1      88.636364  "
      ]
     },
     "execution_count": 358,
     "metadata": {},
     "output_type": "execute_result"
    }
   ],
   "source": [
    "df_list.head(3)"
   ]
  },
  {
   "cell_type": "code",
   "execution_count": 359,
   "metadata": {},
   "outputs": [
    {
     "data": {
      "text/plain": [
       "(3818, 122)"
      ]
     },
     "execution_count": 359,
     "metadata": {},
     "output_type": "execute_result"
    }
   ],
   "source": [
    "df_list.shape"
   ]
  },
  {
   "cell_type": "code",
   "execution_count": 360,
   "metadata": {},
   "outputs": [
    {
     "data": {
      "text/plain": [
       "0.9745940282870613"
      ]
     },
     "execution_count": 360,
     "metadata": {},
     "output_type": "execute_result"
    }
   ],
   "source": [
    "nr_entries = df_list.shape[0]\n",
    "df_list.square_feet.isna().sum() / nr_entries"
   ]
  },
  {
   "cell_type": "markdown",
   "metadata": {},
   "source": [
    "---"
   ]
  },
  {
   "cell_type": "code",
   "execution_count": 361,
   "metadata": {},
   "outputs": [
    {
     "data": {
      "text/html": [
       "<div>\n",
       "<style scoped>\n",
       "    .dataframe tbody tr th:only-of-type {\n",
       "        vertical-align: middle;\n",
       "    }\n",
       "\n",
       "    .dataframe tbody tr th {\n",
       "        vertical-align: top;\n",
       "    }\n",
       "\n",
       "    .dataframe thead th {\n",
       "        text-align: right;\n",
       "    }\n",
       "</style>\n",
       "<table border=\"1\" class=\"dataframe\">\n",
       "  <thead>\n",
       "    <tr style=\"text-align: right;\">\n",
       "      <th></th>\n",
       "      <th>listing_id</th>\n",
       "      <th>id</th>\n",
       "      <th>date</th>\n",
       "      <th>reviewer_id</th>\n",
       "      <th>reviewer_name</th>\n",
       "      <th>comments</th>\n",
       "    </tr>\n",
       "  </thead>\n",
       "  <tbody>\n",
       "    <tr>\n",
       "      <th>0</th>\n",
       "      <td>7202016</td>\n",
       "      <td>38917982</td>\n",
       "      <td>2015-07-19</td>\n",
       "      <td>28943674</td>\n",
       "      <td>Bianca</td>\n",
       "      <td>Cute and cozy place. Perfect location to every...</td>\n",
       "    </tr>\n",
       "    <tr>\n",
       "      <th>1</th>\n",
       "      <td>7202016</td>\n",
       "      <td>39087409</td>\n",
       "      <td>2015-07-20</td>\n",
       "      <td>32440555</td>\n",
       "      <td>Frank</td>\n",
       "      <td>Kelly has a great room in a very central locat...</td>\n",
       "    </tr>\n",
       "    <tr>\n",
       "      <th>2</th>\n",
       "      <td>7202016</td>\n",
       "      <td>39820030</td>\n",
       "      <td>2015-07-26</td>\n",
       "      <td>37722850</td>\n",
       "      <td>Ian</td>\n",
       "      <td>Very spacious apartment, and in a great neighb...</td>\n",
       "    </tr>\n",
       "    <tr>\n",
       "      <th>3</th>\n",
       "      <td>7202016</td>\n",
       "      <td>40813543</td>\n",
       "      <td>2015-08-02</td>\n",
       "      <td>33671805</td>\n",
       "      <td>George</td>\n",
       "      <td>Close to Seattle Center and all it has to offe...</td>\n",
       "    </tr>\n",
       "    <tr>\n",
       "      <th>4</th>\n",
       "      <td>7202016</td>\n",
       "      <td>41986501</td>\n",
       "      <td>2015-08-10</td>\n",
       "      <td>34959538</td>\n",
       "      <td>Ming</td>\n",
       "      <td>Kelly was a great host and very accommodating ...</td>\n",
       "    </tr>\n",
       "  </tbody>\n",
       "</table>\n",
       "</div>"
      ],
      "text/plain": [
       "   listing_id        id        date  reviewer_id reviewer_name  \\\n",
       "0     7202016  38917982  2015-07-19     28943674        Bianca   \n",
       "1     7202016  39087409  2015-07-20     32440555         Frank   \n",
       "2     7202016  39820030  2015-07-26     37722850           Ian   \n",
       "3     7202016  40813543  2015-08-02     33671805        George   \n",
       "4     7202016  41986501  2015-08-10     34959538          Ming   \n",
       "\n",
       "                                            comments  \n",
       "0  Cute and cozy place. Perfect location to every...  \n",
       "1  Kelly has a great room in a very central locat...  \n",
       "2  Very spacious apartment, and in a great neighb...  \n",
       "3  Close to Seattle Center and all it has to offe...  \n",
       "4  Kelly was a great host and very accommodating ...  "
      ]
     },
     "execution_count": 361,
     "metadata": {},
     "output_type": "execute_result"
    }
   ],
   "source": [
    "df_rev.head()"
   ]
  },
  {
   "cell_type": "markdown",
   "metadata": {},
   "source": [
    "---\n",
    "Join the calendar and the listing data"
   ]
  },
  {
   "cell_type": "code",
   "execution_count": 362,
   "metadata": {},
   "outputs": [
    {
     "data": {
      "text/html": [
       "<div>\n",
       "<style scoped>\n",
       "    .dataframe tbody tr th:only-of-type {\n",
       "        vertical-align: middle;\n",
       "    }\n",
       "\n",
       "    .dataframe tbody tr th {\n",
       "        vertical-align: top;\n",
       "    }\n",
       "\n",
       "    .dataframe thead th {\n",
       "        text-align: right;\n",
       "    }\n",
       "</style>\n",
       "<table border=\"1\" class=\"dataframe\">\n",
       "  <thead>\n",
       "    <tr style=\"text-align: right;\">\n",
       "      <th></th>\n",
       "      <th>listing_id</th>\n",
       "      <th>date</th>\n",
       "      <th>available</th>\n",
       "      <th>month</th>\n",
       "      <th>month_name</th>\n",
       "      <th>week</th>\n",
       "      <th>price_usd_cal</th>\n",
       "      <th>listing_url</th>\n",
       "      <th>scrape_id</th>\n",
       "      <th>last_scraped</th>\n",
       "      <th>name</th>\n",
       "      <th>summary</th>\n",
       "      <th>space</th>\n",
       "      <th>description</th>\n",
       "      <th>experiences_offered</th>\n",
       "      <th>neighborhood_overview</th>\n",
       "      <th>notes</th>\n",
       "      <th>transit</th>\n",
       "      <th>picture_url</th>\n",
       "      <th>host_id</th>\n",
       "      <th>host_url</th>\n",
       "      <th>host_name</th>\n",
       "      <th>host_since</th>\n",
       "      <th>host_about</th>\n",
       "      <th>host_response_rate</th>\n",
       "      <th>host_acceptance_rate</th>\n",
       "      <th>host_is_superhost</th>\n",
       "      <th>host_thumbnail_url</th>\n",
       "      <th>host_picture_url</th>\n",
       "      <th>host_neighbourhood</th>\n",
       "      <th>host_listings_count</th>\n",
       "      <th>host_total_listings_count</th>\n",
       "      <th>host_has_profile_pic</th>\n",
       "      <th>host_identity_verified</th>\n",
       "      <th>street</th>\n",
       "      <th>neighbourhood</th>\n",
       "      <th>neighbourhood_cleansed</th>\n",
       "      <th>neighbourhood_group_cleansed</th>\n",
       "      <th>city</th>\n",
       "      <th>zipcode</th>\n",
       "      <th>latitude</th>\n",
       "      <th>longitude</th>\n",
       "      <th>is_location_exact</th>\n",
       "      <th>property_type</th>\n",
       "      <th>room_type</th>\n",
       "      <th>accommodates</th>\n",
       "      <th>bathrooms</th>\n",
       "      <th>bedrooms</th>\n",
       "      <th>beds</th>\n",
       "      <th>bed_type</th>\n",
       "      <th>square_feet</th>\n",
       "      <th>guests_included</th>\n",
       "      <th>minimum_nights</th>\n",
       "      <th>maximum_nights</th>\n",
       "      <th>calendar_updated</th>\n",
       "      <th>has_availability</th>\n",
       "      <th>availability_30</th>\n",
       "      <th>availability_60</th>\n",
       "      <th>availability_90</th>\n",
       "      <th>availability_365</th>\n",
       "      <th>calendar_last_scraped</th>\n",
       "      <th>number_of_reviews</th>\n",
       "      <th>first_review</th>\n",
       "      <th>last_review</th>\n",
       "      <th>review_scores_rating</th>\n",
       "      <th>review_scores_accuracy</th>\n",
       "      <th>review_scores_cleanliness</th>\n",
       "      <th>review_scores_checkin</th>\n",
       "      <th>review_scores_communication</th>\n",
       "      <th>review_scores_location</th>\n",
       "      <th>review_scores_value</th>\n",
       "      <th>requires_license</th>\n",
       "      <th>license</th>\n",
       "      <th>instant_bookable</th>\n",
       "      <th>cancellation_policy</th>\n",
       "      <th>require_guest_profile_picture</th>\n",
       "      <th>require_guest_phone_verification</th>\n",
       "      <th>calculated_host_listings_count</th>\n",
       "      <th>reviews_per_month</th>\n",
       "      <th>price_usd</th>\n",
       "      <th>extra_people_usd</th>\n",
       "      <th>weekly_price_usd</th>\n",
       "      <th>monthly_price_usd</th>\n",
       "      <th>security_deposit_usd</th>\n",
       "      <th>cleaning_fee_usd</th>\n",
       "      <th>host_response_time_val</th>\n",
       "      <th>amenity_24-hour_check-in</th>\n",
       "      <th>amenity_air_conditioning</th>\n",
       "      <th>amenity_breakfast</th>\n",
       "      <th>amenity_buzzer_wireless_intercom</th>\n",
       "      <th>amenity_cable_tv</th>\n",
       "      <th>amenity_carbon_monoxide_detector</th>\n",
       "      <th>amenity_cat</th>\n",
       "      <th>amenity_dog</th>\n",
       "      <th>amenity_doorman</th>\n",
       "      <th>amenity_dryer</th>\n",
       "      <th>amenity_elevator_in_building</th>\n",
       "      <th>amenity_essentials</th>\n",
       "      <th>amenity_family_kid_friendly</th>\n",
       "      <th>amenity_fire_extinguisher</th>\n",
       "      <th>amenity_first_aid_kit</th>\n",
       "      <th>amenity_free_parking_on_premises</th>\n",
       "      <th>amenity_gym</th>\n",
       "      <th>amenity_hair_dryer</th>\n",
       "      <th>amenity_hangers</th>\n",
       "      <th>amenity_heating</th>\n",
       "      <th>amenity_hot_tub</th>\n",
       "      <th>amenity_indoor_fireplace</th>\n",
       "      <th>amenity_internet</th>\n",
       "      <th>amenity_iron</th>\n",
       "      <th>amenity_kitchen</th>\n",
       "      <th>amenity_laptop_friendly_workspace</th>\n",
       "      <th>amenity_lock_on_bedroom_door</th>\n",
       "      <th>amenity_other_pet</th>\n",
       "      <th>amenity_pets_allowed</th>\n",
       "      <th>amenity_pets_live_on_this_property</th>\n",
       "      <th>amenity_pool</th>\n",
       "      <th>amenity_safety_card</th>\n",
       "      <th>amenity_shampoo</th>\n",
       "      <th>amenity_smoke_detector</th>\n",
       "      <th>amenity_smoking_allowed</th>\n",
       "      <th>amenity_suitable_for_events</th>\n",
       "      <th>amenity_tv</th>\n",
       "      <th>amenity_washer</th>\n",
       "      <th>amenity_washer___dryer</th>\n",
       "      <th>amenity_wheelchair_accessible</th>\n",
       "      <th>amenity_wireless_internet</th>\n",
       "      <th>price_p_accom</th>\n",
       "    </tr>\n",
       "  </thead>\n",
       "  <tbody>\n",
       "    <tr>\n",
       "      <th>0</th>\n",
       "      <td>241032</td>\n",
       "      <td>2016-01-04</td>\n",
       "      <td>True</td>\n",
       "      <td>1</td>\n",
       "      <td>January</td>\n",
       "      <td>1</td>\n",
       "      <td>85.0</td>\n",
       "      <td>https://www.airbnb.com/rooms/241032</td>\n",
       "      <td>20160104002432</td>\n",
       "      <td>2016-01-04</td>\n",
       "      <td>Stylish Queen Anne Apartment</td>\n",
       "      <td>NaN</td>\n",
       "      <td>Make your self at home in this charming one-be...</td>\n",
       "      <td>Make your self at home in this charming one-be...</td>\n",
       "      <td>none</td>\n",
       "      <td>NaN</td>\n",
       "      <td>NaN</td>\n",
       "      <td>NaN</td>\n",
       "      <td>https://a1.muscache.com/ac/pictures/67560560/c...</td>\n",
       "      <td>956883</td>\n",
       "      <td>https://www.airbnb.com/users/show/956883</td>\n",
       "      <td>Maija</td>\n",
       "      <td>2011-08-11</td>\n",
       "      <td>I am an artist, interior designer, and run a s...</td>\n",
       "      <td>96.0</td>\n",
       "      <td>100.0</td>\n",
       "      <td>False</td>\n",
       "      <td>https://a0.muscache.com/ac/users/956883/profil...</td>\n",
       "      <td>https://a0.muscache.com/ac/users/956883/profil...</td>\n",
       "      <td>Queen Anne</td>\n",
       "      <td>3.0</td>\n",
       "      <td>3.0</td>\n",
       "      <td>True</td>\n",
       "      <td>True</td>\n",
       "      <td>Gilman Dr W, Seattle, WA 98119, United States</td>\n",
       "      <td>Queen Anne</td>\n",
       "      <td>West Queen Anne</td>\n",
       "      <td>Queen Anne</td>\n",
       "      <td>Seattle</td>\n",
       "      <td>98119</td>\n",
       "      <td>47.636289</td>\n",
       "      <td>-122.371025</td>\n",
       "      <td>True</td>\n",
       "      <td>Apartment</td>\n",
       "      <td>Entire home/apt</td>\n",
       "      <td>4</td>\n",
       "      <td>1.0</td>\n",
       "      <td>1.0</td>\n",
       "      <td>1.0</td>\n",
       "      <td>Real Bed</td>\n",
       "      <td>NaN</td>\n",
       "      <td>2</td>\n",
       "      <td>1</td>\n",
       "      <td>365</td>\n",
       "      <td>4 weeks ago</td>\n",
       "      <td>True</td>\n",
       "      <td>14</td>\n",
       "      <td>41</td>\n",
       "      <td>71</td>\n",
       "      <td>346</td>\n",
       "      <td>2016-01-04</td>\n",
       "      <td>207</td>\n",
       "      <td>2011-11-01</td>\n",
       "      <td>2016-01-02</td>\n",
       "      <td>95.0</td>\n",
       "      <td>10.0</td>\n",
       "      <td>10.0</td>\n",
       "      <td>10.0</td>\n",
       "      <td>10.0</td>\n",
       "      <td>9.0</td>\n",
       "      <td>10.0</td>\n",
       "      <td>False</td>\n",
       "      <td>NaN</td>\n",
       "      <td>False</td>\n",
       "      <td>moderate</td>\n",
       "      <td>False</td>\n",
       "      <td>False</td>\n",
       "      <td>2</td>\n",
       "      <td>4.07</td>\n",
       "      <td>85.0</td>\n",
       "      <td>5.0</td>\n",
       "      <td>NaN</td>\n",
       "      <td>NaN</td>\n",
       "      <td>NaN</td>\n",
       "      <td>NaN</td>\n",
       "      <td>0.75</td>\n",
       "      <td>0</td>\n",
       "      <td>1</td>\n",
       "      <td>0</td>\n",
       "      <td>0</td>\n",
       "      <td>1</td>\n",
       "      <td>0</td>\n",
       "      <td>0</td>\n",
       "      <td>0</td>\n",
       "      <td>0</td>\n",
       "      <td>1</td>\n",
       "      <td>0</td>\n",
       "      <td>0</td>\n",
       "      <td>1</td>\n",
       "      <td>0</td>\n",
       "      <td>0</td>\n",
       "      <td>0</td>\n",
       "      <td>0</td>\n",
       "      <td>0</td>\n",
       "      <td>0</td>\n",
       "      <td>1</td>\n",
       "      <td>0</td>\n",
       "      <td>0</td>\n",
       "      <td>1</td>\n",
       "      <td>0</td>\n",
       "      <td>1</td>\n",
       "      <td>0</td>\n",
       "      <td>0</td>\n",
       "      <td>0</td>\n",
       "      <td>0</td>\n",
       "      <td>0</td>\n",
       "      <td>0</td>\n",
       "      <td>0</td>\n",
       "      <td>0</td>\n",
       "      <td>0</td>\n",
       "      <td>0</td>\n",
       "      <td>0</td>\n",
       "      <td>1</td>\n",
       "      <td>1</td>\n",
       "      <td>0</td>\n",
       "      <td>0</td>\n",
       "      <td>1</td>\n",
       "      <td>21.25</td>\n",
       "    </tr>\n",
       "    <tr>\n",
       "      <th>1</th>\n",
       "      <td>241032</td>\n",
       "      <td>2016-01-05</td>\n",
       "      <td>True</td>\n",
       "      <td>1</td>\n",
       "      <td>January</td>\n",
       "      <td>1</td>\n",
       "      <td>85.0</td>\n",
       "      <td>https://www.airbnb.com/rooms/241032</td>\n",
       "      <td>20160104002432</td>\n",
       "      <td>2016-01-04</td>\n",
       "      <td>Stylish Queen Anne Apartment</td>\n",
       "      <td>NaN</td>\n",
       "      <td>Make your self at home in this charming one-be...</td>\n",
       "      <td>Make your self at home in this charming one-be...</td>\n",
       "      <td>none</td>\n",
       "      <td>NaN</td>\n",
       "      <td>NaN</td>\n",
       "      <td>NaN</td>\n",
       "      <td>https://a1.muscache.com/ac/pictures/67560560/c...</td>\n",
       "      <td>956883</td>\n",
       "      <td>https://www.airbnb.com/users/show/956883</td>\n",
       "      <td>Maija</td>\n",
       "      <td>2011-08-11</td>\n",
       "      <td>I am an artist, interior designer, and run a s...</td>\n",
       "      <td>96.0</td>\n",
       "      <td>100.0</td>\n",
       "      <td>False</td>\n",
       "      <td>https://a0.muscache.com/ac/users/956883/profil...</td>\n",
       "      <td>https://a0.muscache.com/ac/users/956883/profil...</td>\n",
       "      <td>Queen Anne</td>\n",
       "      <td>3.0</td>\n",
       "      <td>3.0</td>\n",
       "      <td>True</td>\n",
       "      <td>True</td>\n",
       "      <td>Gilman Dr W, Seattle, WA 98119, United States</td>\n",
       "      <td>Queen Anne</td>\n",
       "      <td>West Queen Anne</td>\n",
       "      <td>Queen Anne</td>\n",
       "      <td>Seattle</td>\n",
       "      <td>98119</td>\n",
       "      <td>47.636289</td>\n",
       "      <td>-122.371025</td>\n",
       "      <td>True</td>\n",
       "      <td>Apartment</td>\n",
       "      <td>Entire home/apt</td>\n",
       "      <td>4</td>\n",
       "      <td>1.0</td>\n",
       "      <td>1.0</td>\n",
       "      <td>1.0</td>\n",
       "      <td>Real Bed</td>\n",
       "      <td>NaN</td>\n",
       "      <td>2</td>\n",
       "      <td>1</td>\n",
       "      <td>365</td>\n",
       "      <td>4 weeks ago</td>\n",
       "      <td>True</td>\n",
       "      <td>14</td>\n",
       "      <td>41</td>\n",
       "      <td>71</td>\n",
       "      <td>346</td>\n",
       "      <td>2016-01-04</td>\n",
       "      <td>207</td>\n",
       "      <td>2011-11-01</td>\n",
       "      <td>2016-01-02</td>\n",
       "      <td>95.0</td>\n",
       "      <td>10.0</td>\n",
       "      <td>10.0</td>\n",
       "      <td>10.0</td>\n",
       "      <td>10.0</td>\n",
       "      <td>9.0</td>\n",
       "      <td>10.0</td>\n",
       "      <td>False</td>\n",
       "      <td>NaN</td>\n",
       "      <td>False</td>\n",
       "      <td>moderate</td>\n",
       "      <td>False</td>\n",
       "      <td>False</td>\n",
       "      <td>2</td>\n",
       "      <td>4.07</td>\n",
       "      <td>85.0</td>\n",
       "      <td>5.0</td>\n",
       "      <td>NaN</td>\n",
       "      <td>NaN</td>\n",
       "      <td>NaN</td>\n",
       "      <td>NaN</td>\n",
       "      <td>0.75</td>\n",
       "      <td>0</td>\n",
       "      <td>1</td>\n",
       "      <td>0</td>\n",
       "      <td>0</td>\n",
       "      <td>1</td>\n",
       "      <td>0</td>\n",
       "      <td>0</td>\n",
       "      <td>0</td>\n",
       "      <td>0</td>\n",
       "      <td>1</td>\n",
       "      <td>0</td>\n",
       "      <td>0</td>\n",
       "      <td>1</td>\n",
       "      <td>0</td>\n",
       "      <td>0</td>\n",
       "      <td>0</td>\n",
       "      <td>0</td>\n",
       "      <td>0</td>\n",
       "      <td>0</td>\n",
       "      <td>1</td>\n",
       "      <td>0</td>\n",
       "      <td>0</td>\n",
       "      <td>1</td>\n",
       "      <td>0</td>\n",
       "      <td>1</td>\n",
       "      <td>0</td>\n",
       "      <td>0</td>\n",
       "      <td>0</td>\n",
       "      <td>0</td>\n",
       "      <td>0</td>\n",
       "      <td>0</td>\n",
       "      <td>0</td>\n",
       "      <td>0</td>\n",
       "      <td>0</td>\n",
       "      <td>0</td>\n",
       "      <td>0</td>\n",
       "      <td>1</td>\n",
       "      <td>1</td>\n",
       "      <td>0</td>\n",
       "      <td>0</td>\n",
       "      <td>1</td>\n",
       "      <td>21.25</td>\n",
       "    </tr>\n",
       "  </tbody>\n",
       "</table>\n",
       "</div>"
      ],
      "text/plain": [
       "   listing_id       date  available  month month_name  week  price_usd_cal  \\\n",
       "0      241032 2016-01-04       True      1    January     1           85.0   \n",
       "1      241032 2016-01-05       True      1    January     1           85.0   \n",
       "\n",
       "                           listing_url       scrape_id last_scraped  \\\n",
       "0  https://www.airbnb.com/rooms/241032  20160104002432   2016-01-04   \n",
       "1  https://www.airbnb.com/rooms/241032  20160104002432   2016-01-04   \n",
       "\n",
       "                           name summary  \\\n",
       "0  Stylish Queen Anne Apartment     NaN   \n",
       "1  Stylish Queen Anne Apartment     NaN   \n",
       "\n",
       "                                               space  \\\n",
       "0  Make your self at home in this charming one-be...   \n",
       "1  Make your self at home in this charming one-be...   \n",
       "\n",
       "                                         description experiences_offered  \\\n",
       "0  Make your self at home in this charming one-be...                none   \n",
       "1  Make your self at home in this charming one-be...                none   \n",
       "\n",
       "  neighborhood_overview notes transit  \\\n",
       "0                   NaN   NaN     NaN   \n",
       "1                   NaN   NaN     NaN   \n",
       "\n",
       "                                         picture_url  host_id  \\\n",
       "0  https://a1.muscache.com/ac/pictures/67560560/c...   956883   \n",
       "1  https://a1.muscache.com/ac/pictures/67560560/c...   956883   \n",
       "\n",
       "                                   host_url host_name host_since  \\\n",
       "0  https://www.airbnb.com/users/show/956883     Maija 2011-08-11   \n",
       "1  https://www.airbnb.com/users/show/956883     Maija 2011-08-11   \n",
       "\n",
       "                                          host_about  host_response_rate  \\\n",
       "0  I am an artist, interior designer, and run a s...                96.0   \n",
       "1  I am an artist, interior designer, and run a s...                96.0   \n",
       "\n",
       "   host_acceptance_rate  host_is_superhost  \\\n",
       "0                 100.0              False   \n",
       "1                 100.0              False   \n",
       "\n",
       "                                  host_thumbnail_url  \\\n",
       "0  https://a0.muscache.com/ac/users/956883/profil...   \n",
       "1  https://a0.muscache.com/ac/users/956883/profil...   \n",
       "\n",
       "                                    host_picture_url host_neighbourhood  \\\n",
       "0  https://a0.muscache.com/ac/users/956883/profil...         Queen Anne   \n",
       "1  https://a0.muscache.com/ac/users/956883/profil...         Queen Anne   \n",
       "\n",
       "   host_listings_count  host_total_listings_count  host_has_profile_pic  \\\n",
       "0                  3.0                        3.0                  True   \n",
       "1                  3.0                        3.0                  True   \n",
       "\n",
       "   host_identity_verified                                         street  \\\n",
       "0                    True  Gilman Dr W, Seattle, WA 98119, United States   \n",
       "1                    True  Gilman Dr W, Seattle, WA 98119, United States   \n",
       "\n",
       "  neighbourhood neighbourhood_cleansed neighbourhood_group_cleansed     city  \\\n",
       "0    Queen Anne        West Queen Anne                   Queen Anne  Seattle   \n",
       "1    Queen Anne        West Queen Anne                   Queen Anne  Seattle   \n",
       "\n",
       "  zipcode   latitude   longitude  is_location_exact property_type  \\\n",
       "0   98119  47.636289 -122.371025               True     Apartment   \n",
       "1   98119  47.636289 -122.371025               True     Apartment   \n",
       "\n",
       "         room_type  accommodates  bathrooms  bedrooms  beds  bed_type  \\\n",
       "0  Entire home/apt             4        1.0       1.0   1.0  Real Bed   \n",
       "1  Entire home/apt             4        1.0       1.0   1.0  Real Bed   \n",
       "\n",
       "   square_feet  guests_included  minimum_nights  maximum_nights  \\\n",
       "0          NaN                2               1             365   \n",
       "1          NaN                2               1             365   \n",
       "\n",
       "  calendar_updated  has_availability  availability_30  availability_60  \\\n",
       "0      4 weeks ago              True               14               41   \n",
       "1      4 weeks ago              True               14               41   \n",
       "\n",
       "   availability_90  availability_365 calendar_last_scraped  number_of_reviews  \\\n",
       "0               71               346            2016-01-04                207   \n",
       "1               71               346            2016-01-04                207   \n",
       "\n",
       "  first_review last_review  review_scores_rating  review_scores_accuracy  \\\n",
       "0   2011-11-01  2016-01-02                  95.0                    10.0   \n",
       "1   2011-11-01  2016-01-02                  95.0                    10.0   \n",
       "\n",
       "   review_scores_cleanliness  review_scores_checkin  \\\n",
       "0                       10.0                   10.0   \n",
       "1                       10.0                   10.0   \n",
       "\n",
       "   review_scores_communication  review_scores_location  review_scores_value  \\\n",
       "0                         10.0                     9.0                 10.0   \n",
       "1                         10.0                     9.0                 10.0   \n",
       "\n",
       "   requires_license  license  instant_bookable cancellation_policy  \\\n",
       "0             False      NaN             False            moderate   \n",
       "1             False      NaN             False            moderate   \n",
       "\n",
       "   require_guest_profile_picture  require_guest_phone_verification  \\\n",
       "0                          False                             False   \n",
       "1                          False                             False   \n",
       "\n",
       "   calculated_host_listings_count  reviews_per_month  price_usd  \\\n",
       "0                               2               4.07       85.0   \n",
       "1                               2               4.07       85.0   \n",
       "\n",
       "   extra_people_usd  weekly_price_usd  monthly_price_usd  \\\n",
       "0               5.0               NaN                NaN   \n",
       "1               5.0               NaN                NaN   \n",
       "\n",
       "   security_deposit_usd  cleaning_fee_usd  host_response_time_val  \\\n",
       "0                   NaN               NaN                    0.75   \n",
       "1                   NaN               NaN                    0.75   \n",
       "\n",
       "   amenity_24-hour_check-in  amenity_air_conditioning  amenity_breakfast  \\\n",
       "0                         0                         1                  0   \n",
       "1                         0                         1                  0   \n",
       "\n",
       "   amenity_buzzer_wireless_intercom  amenity_cable_tv  \\\n",
       "0                                 0                 1   \n",
       "1                                 0                 1   \n",
       "\n",
       "   amenity_carbon_monoxide_detector  amenity_cat  amenity_dog  \\\n",
       "0                                 0            0            0   \n",
       "1                                 0            0            0   \n",
       "\n",
       "   amenity_doorman  amenity_dryer  amenity_elevator_in_building  \\\n",
       "0                0              1                             0   \n",
       "1                0              1                             0   \n",
       "\n",
       "   amenity_essentials  amenity_family_kid_friendly  amenity_fire_extinguisher  \\\n",
       "0                   0                            1                          0   \n",
       "1                   0                            1                          0   \n",
       "\n",
       "   amenity_first_aid_kit  amenity_free_parking_on_premises  amenity_gym  \\\n",
       "0                      0                                 0            0   \n",
       "1                      0                                 0            0   \n",
       "\n",
       "   amenity_hair_dryer  amenity_hangers  amenity_heating  amenity_hot_tub  \\\n",
       "0                   0                0                1                0   \n",
       "1                   0                0                1                0   \n",
       "\n",
       "   amenity_indoor_fireplace  amenity_internet  amenity_iron  amenity_kitchen  \\\n",
       "0                         0                 1             0                1   \n",
       "1                         0                 1             0                1   \n",
       "\n",
       "   amenity_laptop_friendly_workspace  amenity_lock_on_bedroom_door  \\\n",
       "0                                  0                             0   \n",
       "1                                  0                             0   \n",
       "\n",
       "   amenity_other_pet  amenity_pets_allowed  \\\n",
       "0                  0                     0   \n",
       "1                  0                     0   \n",
       "\n",
       "   amenity_pets_live_on_this_property  amenity_pool  amenity_safety_card  \\\n",
       "0                                   0             0                    0   \n",
       "1                                   0             0                    0   \n",
       "\n",
       "   amenity_shampoo  amenity_smoke_detector  amenity_smoking_allowed  \\\n",
       "0                0                       0                        0   \n",
       "1                0                       0                        0   \n",
       "\n",
       "   amenity_suitable_for_events  amenity_tv  amenity_washer  \\\n",
       "0                            0           1               1   \n",
       "1                            0           1               1   \n",
       "\n",
       "   amenity_washer___dryer  amenity_wheelchair_accessible  \\\n",
       "0                       0                              0   \n",
       "1                       0                              0   \n",
       "\n",
       "   amenity_wireless_internet  price_p_accom  \n",
       "0                          1          21.25  \n",
       "1                          1          21.25  "
      ]
     },
     "execution_count": 362,
     "metadata": {},
     "output_type": "execute_result"
    }
   ],
   "source": [
    "df_merge = df_cal.join(df_list.set_index('listing_id'), on = 'listing_id', lsuffix='_cal', rsuffix='_list')\n",
    "df_merge.head(2)"
   ]
  },
  {
   "cell_type": "markdown",
   "metadata": {},
   "source": [
    "### Analyze the data\n",
    "\n",
    "In the following the data shall be analyzed and following questions answered:\n",
    "- How does the mean price per accomodate vary over the year per region?\n",
    "- In which region does the price per accomodate vary the most?\n",
    "- What influences the cost per accomodate the most?"
   ]
  },
  {
   "cell_type": "markdown",
   "metadata": {},
   "source": [
    "Weiteres Vorgehen:\n",
    "- df_list: Welche Unterkünfte sind vorhanden, wie ist der nominelle Preis verteilt? --> nominelle Preis wenig aussagefähig, da verschiedene Typen miteinander verglichen werden --> Berechnung auf Werte pro Person.\n",
    "- df_merge: Verteilung der Preise pro Unterkunft über der gesamten Stadt?\n",
    "- df_merge: Schwankung der Preise über der Zeit über die gesamte Stadt \n",
    "- df_merge: MAP: Karte mit den Vierteln mit den Median Preisen sowie mit einem Wert für die Schwankung "
   ]
  },
  {
   "cell_type": "code",
   "execution_count": 363,
   "metadata": {},
   "outputs": [
    {
     "data": {
      "text/html": [
       "<div>\n",
       "<style scoped>\n",
       "    .dataframe tbody tr th:only-of-type {\n",
       "        vertical-align: middle;\n",
       "    }\n",
       "\n",
       "    .dataframe tbody tr th {\n",
       "        vertical-align: top;\n",
       "    }\n",
       "\n",
       "    .dataframe thead th {\n",
       "        text-align: right;\n",
       "    }\n",
       "</style>\n",
       "<table border=\"1\" class=\"dataframe\">\n",
       "  <thead>\n",
       "    <tr style=\"text-align: right;\">\n",
       "      <th></th>\n",
       "      <th>listing_id</th>\n",
       "      <th>listing_url</th>\n",
       "      <th>scrape_id</th>\n",
       "      <th>last_scraped</th>\n",
       "      <th>name</th>\n",
       "      <th>summary</th>\n",
       "      <th>space</th>\n",
       "      <th>description</th>\n",
       "      <th>experiences_offered</th>\n",
       "      <th>neighborhood_overview</th>\n",
       "      <th>notes</th>\n",
       "      <th>transit</th>\n",
       "      <th>picture_url</th>\n",
       "      <th>host_id</th>\n",
       "      <th>host_url</th>\n",
       "      <th>host_name</th>\n",
       "      <th>host_since</th>\n",
       "      <th>host_about</th>\n",
       "      <th>host_response_rate</th>\n",
       "      <th>host_acceptance_rate</th>\n",
       "      <th>host_is_superhost</th>\n",
       "      <th>host_thumbnail_url</th>\n",
       "      <th>host_picture_url</th>\n",
       "      <th>host_neighbourhood</th>\n",
       "      <th>host_listings_count</th>\n",
       "      <th>host_total_listings_count</th>\n",
       "      <th>host_has_profile_pic</th>\n",
       "      <th>host_identity_verified</th>\n",
       "      <th>street</th>\n",
       "      <th>neighbourhood</th>\n",
       "      <th>neighbourhood_cleansed</th>\n",
       "      <th>neighbourhood_group_cleansed</th>\n",
       "      <th>city</th>\n",
       "      <th>zipcode</th>\n",
       "      <th>latitude</th>\n",
       "      <th>longitude</th>\n",
       "      <th>is_location_exact</th>\n",
       "      <th>property_type</th>\n",
       "      <th>room_type</th>\n",
       "      <th>accommodates</th>\n",
       "      <th>bathrooms</th>\n",
       "      <th>bedrooms</th>\n",
       "      <th>beds</th>\n",
       "      <th>bed_type</th>\n",
       "      <th>square_feet</th>\n",
       "      <th>guests_included</th>\n",
       "      <th>minimum_nights</th>\n",
       "      <th>maximum_nights</th>\n",
       "      <th>calendar_updated</th>\n",
       "      <th>has_availability</th>\n",
       "      <th>availability_30</th>\n",
       "      <th>availability_60</th>\n",
       "      <th>availability_90</th>\n",
       "      <th>availability_365</th>\n",
       "      <th>calendar_last_scraped</th>\n",
       "      <th>number_of_reviews</th>\n",
       "      <th>first_review</th>\n",
       "      <th>last_review</th>\n",
       "      <th>review_scores_rating</th>\n",
       "      <th>review_scores_accuracy</th>\n",
       "      <th>review_scores_cleanliness</th>\n",
       "      <th>review_scores_checkin</th>\n",
       "      <th>review_scores_communication</th>\n",
       "      <th>review_scores_location</th>\n",
       "      <th>review_scores_value</th>\n",
       "      <th>requires_license</th>\n",
       "      <th>license</th>\n",
       "      <th>instant_bookable</th>\n",
       "      <th>cancellation_policy</th>\n",
       "      <th>require_guest_profile_picture</th>\n",
       "      <th>require_guest_phone_verification</th>\n",
       "      <th>calculated_host_listings_count</th>\n",
       "      <th>reviews_per_month</th>\n",
       "      <th>price_usd</th>\n",
       "      <th>extra_people_usd</th>\n",
       "      <th>weekly_price_usd</th>\n",
       "      <th>monthly_price_usd</th>\n",
       "      <th>security_deposit_usd</th>\n",
       "      <th>cleaning_fee_usd</th>\n",
       "      <th>host_response_time_val</th>\n",
       "      <th>amenity_24-hour_check-in</th>\n",
       "      <th>amenity_air_conditioning</th>\n",
       "      <th>amenity_breakfast</th>\n",
       "      <th>amenity_buzzer_wireless_intercom</th>\n",
       "      <th>amenity_cable_tv</th>\n",
       "      <th>amenity_carbon_monoxide_detector</th>\n",
       "      <th>amenity_cat</th>\n",
       "      <th>amenity_dog</th>\n",
       "      <th>amenity_doorman</th>\n",
       "      <th>amenity_dryer</th>\n",
       "      <th>amenity_elevator_in_building</th>\n",
       "      <th>amenity_essentials</th>\n",
       "      <th>amenity_family_kid_friendly</th>\n",
       "      <th>amenity_fire_extinguisher</th>\n",
       "      <th>amenity_first_aid_kit</th>\n",
       "      <th>amenity_free_parking_on_premises</th>\n",
       "      <th>amenity_gym</th>\n",
       "      <th>amenity_hair_dryer</th>\n",
       "      <th>amenity_hangers</th>\n",
       "      <th>amenity_heating</th>\n",
       "      <th>amenity_hot_tub</th>\n",
       "      <th>amenity_indoor_fireplace</th>\n",
       "      <th>amenity_internet</th>\n",
       "      <th>amenity_iron</th>\n",
       "      <th>amenity_kitchen</th>\n",
       "      <th>amenity_laptop_friendly_workspace</th>\n",
       "      <th>amenity_lock_on_bedroom_door</th>\n",
       "      <th>amenity_other_pet</th>\n",
       "      <th>amenity_pets_allowed</th>\n",
       "      <th>amenity_pets_live_on_this_property</th>\n",
       "      <th>amenity_pool</th>\n",
       "      <th>amenity_safety_card</th>\n",
       "      <th>amenity_shampoo</th>\n",
       "      <th>amenity_smoke_detector</th>\n",
       "      <th>amenity_smoking_allowed</th>\n",
       "      <th>amenity_suitable_for_events</th>\n",
       "      <th>amenity_tv</th>\n",
       "      <th>amenity_washer</th>\n",
       "      <th>amenity_washer___dryer</th>\n",
       "      <th>amenity_wheelchair_accessible</th>\n",
       "      <th>amenity_wireless_internet</th>\n",
       "      <th>price_p_accom</th>\n",
       "    </tr>\n",
       "  </thead>\n",
       "  <tbody>\n",
       "    <tr>\n",
       "      <th>0</th>\n",
       "      <td>241032</td>\n",
       "      <td>https://www.airbnb.com/rooms/241032</td>\n",
       "      <td>20160104002432</td>\n",
       "      <td>2016-01-04</td>\n",
       "      <td>Stylish Queen Anne Apartment</td>\n",
       "      <td>NaN</td>\n",
       "      <td>Make your self at home in this charming one-be...</td>\n",
       "      <td>Make your self at home in this charming one-be...</td>\n",
       "      <td>none</td>\n",
       "      <td>NaN</td>\n",
       "      <td>NaN</td>\n",
       "      <td>NaN</td>\n",
       "      <td>https://a1.muscache.com/ac/pictures/67560560/c...</td>\n",
       "      <td>956883</td>\n",
       "      <td>https://www.airbnb.com/users/show/956883</td>\n",
       "      <td>Maija</td>\n",
       "      <td>2011-08-11</td>\n",
       "      <td>I am an artist, interior designer, and run a s...</td>\n",
       "      <td>96.0</td>\n",
       "      <td>100.0</td>\n",
       "      <td>False</td>\n",
       "      <td>https://a0.muscache.com/ac/users/956883/profil...</td>\n",
       "      <td>https://a0.muscache.com/ac/users/956883/profil...</td>\n",
       "      <td>Queen Anne</td>\n",
       "      <td>3.0</td>\n",
       "      <td>3.0</td>\n",
       "      <td>True</td>\n",
       "      <td>True</td>\n",
       "      <td>Gilman Dr W, Seattle, WA 98119, United States</td>\n",
       "      <td>Queen Anne</td>\n",
       "      <td>West Queen Anne</td>\n",
       "      <td>Queen Anne</td>\n",
       "      <td>Seattle</td>\n",
       "      <td>98119</td>\n",
       "      <td>47.636289</td>\n",
       "      <td>-122.371025</td>\n",
       "      <td>True</td>\n",
       "      <td>Apartment</td>\n",
       "      <td>Entire home/apt</td>\n",
       "      <td>4</td>\n",
       "      <td>1.0</td>\n",
       "      <td>1.0</td>\n",
       "      <td>1.0</td>\n",
       "      <td>Real Bed</td>\n",
       "      <td>NaN</td>\n",
       "      <td>2</td>\n",
       "      <td>1</td>\n",
       "      <td>365</td>\n",
       "      <td>4 weeks ago</td>\n",
       "      <td>True</td>\n",
       "      <td>14</td>\n",
       "      <td>41</td>\n",
       "      <td>71</td>\n",
       "      <td>346</td>\n",
       "      <td>2016-01-04</td>\n",
       "      <td>207</td>\n",
       "      <td>2011-11-01</td>\n",
       "      <td>2016-01-02</td>\n",
       "      <td>95.0</td>\n",
       "      <td>10.0</td>\n",
       "      <td>10.0</td>\n",
       "      <td>10.0</td>\n",
       "      <td>10.0</td>\n",
       "      <td>9.0</td>\n",
       "      <td>10.0</td>\n",
       "      <td>False</td>\n",
       "      <td>NaN</td>\n",
       "      <td>False</td>\n",
       "      <td>moderate</td>\n",
       "      <td>False</td>\n",
       "      <td>False</td>\n",
       "      <td>2</td>\n",
       "      <td>4.07</td>\n",
       "      <td>85.0</td>\n",
       "      <td>5.0</td>\n",
       "      <td>NaN</td>\n",
       "      <td>NaN</td>\n",
       "      <td>NaN</td>\n",
       "      <td>NaN</td>\n",
       "      <td>0.75</td>\n",
       "      <td>0</td>\n",
       "      <td>1</td>\n",
       "      <td>0</td>\n",
       "      <td>0</td>\n",
       "      <td>1</td>\n",
       "      <td>0</td>\n",
       "      <td>0</td>\n",
       "      <td>0</td>\n",
       "      <td>0</td>\n",
       "      <td>1</td>\n",
       "      <td>0</td>\n",
       "      <td>0</td>\n",
       "      <td>1</td>\n",
       "      <td>0</td>\n",
       "      <td>0</td>\n",
       "      <td>0</td>\n",
       "      <td>0</td>\n",
       "      <td>0</td>\n",
       "      <td>0</td>\n",
       "      <td>1</td>\n",
       "      <td>0</td>\n",
       "      <td>0</td>\n",
       "      <td>1</td>\n",
       "      <td>0</td>\n",
       "      <td>1</td>\n",
       "      <td>0</td>\n",
       "      <td>0</td>\n",
       "      <td>0</td>\n",
       "      <td>0</td>\n",
       "      <td>0</td>\n",
       "      <td>0</td>\n",
       "      <td>0</td>\n",
       "      <td>0</td>\n",
       "      <td>0</td>\n",
       "      <td>0</td>\n",
       "      <td>0</td>\n",
       "      <td>1</td>\n",
       "      <td>1</td>\n",
       "      <td>0</td>\n",
       "      <td>0</td>\n",
       "      <td>1</td>\n",
       "      <td>21.25</td>\n",
       "    </tr>\n",
       "    <tr>\n",
       "      <th>1</th>\n",
       "      <td>953595</td>\n",
       "      <td>https://www.airbnb.com/rooms/953595</td>\n",
       "      <td>20160104002432</td>\n",
       "      <td>2016-01-04</td>\n",
       "      <td>Bright &amp; Airy Queen Anne Apartment</td>\n",
       "      <td>Chemically sensitive? We've removed the irrita...</td>\n",
       "      <td>Beautiful, hypoallergenic apartment in an extr...</td>\n",
       "      <td>Chemically sensitive? We've removed the irrita...</td>\n",
       "      <td>none</td>\n",
       "      <td>Queen Anne is a wonderful, truly functional vi...</td>\n",
       "      <td>What's up with the free pillows?  Our home was...</td>\n",
       "      <td>Convenient bus stops are just down the block, ...</td>\n",
       "      <td>https://a0.muscache.com/ac/pictures/14409893/f...</td>\n",
       "      <td>5177328</td>\n",
       "      <td>https://www.airbnb.com/users/show/5177328</td>\n",
       "      <td>Andrea</td>\n",
       "      <td>2013-02-21</td>\n",
       "      <td>Living east coast/left coast/overseas.  Time i...</td>\n",
       "      <td>98.0</td>\n",
       "      <td>100.0</td>\n",
       "      <td>True</td>\n",
       "      <td>https://a0.muscache.com/ac/users/5177328/profi...</td>\n",
       "      <td>https://a0.muscache.com/ac/users/5177328/profi...</td>\n",
       "      <td>Queen Anne</td>\n",
       "      <td>6.0</td>\n",
       "      <td>6.0</td>\n",
       "      <td>True</td>\n",
       "      <td>True</td>\n",
       "      <td>7th Avenue West, Seattle, WA 98119, United States</td>\n",
       "      <td>Queen Anne</td>\n",
       "      <td>West Queen Anne</td>\n",
       "      <td>Queen Anne</td>\n",
       "      <td>Seattle</td>\n",
       "      <td>98119</td>\n",
       "      <td>47.639123</td>\n",
       "      <td>-122.365666</td>\n",
       "      <td>True</td>\n",
       "      <td>Apartment</td>\n",
       "      <td>Entire home/apt</td>\n",
       "      <td>4</td>\n",
       "      <td>1.0</td>\n",
       "      <td>1.0</td>\n",
       "      <td>1.0</td>\n",
       "      <td>Real Bed</td>\n",
       "      <td>NaN</td>\n",
       "      <td>1</td>\n",
       "      <td>2</td>\n",
       "      <td>90</td>\n",
       "      <td>today</td>\n",
       "      <td>True</td>\n",
       "      <td>13</td>\n",
       "      <td>13</td>\n",
       "      <td>16</td>\n",
       "      <td>291</td>\n",
       "      <td>2016-01-04</td>\n",
       "      <td>43</td>\n",
       "      <td>2013-08-19</td>\n",
       "      <td>2015-12-29</td>\n",
       "      <td>96.0</td>\n",
       "      <td>10.0</td>\n",
       "      <td>10.0</td>\n",
       "      <td>10.0</td>\n",
       "      <td>10.0</td>\n",
       "      <td>10.0</td>\n",
       "      <td>10.0</td>\n",
       "      <td>False</td>\n",
       "      <td>NaN</td>\n",
       "      <td>False</td>\n",
       "      <td>strict</td>\n",
       "      <td>True</td>\n",
       "      <td>True</td>\n",
       "      <td>6</td>\n",
       "      <td>1.48</td>\n",
       "      <td>150.0</td>\n",
       "      <td>0.0</td>\n",
       "      <td>1000.0</td>\n",
       "      <td>3000.0</td>\n",
       "      <td>100.0</td>\n",
       "      <td>40.0</td>\n",
       "      <td>1.00</td>\n",
       "      <td>0</td>\n",
       "      <td>0</td>\n",
       "      <td>0</td>\n",
       "      <td>1</td>\n",
       "      <td>0</td>\n",
       "      <td>1</td>\n",
       "      <td>0</td>\n",
       "      <td>0</td>\n",
       "      <td>0</td>\n",
       "      <td>1</td>\n",
       "      <td>0</td>\n",
       "      <td>1</td>\n",
       "      <td>1</td>\n",
       "      <td>1</td>\n",
       "      <td>1</td>\n",
       "      <td>1</td>\n",
       "      <td>0</td>\n",
       "      <td>0</td>\n",
       "      <td>0</td>\n",
       "      <td>1</td>\n",
       "      <td>0</td>\n",
       "      <td>0</td>\n",
       "      <td>1</td>\n",
       "      <td>0</td>\n",
       "      <td>1</td>\n",
       "      <td>0</td>\n",
       "      <td>0</td>\n",
       "      <td>0</td>\n",
       "      <td>0</td>\n",
       "      <td>0</td>\n",
       "      <td>0</td>\n",
       "      <td>1</td>\n",
       "      <td>0</td>\n",
       "      <td>1</td>\n",
       "      <td>0</td>\n",
       "      <td>0</td>\n",
       "      <td>1</td>\n",
       "      <td>1</td>\n",
       "      <td>0</td>\n",
       "      <td>0</td>\n",
       "      <td>1</td>\n",
       "      <td>37.50</td>\n",
       "    </tr>\n",
       "  </tbody>\n",
       "</table>\n",
       "</div>"
      ],
      "text/plain": [
       "   listing_id                          listing_url       scrape_id  \\\n",
       "0      241032  https://www.airbnb.com/rooms/241032  20160104002432   \n",
       "1      953595  https://www.airbnb.com/rooms/953595  20160104002432   \n",
       "\n",
       "  last_scraped                                name  \\\n",
       "0   2016-01-04        Stylish Queen Anne Apartment   \n",
       "1   2016-01-04  Bright & Airy Queen Anne Apartment   \n",
       "\n",
       "                                             summary  \\\n",
       "0                                                NaN   \n",
       "1  Chemically sensitive? We've removed the irrita...   \n",
       "\n",
       "                                               space  \\\n",
       "0  Make your self at home in this charming one-be...   \n",
       "1  Beautiful, hypoallergenic apartment in an extr...   \n",
       "\n",
       "                                         description experiences_offered  \\\n",
       "0  Make your self at home in this charming one-be...                none   \n",
       "1  Chemically sensitive? We've removed the irrita...                none   \n",
       "\n",
       "                               neighborhood_overview  \\\n",
       "0                                                NaN   \n",
       "1  Queen Anne is a wonderful, truly functional vi...   \n",
       "\n",
       "                                               notes  \\\n",
       "0                                                NaN   \n",
       "1  What's up with the free pillows?  Our home was...   \n",
       "\n",
       "                                             transit  \\\n",
       "0                                                NaN   \n",
       "1  Convenient bus stops are just down the block, ...   \n",
       "\n",
       "                                         picture_url  host_id  \\\n",
       "0  https://a1.muscache.com/ac/pictures/67560560/c...   956883   \n",
       "1  https://a0.muscache.com/ac/pictures/14409893/f...  5177328   \n",
       "\n",
       "                                    host_url host_name host_since  \\\n",
       "0   https://www.airbnb.com/users/show/956883     Maija 2011-08-11   \n",
       "1  https://www.airbnb.com/users/show/5177328    Andrea 2013-02-21   \n",
       "\n",
       "                                          host_about  host_response_rate  \\\n",
       "0  I am an artist, interior designer, and run a s...                96.0   \n",
       "1  Living east coast/left coast/overseas.  Time i...                98.0   \n",
       "\n",
       "   host_acceptance_rate  host_is_superhost  \\\n",
       "0                 100.0              False   \n",
       "1                 100.0               True   \n",
       "\n",
       "                                  host_thumbnail_url  \\\n",
       "0  https://a0.muscache.com/ac/users/956883/profil...   \n",
       "1  https://a0.muscache.com/ac/users/5177328/profi...   \n",
       "\n",
       "                                    host_picture_url host_neighbourhood  \\\n",
       "0  https://a0.muscache.com/ac/users/956883/profil...         Queen Anne   \n",
       "1  https://a0.muscache.com/ac/users/5177328/profi...         Queen Anne   \n",
       "\n",
       "   host_listings_count  host_total_listings_count  host_has_profile_pic  \\\n",
       "0                  3.0                        3.0                  True   \n",
       "1                  6.0                        6.0                  True   \n",
       "\n",
       "   host_identity_verified                                             street  \\\n",
       "0                    True      Gilman Dr W, Seattle, WA 98119, United States   \n",
       "1                    True  7th Avenue West, Seattle, WA 98119, United States   \n",
       "\n",
       "  neighbourhood neighbourhood_cleansed neighbourhood_group_cleansed     city  \\\n",
       "0    Queen Anne        West Queen Anne                   Queen Anne  Seattle   \n",
       "1    Queen Anne        West Queen Anne                   Queen Anne  Seattle   \n",
       "\n",
       "  zipcode   latitude   longitude  is_location_exact property_type  \\\n",
       "0   98119  47.636289 -122.371025               True     Apartment   \n",
       "1   98119  47.639123 -122.365666               True     Apartment   \n",
       "\n",
       "         room_type  accommodates  bathrooms  bedrooms  beds  bed_type  \\\n",
       "0  Entire home/apt             4        1.0       1.0   1.0  Real Bed   \n",
       "1  Entire home/apt             4        1.0       1.0   1.0  Real Bed   \n",
       "\n",
       "   square_feet  guests_included  minimum_nights  maximum_nights  \\\n",
       "0          NaN                2               1             365   \n",
       "1          NaN                1               2              90   \n",
       "\n",
       "  calendar_updated  has_availability  availability_30  availability_60  \\\n",
       "0      4 weeks ago              True               14               41   \n",
       "1            today              True               13               13   \n",
       "\n",
       "   availability_90  availability_365 calendar_last_scraped  number_of_reviews  \\\n",
       "0               71               346            2016-01-04                207   \n",
       "1               16               291            2016-01-04                 43   \n",
       "\n",
       "  first_review last_review  review_scores_rating  review_scores_accuracy  \\\n",
       "0   2011-11-01  2016-01-02                  95.0                    10.0   \n",
       "1   2013-08-19  2015-12-29                  96.0                    10.0   \n",
       "\n",
       "   review_scores_cleanliness  review_scores_checkin  \\\n",
       "0                       10.0                   10.0   \n",
       "1                       10.0                   10.0   \n",
       "\n",
       "   review_scores_communication  review_scores_location  review_scores_value  \\\n",
       "0                         10.0                     9.0                 10.0   \n",
       "1                         10.0                    10.0                 10.0   \n",
       "\n",
       "   requires_license  license  instant_bookable cancellation_policy  \\\n",
       "0             False      NaN             False            moderate   \n",
       "1             False      NaN             False              strict   \n",
       "\n",
       "   require_guest_profile_picture  require_guest_phone_verification  \\\n",
       "0                          False                             False   \n",
       "1                           True                              True   \n",
       "\n",
       "   calculated_host_listings_count  reviews_per_month  price_usd  \\\n",
       "0                               2               4.07       85.0   \n",
       "1                               6               1.48      150.0   \n",
       "\n",
       "   extra_people_usd  weekly_price_usd  monthly_price_usd  \\\n",
       "0               5.0               NaN                NaN   \n",
       "1               0.0            1000.0             3000.0   \n",
       "\n",
       "   security_deposit_usd  cleaning_fee_usd  host_response_time_val  \\\n",
       "0                   NaN               NaN                    0.75   \n",
       "1                 100.0              40.0                    1.00   \n",
       "\n",
       "   amenity_24-hour_check-in  amenity_air_conditioning  amenity_breakfast  \\\n",
       "0                         0                         1                  0   \n",
       "1                         0                         0                  0   \n",
       "\n",
       "   amenity_buzzer_wireless_intercom  amenity_cable_tv  \\\n",
       "0                                 0                 1   \n",
       "1                                 1                 0   \n",
       "\n",
       "   amenity_carbon_monoxide_detector  amenity_cat  amenity_dog  \\\n",
       "0                                 0            0            0   \n",
       "1                                 1            0            0   \n",
       "\n",
       "   amenity_doorman  amenity_dryer  amenity_elevator_in_building  \\\n",
       "0                0              1                             0   \n",
       "1                0              1                             0   \n",
       "\n",
       "   amenity_essentials  amenity_family_kid_friendly  amenity_fire_extinguisher  \\\n",
       "0                   0                            1                          0   \n",
       "1                   1                            1                          1   \n",
       "\n",
       "   amenity_first_aid_kit  amenity_free_parking_on_premises  amenity_gym  \\\n",
       "0                      0                                 0            0   \n",
       "1                      1                                 1            0   \n",
       "\n",
       "   amenity_hair_dryer  amenity_hangers  amenity_heating  amenity_hot_tub  \\\n",
       "0                   0                0                1                0   \n",
       "1                   0                0                1                0   \n",
       "\n",
       "   amenity_indoor_fireplace  amenity_internet  amenity_iron  amenity_kitchen  \\\n",
       "0                         0                 1             0                1   \n",
       "1                         0                 1             0                1   \n",
       "\n",
       "   amenity_laptop_friendly_workspace  amenity_lock_on_bedroom_door  \\\n",
       "0                                  0                             0   \n",
       "1                                  0                             0   \n",
       "\n",
       "   amenity_other_pet  amenity_pets_allowed  \\\n",
       "0                  0                     0   \n",
       "1                  0                     0   \n",
       "\n",
       "   amenity_pets_live_on_this_property  amenity_pool  amenity_safety_card  \\\n",
       "0                                   0             0                    0   \n",
       "1                                   0             0                    1   \n",
       "\n",
       "   amenity_shampoo  amenity_smoke_detector  amenity_smoking_allowed  \\\n",
       "0                0                       0                        0   \n",
       "1                0                       1                        0   \n",
       "\n",
       "   amenity_suitable_for_events  amenity_tv  amenity_washer  \\\n",
       "0                            0           1               1   \n",
       "1                            0           1               1   \n",
       "\n",
       "   amenity_washer___dryer  amenity_wheelchair_accessible  \\\n",
       "0                       0                              0   \n",
       "1                       0                              0   \n",
       "\n",
       "   amenity_wireless_internet  price_p_accom  \n",
       "0                          1          21.25  \n",
       "1                          1          37.50  "
      ]
     },
     "execution_count": 363,
     "metadata": {},
     "output_type": "execute_result"
    }
   ],
   "source": [
    "df_list.head(2)"
   ]
  },
  {
   "cell_type": "code",
   "execution_count": 364,
   "metadata": {},
   "outputs": [
    {
     "data": {
      "application/vnd.plotly.v1+json": {
       "config": {
        "plotlyServerURL": "https://plot.ly"
       },
       "data": [
        {
         "alignmentgroup": "True",
         "hovertemplate": "Property type=%{x}<br>Number of objects=%{y}<extra></extra>",
         "legendgroup": "",
         "marker": {
          "color": "#636efa",
          "pattern": {
           "shape": ""
          }
         },
         "name": "",
         "offsetgroup": "",
         "orientation": "v",
         "showlegend": false,
         "textposition": "auto",
         "type": "bar",
         "x": [
          "House",
          "Apartment",
          "Townhouse",
          "Condominium",
          "Loft",
          "Bed & Breakfast",
          "Other",
          "Cabin",
          "Camper/RV",
          "Bungalow",
          "Boat",
          "Tent",
          "Treehouse",
          "Dorm",
          "Chalet",
          "Yurt"
         ],
         "xaxis": "x",
         "y": [
          1733,
          1708,
          118,
          91,
          40,
          37,
          22,
          21,
          13,
          13,
          8,
          5,
          3,
          2,
          2,
          1
         ],
         "yaxis": "y"
        }
       ],
       "layout": {
        "barmode": "relative",
        "height": 600,
        "legend": {
         "tracegroupgap": 0
        },
        "margin": {
         "t": 60
        },
        "template": {
         "data": {
          "bar": [
           {
            "error_x": {
             "color": "#f2f5fa"
            },
            "error_y": {
             "color": "#f2f5fa"
            },
            "marker": {
             "line": {
              "color": "rgb(17,17,17)",
              "width": 0.5
             },
             "pattern": {
              "fillmode": "overlay",
              "size": 10,
              "solidity": 0.2
             }
            },
            "type": "bar"
           }
          ],
          "barpolar": [
           {
            "marker": {
             "line": {
              "color": "rgb(17,17,17)",
              "width": 0.5
             },
             "pattern": {
              "fillmode": "overlay",
              "size": 10,
              "solidity": 0.2
             }
            },
            "type": "barpolar"
           }
          ],
          "carpet": [
           {
            "aaxis": {
             "endlinecolor": "#A2B1C6",
             "gridcolor": "#506784",
             "linecolor": "#506784",
             "minorgridcolor": "#506784",
             "startlinecolor": "#A2B1C6"
            },
            "baxis": {
             "endlinecolor": "#A2B1C6",
             "gridcolor": "#506784",
             "linecolor": "#506784",
             "minorgridcolor": "#506784",
             "startlinecolor": "#A2B1C6"
            },
            "type": "carpet"
           }
          ],
          "choropleth": [
           {
            "colorbar": {
             "outlinewidth": 0,
             "ticks": ""
            },
            "type": "choropleth"
           }
          ],
          "contour": [
           {
            "colorbar": {
             "outlinewidth": 0,
             "ticks": ""
            },
            "colorscale": [
             [
              0,
              "#0d0887"
             ],
             [
              0.1111111111111111,
              "#46039f"
             ],
             [
              0.2222222222222222,
              "#7201a8"
             ],
             [
              0.3333333333333333,
              "#9c179e"
             ],
             [
              0.4444444444444444,
              "#bd3786"
             ],
             [
              0.5555555555555556,
              "#d8576b"
             ],
             [
              0.6666666666666666,
              "#ed7953"
             ],
             [
              0.7777777777777778,
              "#fb9f3a"
             ],
             [
              0.8888888888888888,
              "#fdca26"
             ],
             [
              1,
              "#f0f921"
             ]
            ],
            "type": "contour"
           }
          ],
          "contourcarpet": [
           {
            "colorbar": {
             "outlinewidth": 0,
             "ticks": ""
            },
            "type": "contourcarpet"
           }
          ],
          "heatmap": [
           {
            "colorbar": {
             "outlinewidth": 0,
             "ticks": ""
            },
            "colorscale": [
             [
              0,
              "#0d0887"
             ],
             [
              0.1111111111111111,
              "#46039f"
             ],
             [
              0.2222222222222222,
              "#7201a8"
             ],
             [
              0.3333333333333333,
              "#9c179e"
             ],
             [
              0.4444444444444444,
              "#bd3786"
             ],
             [
              0.5555555555555556,
              "#d8576b"
             ],
             [
              0.6666666666666666,
              "#ed7953"
             ],
             [
              0.7777777777777778,
              "#fb9f3a"
             ],
             [
              0.8888888888888888,
              "#fdca26"
             ],
             [
              1,
              "#f0f921"
             ]
            ],
            "type": "heatmap"
           }
          ],
          "heatmapgl": [
           {
            "colorbar": {
             "outlinewidth": 0,
             "ticks": ""
            },
            "colorscale": [
             [
              0,
              "#0d0887"
             ],
             [
              0.1111111111111111,
              "#46039f"
             ],
             [
              0.2222222222222222,
              "#7201a8"
             ],
             [
              0.3333333333333333,
              "#9c179e"
             ],
             [
              0.4444444444444444,
              "#bd3786"
             ],
             [
              0.5555555555555556,
              "#d8576b"
             ],
             [
              0.6666666666666666,
              "#ed7953"
             ],
             [
              0.7777777777777778,
              "#fb9f3a"
             ],
             [
              0.8888888888888888,
              "#fdca26"
             ],
             [
              1,
              "#f0f921"
             ]
            ],
            "type": "heatmapgl"
           }
          ],
          "histogram": [
           {
            "marker": {
             "pattern": {
              "fillmode": "overlay",
              "size": 10,
              "solidity": 0.2
             }
            },
            "type": "histogram"
           }
          ],
          "histogram2d": [
           {
            "colorbar": {
             "outlinewidth": 0,
             "ticks": ""
            },
            "colorscale": [
             [
              0,
              "#0d0887"
             ],
             [
              0.1111111111111111,
              "#46039f"
             ],
             [
              0.2222222222222222,
              "#7201a8"
             ],
             [
              0.3333333333333333,
              "#9c179e"
             ],
             [
              0.4444444444444444,
              "#bd3786"
             ],
             [
              0.5555555555555556,
              "#d8576b"
             ],
             [
              0.6666666666666666,
              "#ed7953"
             ],
             [
              0.7777777777777778,
              "#fb9f3a"
             ],
             [
              0.8888888888888888,
              "#fdca26"
             ],
             [
              1,
              "#f0f921"
             ]
            ],
            "type": "histogram2d"
           }
          ],
          "histogram2dcontour": [
           {
            "colorbar": {
             "outlinewidth": 0,
             "ticks": ""
            },
            "colorscale": [
             [
              0,
              "#0d0887"
             ],
             [
              0.1111111111111111,
              "#46039f"
             ],
             [
              0.2222222222222222,
              "#7201a8"
             ],
             [
              0.3333333333333333,
              "#9c179e"
             ],
             [
              0.4444444444444444,
              "#bd3786"
             ],
             [
              0.5555555555555556,
              "#d8576b"
             ],
             [
              0.6666666666666666,
              "#ed7953"
             ],
             [
              0.7777777777777778,
              "#fb9f3a"
             ],
             [
              0.8888888888888888,
              "#fdca26"
             ],
             [
              1,
              "#f0f921"
             ]
            ],
            "type": "histogram2dcontour"
           }
          ],
          "mesh3d": [
           {
            "colorbar": {
             "outlinewidth": 0,
             "ticks": ""
            },
            "type": "mesh3d"
           }
          ],
          "parcoords": [
           {
            "line": {
             "colorbar": {
              "outlinewidth": 0,
              "ticks": ""
             }
            },
            "type": "parcoords"
           }
          ],
          "pie": [
           {
            "automargin": true,
            "type": "pie"
           }
          ],
          "scatter": [
           {
            "marker": {
             "line": {
              "color": "#283442"
             }
            },
            "type": "scatter"
           }
          ],
          "scatter3d": [
           {
            "line": {
             "colorbar": {
              "outlinewidth": 0,
              "ticks": ""
             }
            },
            "marker": {
             "colorbar": {
              "outlinewidth": 0,
              "ticks": ""
             }
            },
            "type": "scatter3d"
           }
          ],
          "scattercarpet": [
           {
            "marker": {
             "colorbar": {
              "outlinewidth": 0,
              "ticks": ""
             }
            },
            "type": "scattercarpet"
           }
          ],
          "scattergeo": [
           {
            "marker": {
             "colorbar": {
              "outlinewidth": 0,
              "ticks": ""
             }
            },
            "type": "scattergeo"
           }
          ],
          "scattergl": [
           {
            "marker": {
             "line": {
              "color": "#283442"
             }
            },
            "type": "scattergl"
           }
          ],
          "scattermapbox": [
           {
            "marker": {
             "colorbar": {
              "outlinewidth": 0,
              "ticks": ""
             }
            },
            "type": "scattermapbox"
           }
          ],
          "scatterpolar": [
           {
            "marker": {
             "colorbar": {
              "outlinewidth": 0,
              "ticks": ""
             }
            },
            "type": "scatterpolar"
           }
          ],
          "scatterpolargl": [
           {
            "marker": {
             "colorbar": {
              "outlinewidth": 0,
              "ticks": ""
             }
            },
            "type": "scatterpolargl"
           }
          ],
          "scatterternary": [
           {
            "marker": {
             "colorbar": {
              "outlinewidth": 0,
              "ticks": ""
             }
            },
            "type": "scatterternary"
           }
          ],
          "surface": [
           {
            "colorbar": {
             "outlinewidth": 0,
             "ticks": ""
            },
            "colorscale": [
             [
              0,
              "#0d0887"
             ],
             [
              0.1111111111111111,
              "#46039f"
             ],
             [
              0.2222222222222222,
              "#7201a8"
             ],
             [
              0.3333333333333333,
              "#9c179e"
             ],
             [
              0.4444444444444444,
              "#bd3786"
             ],
             [
              0.5555555555555556,
              "#d8576b"
             ],
             [
              0.6666666666666666,
              "#ed7953"
             ],
             [
              0.7777777777777778,
              "#fb9f3a"
             ],
             [
              0.8888888888888888,
              "#fdca26"
             ],
             [
              1,
              "#f0f921"
             ]
            ],
            "type": "surface"
           }
          ],
          "table": [
           {
            "cells": {
             "fill": {
              "color": "#506784"
             },
             "line": {
              "color": "rgb(17,17,17)"
             }
            },
            "header": {
             "fill": {
              "color": "#2a3f5f"
             },
             "line": {
              "color": "rgb(17,17,17)"
             }
            },
            "type": "table"
           }
          ]
         },
         "layout": {
          "annotationdefaults": {
           "arrowcolor": "#f2f5fa",
           "arrowhead": 0,
           "arrowwidth": 1
          },
          "autotypenumbers": "strict",
          "coloraxis": {
           "colorbar": {
            "outlinewidth": 0,
            "ticks": ""
           }
          },
          "colorscale": {
           "diverging": [
            [
             0,
             "#8e0152"
            ],
            [
             0.1,
             "#c51b7d"
            ],
            [
             0.2,
             "#de77ae"
            ],
            [
             0.3,
             "#f1b6da"
            ],
            [
             0.4,
             "#fde0ef"
            ],
            [
             0.5,
             "#f7f7f7"
            ],
            [
             0.6,
             "#e6f5d0"
            ],
            [
             0.7,
             "#b8e186"
            ],
            [
             0.8,
             "#7fbc41"
            ],
            [
             0.9,
             "#4d9221"
            ],
            [
             1,
             "#276419"
            ]
           ],
           "sequential": [
            [
             0,
             "#0d0887"
            ],
            [
             0.1111111111111111,
             "#46039f"
            ],
            [
             0.2222222222222222,
             "#7201a8"
            ],
            [
             0.3333333333333333,
             "#9c179e"
            ],
            [
             0.4444444444444444,
             "#bd3786"
            ],
            [
             0.5555555555555556,
             "#d8576b"
            ],
            [
             0.6666666666666666,
             "#ed7953"
            ],
            [
             0.7777777777777778,
             "#fb9f3a"
            ],
            [
             0.8888888888888888,
             "#fdca26"
            ],
            [
             1,
             "#f0f921"
            ]
           ],
           "sequentialminus": [
            [
             0,
             "#0d0887"
            ],
            [
             0.1111111111111111,
             "#46039f"
            ],
            [
             0.2222222222222222,
             "#7201a8"
            ],
            [
             0.3333333333333333,
             "#9c179e"
            ],
            [
             0.4444444444444444,
             "#bd3786"
            ],
            [
             0.5555555555555556,
             "#d8576b"
            ],
            [
             0.6666666666666666,
             "#ed7953"
            ],
            [
             0.7777777777777778,
             "#fb9f3a"
            ],
            [
             0.8888888888888888,
             "#fdca26"
            ],
            [
             1,
             "#f0f921"
            ]
           ]
          },
          "colorway": [
           "#636efa",
           "#EF553B",
           "#00cc96",
           "#ab63fa",
           "#FFA15A",
           "#19d3f3",
           "#FF6692",
           "#B6E880",
           "#FF97FF",
           "#FECB52"
          ],
          "font": {
           "color": "#f2f5fa"
          },
          "geo": {
           "bgcolor": "rgb(17,17,17)",
           "lakecolor": "rgb(17,17,17)",
           "landcolor": "rgb(17,17,17)",
           "showlakes": true,
           "showland": true,
           "subunitcolor": "#506784"
          },
          "hoverlabel": {
           "align": "left"
          },
          "hovermode": "closest",
          "mapbox": {
           "style": "dark"
          },
          "paper_bgcolor": "rgb(17,17,17)",
          "plot_bgcolor": "rgb(17,17,17)",
          "polar": {
           "angularaxis": {
            "gridcolor": "#506784",
            "linecolor": "#506784",
            "ticks": ""
           },
           "bgcolor": "rgb(17,17,17)",
           "radialaxis": {
            "gridcolor": "#506784",
            "linecolor": "#506784",
            "ticks": ""
           }
          },
          "scene": {
           "xaxis": {
            "backgroundcolor": "rgb(17,17,17)",
            "gridcolor": "#506784",
            "gridwidth": 2,
            "linecolor": "#506784",
            "showbackground": true,
            "ticks": "",
            "zerolinecolor": "#C8D4E3"
           },
           "yaxis": {
            "backgroundcolor": "rgb(17,17,17)",
            "gridcolor": "#506784",
            "gridwidth": 2,
            "linecolor": "#506784",
            "showbackground": true,
            "ticks": "",
            "zerolinecolor": "#C8D4E3"
           },
           "zaxis": {
            "backgroundcolor": "rgb(17,17,17)",
            "gridcolor": "#506784",
            "gridwidth": 2,
            "linecolor": "#506784",
            "showbackground": true,
            "ticks": "",
            "zerolinecolor": "#C8D4E3"
           }
          },
          "shapedefaults": {
           "line": {
            "color": "#f2f5fa"
           }
          },
          "sliderdefaults": {
           "bgcolor": "#C8D4E3",
           "bordercolor": "rgb(17,17,17)",
           "borderwidth": 1,
           "tickwidth": 0
          },
          "ternary": {
           "aaxis": {
            "gridcolor": "#506784",
            "linecolor": "#506784",
            "ticks": ""
           },
           "baxis": {
            "gridcolor": "#506784",
            "linecolor": "#506784",
            "ticks": ""
           },
           "bgcolor": "rgb(17,17,17)",
           "caxis": {
            "gridcolor": "#506784",
            "linecolor": "#506784",
            "ticks": ""
           }
          },
          "title": {
           "x": 0.05
          },
          "updatemenudefaults": {
           "bgcolor": "#506784",
           "borderwidth": 0
          },
          "xaxis": {
           "automargin": true,
           "gridcolor": "#283442",
           "linecolor": "#506784",
           "ticks": "",
           "title": {
            "standoff": 15
           },
           "zerolinecolor": "#283442",
           "zerolinewidth": 2
          },
          "yaxis": {
           "automargin": true,
           "gridcolor": "#283442",
           "linecolor": "#506784",
           "ticks": "",
           "title": {
            "standoff": 15
           },
           "zerolinecolor": "#283442",
           "zerolinewidth": 2
          }
         }
        },
        "title": {
         "text": "Number of listed property types"
        },
        "width": 700,
        "xaxis": {
         "anchor": "y",
         "domain": [
          0,
          1
         ],
         "title": {
          "text": "Type"
         }
        },
        "yaxis": {
         "anchor": "x",
         "domain": [
          0,
          1
         ],
         "title": {
          "text": "Number of Objects [-]"
         }
        }
       }
      }
     },
     "metadata": {},
     "output_type": "display_data"
    }
   ],
   "source": [
    "df_list_prop = df_list.property_type.value_counts().reset_index()\n",
    "df_list_prop['rel']  = df_list_prop['count'] / len(df_list) * 100\n",
    "df_list_prop['rel_cumsum'] = df_list_prop['rel'].cumsum()\n",
    "\n",
    "\n",
    "fig = px.bar(\n",
    "    df_list_prop, x='property_type', y='count',\n",
    "    labels= {\n",
    "                 'property_type': 'Property type',\n",
    "                 'count': 'Number of objects'\n",
    "            }\n",
    "            )\n",
    "\n",
    "\n",
    "fig.update_layout(\n",
    "    yaxis_title='Number of Objects [-]',\n",
    "    xaxis_title = 'Type',\n",
    "    title='Number of listed property types',\n",
    "    template='plotly_dark',\n",
    "    width = 700,\n",
    "    height = 600\n",
    ")\n",
    "\n",
    "fig.show()"
   ]
  },
  {
   "cell_type": "code",
   "execution_count": 365,
   "metadata": {},
   "outputs": [
    {
     "data": {
      "application/vnd.plotly.v1+json": {
       "config": {
        "plotlyServerURL": "https://plot.ly"
       },
       "data": [
        {
         "name": "Relative Number [%]",
         "type": "bar",
         "x": [
          "House",
          "Apartment",
          "Townhouse",
          "Condominium",
          "Loft",
          "Bed & Breakfast",
          "Other",
          "Cabin",
          "Camper/RV",
          "Bungalow",
          "Boat",
          "Tent",
          "Treehouse",
          "Dorm",
          "Chalet",
          "Yurt"
         ],
         "y": [
          45.39025667888947,
          44.735463593504456,
          3.090623363017287,
          2.383446830801467,
          1.0476689366160294,
          0.9690937663698271,
          0.5762179151388162,
          0.5500261917234154,
          0.34049240440020956,
          0.34049240440020956,
          0.20953378732320588,
          0.13095861707700368,
          0.0785751702462022,
          0.05238344683080147,
          0.05238344683080147,
          0.026191723415400735
         ]
        },
        {
         "mode": "lines",
         "name": "Cumulative Sum [%]",
         "type": "scatter",
         "x": [
          "House",
          "Apartment",
          "Townhouse",
          "Condominium",
          "Loft",
          "Bed & Breakfast",
          "Other",
          "Cabin",
          "Camper/RV",
          "Bungalow",
          "Boat",
          "Tent",
          "Treehouse",
          "Dorm",
          "Chalet",
          "Yurt"
         ],
         "xaxis": "x",
         "y": [
          45.39025667888947,
          90.12572027239392,
          93.2163436354112,
          95.59979046621267,
          96.6474594028287,
          97.61655316919853,
          98.19277108433734,
          98.74279727606076,
          99.08328968046096,
          99.42378208486117,
          99.63331587218438,
          99.76427448926138,
          99.84284965950758,
          99.89523310633838,
          99.94761655316918,
          99.97380827658458
         ],
         "yaxis": "y2"
        }
       ],
       "layout": {
        "height": 600,
        "hovermode": "x",
        "legend": {
         "orientation": "h",
         "x": 0,
         "xanchor": "left",
         "y": 1,
         "yanchor": "bottom"
        },
        "template": {
         "data": {
          "bar": [
           {
            "error_x": {
             "color": "#f2f5fa"
            },
            "error_y": {
             "color": "#f2f5fa"
            },
            "marker": {
             "line": {
              "color": "rgb(17,17,17)",
              "width": 0.5
             },
             "pattern": {
              "fillmode": "overlay",
              "size": 10,
              "solidity": 0.2
             }
            },
            "type": "bar"
           }
          ],
          "barpolar": [
           {
            "marker": {
             "line": {
              "color": "rgb(17,17,17)",
              "width": 0.5
             },
             "pattern": {
              "fillmode": "overlay",
              "size": 10,
              "solidity": 0.2
             }
            },
            "type": "barpolar"
           }
          ],
          "carpet": [
           {
            "aaxis": {
             "endlinecolor": "#A2B1C6",
             "gridcolor": "#506784",
             "linecolor": "#506784",
             "minorgridcolor": "#506784",
             "startlinecolor": "#A2B1C6"
            },
            "baxis": {
             "endlinecolor": "#A2B1C6",
             "gridcolor": "#506784",
             "linecolor": "#506784",
             "minorgridcolor": "#506784",
             "startlinecolor": "#A2B1C6"
            },
            "type": "carpet"
           }
          ],
          "choropleth": [
           {
            "colorbar": {
             "outlinewidth": 0,
             "ticks": ""
            },
            "type": "choropleth"
           }
          ],
          "contour": [
           {
            "colorbar": {
             "outlinewidth": 0,
             "ticks": ""
            },
            "colorscale": [
             [
              0,
              "#0d0887"
             ],
             [
              0.1111111111111111,
              "#46039f"
             ],
             [
              0.2222222222222222,
              "#7201a8"
             ],
             [
              0.3333333333333333,
              "#9c179e"
             ],
             [
              0.4444444444444444,
              "#bd3786"
             ],
             [
              0.5555555555555556,
              "#d8576b"
             ],
             [
              0.6666666666666666,
              "#ed7953"
             ],
             [
              0.7777777777777778,
              "#fb9f3a"
             ],
             [
              0.8888888888888888,
              "#fdca26"
             ],
             [
              1,
              "#f0f921"
             ]
            ],
            "type": "contour"
           }
          ],
          "contourcarpet": [
           {
            "colorbar": {
             "outlinewidth": 0,
             "ticks": ""
            },
            "type": "contourcarpet"
           }
          ],
          "heatmap": [
           {
            "colorbar": {
             "outlinewidth": 0,
             "ticks": ""
            },
            "colorscale": [
             [
              0,
              "#0d0887"
             ],
             [
              0.1111111111111111,
              "#46039f"
             ],
             [
              0.2222222222222222,
              "#7201a8"
             ],
             [
              0.3333333333333333,
              "#9c179e"
             ],
             [
              0.4444444444444444,
              "#bd3786"
             ],
             [
              0.5555555555555556,
              "#d8576b"
             ],
             [
              0.6666666666666666,
              "#ed7953"
             ],
             [
              0.7777777777777778,
              "#fb9f3a"
             ],
             [
              0.8888888888888888,
              "#fdca26"
             ],
             [
              1,
              "#f0f921"
             ]
            ],
            "type": "heatmap"
           }
          ],
          "heatmapgl": [
           {
            "colorbar": {
             "outlinewidth": 0,
             "ticks": ""
            },
            "colorscale": [
             [
              0,
              "#0d0887"
             ],
             [
              0.1111111111111111,
              "#46039f"
             ],
             [
              0.2222222222222222,
              "#7201a8"
             ],
             [
              0.3333333333333333,
              "#9c179e"
             ],
             [
              0.4444444444444444,
              "#bd3786"
             ],
             [
              0.5555555555555556,
              "#d8576b"
             ],
             [
              0.6666666666666666,
              "#ed7953"
             ],
             [
              0.7777777777777778,
              "#fb9f3a"
             ],
             [
              0.8888888888888888,
              "#fdca26"
             ],
             [
              1,
              "#f0f921"
             ]
            ],
            "type": "heatmapgl"
           }
          ],
          "histogram": [
           {
            "marker": {
             "pattern": {
              "fillmode": "overlay",
              "size": 10,
              "solidity": 0.2
             }
            },
            "type": "histogram"
           }
          ],
          "histogram2d": [
           {
            "colorbar": {
             "outlinewidth": 0,
             "ticks": ""
            },
            "colorscale": [
             [
              0,
              "#0d0887"
             ],
             [
              0.1111111111111111,
              "#46039f"
             ],
             [
              0.2222222222222222,
              "#7201a8"
             ],
             [
              0.3333333333333333,
              "#9c179e"
             ],
             [
              0.4444444444444444,
              "#bd3786"
             ],
             [
              0.5555555555555556,
              "#d8576b"
             ],
             [
              0.6666666666666666,
              "#ed7953"
             ],
             [
              0.7777777777777778,
              "#fb9f3a"
             ],
             [
              0.8888888888888888,
              "#fdca26"
             ],
             [
              1,
              "#f0f921"
             ]
            ],
            "type": "histogram2d"
           }
          ],
          "histogram2dcontour": [
           {
            "colorbar": {
             "outlinewidth": 0,
             "ticks": ""
            },
            "colorscale": [
             [
              0,
              "#0d0887"
             ],
             [
              0.1111111111111111,
              "#46039f"
             ],
             [
              0.2222222222222222,
              "#7201a8"
             ],
             [
              0.3333333333333333,
              "#9c179e"
             ],
             [
              0.4444444444444444,
              "#bd3786"
             ],
             [
              0.5555555555555556,
              "#d8576b"
             ],
             [
              0.6666666666666666,
              "#ed7953"
             ],
             [
              0.7777777777777778,
              "#fb9f3a"
             ],
             [
              0.8888888888888888,
              "#fdca26"
             ],
             [
              1,
              "#f0f921"
             ]
            ],
            "type": "histogram2dcontour"
           }
          ],
          "mesh3d": [
           {
            "colorbar": {
             "outlinewidth": 0,
             "ticks": ""
            },
            "type": "mesh3d"
           }
          ],
          "parcoords": [
           {
            "line": {
             "colorbar": {
              "outlinewidth": 0,
              "ticks": ""
             }
            },
            "type": "parcoords"
           }
          ],
          "pie": [
           {
            "automargin": true,
            "type": "pie"
           }
          ],
          "scatter": [
           {
            "marker": {
             "line": {
              "color": "#283442"
             }
            },
            "type": "scatter"
           }
          ],
          "scatter3d": [
           {
            "line": {
             "colorbar": {
              "outlinewidth": 0,
              "ticks": ""
             }
            },
            "marker": {
             "colorbar": {
              "outlinewidth": 0,
              "ticks": ""
             }
            },
            "type": "scatter3d"
           }
          ],
          "scattercarpet": [
           {
            "marker": {
             "colorbar": {
              "outlinewidth": 0,
              "ticks": ""
             }
            },
            "type": "scattercarpet"
           }
          ],
          "scattergeo": [
           {
            "marker": {
             "colorbar": {
              "outlinewidth": 0,
              "ticks": ""
             }
            },
            "type": "scattergeo"
           }
          ],
          "scattergl": [
           {
            "marker": {
             "line": {
              "color": "#283442"
             }
            },
            "type": "scattergl"
           }
          ],
          "scattermapbox": [
           {
            "marker": {
             "colorbar": {
              "outlinewidth": 0,
              "ticks": ""
             }
            },
            "type": "scattermapbox"
           }
          ],
          "scatterpolar": [
           {
            "marker": {
             "colorbar": {
              "outlinewidth": 0,
              "ticks": ""
             }
            },
            "type": "scatterpolar"
           }
          ],
          "scatterpolargl": [
           {
            "marker": {
             "colorbar": {
              "outlinewidth": 0,
              "ticks": ""
             }
            },
            "type": "scatterpolargl"
           }
          ],
          "scatterternary": [
           {
            "marker": {
             "colorbar": {
              "outlinewidth": 0,
              "ticks": ""
             }
            },
            "type": "scatterternary"
           }
          ],
          "surface": [
           {
            "colorbar": {
             "outlinewidth": 0,
             "ticks": ""
            },
            "colorscale": [
             [
              0,
              "#0d0887"
             ],
             [
              0.1111111111111111,
              "#46039f"
             ],
             [
              0.2222222222222222,
              "#7201a8"
             ],
             [
              0.3333333333333333,
              "#9c179e"
             ],
             [
              0.4444444444444444,
              "#bd3786"
             ],
             [
              0.5555555555555556,
              "#d8576b"
             ],
             [
              0.6666666666666666,
              "#ed7953"
             ],
             [
              0.7777777777777778,
              "#fb9f3a"
             ],
             [
              0.8888888888888888,
              "#fdca26"
             ],
             [
              1,
              "#f0f921"
             ]
            ],
            "type": "surface"
           }
          ],
          "table": [
           {
            "cells": {
             "fill": {
              "color": "#506784"
             },
             "line": {
              "color": "rgb(17,17,17)"
             }
            },
            "header": {
             "fill": {
              "color": "#2a3f5f"
             },
             "line": {
              "color": "rgb(17,17,17)"
             }
            },
            "type": "table"
           }
          ]
         },
         "layout": {
          "annotationdefaults": {
           "arrowcolor": "#f2f5fa",
           "arrowhead": 0,
           "arrowwidth": 1
          },
          "autotypenumbers": "strict",
          "coloraxis": {
           "colorbar": {
            "outlinewidth": 0,
            "ticks": ""
           }
          },
          "colorscale": {
           "diverging": [
            [
             0,
             "#8e0152"
            ],
            [
             0.1,
             "#c51b7d"
            ],
            [
             0.2,
             "#de77ae"
            ],
            [
             0.3,
             "#f1b6da"
            ],
            [
             0.4,
             "#fde0ef"
            ],
            [
             0.5,
             "#f7f7f7"
            ],
            [
             0.6,
             "#e6f5d0"
            ],
            [
             0.7,
             "#b8e186"
            ],
            [
             0.8,
             "#7fbc41"
            ],
            [
             0.9,
             "#4d9221"
            ],
            [
             1,
             "#276419"
            ]
           ],
           "sequential": [
            [
             0,
             "#0d0887"
            ],
            [
             0.1111111111111111,
             "#46039f"
            ],
            [
             0.2222222222222222,
             "#7201a8"
            ],
            [
             0.3333333333333333,
             "#9c179e"
            ],
            [
             0.4444444444444444,
             "#bd3786"
            ],
            [
             0.5555555555555556,
             "#d8576b"
            ],
            [
             0.6666666666666666,
             "#ed7953"
            ],
            [
             0.7777777777777778,
             "#fb9f3a"
            ],
            [
             0.8888888888888888,
             "#fdca26"
            ],
            [
             1,
             "#f0f921"
            ]
           ],
           "sequentialminus": [
            [
             0,
             "#0d0887"
            ],
            [
             0.1111111111111111,
             "#46039f"
            ],
            [
             0.2222222222222222,
             "#7201a8"
            ],
            [
             0.3333333333333333,
             "#9c179e"
            ],
            [
             0.4444444444444444,
             "#bd3786"
            ],
            [
             0.5555555555555556,
             "#d8576b"
            ],
            [
             0.6666666666666666,
             "#ed7953"
            ],
            [
             0.7777777777777778,
             "#fb9f3a"
            ],
            [
             0.8888888888888888,
             "#fdca26"
            ],
            [
             1,
             "#f0f921"
            ]
           ]
          },
          "colorway": [
           "#636efa",
           "#EF553B",
           "#00cc96",
           "#ab63fa",
           "#FFA15A",
           "#19d3f3",
           "#FF6692",
           "#B6E880",
           "#FF97FF",
           "#FECB52"
          ],
          "font": {
           "color": "#f2f5fa"
          },
          "geo": {
           "bgcolor": "rgb(17,17,17)",
           "lakecolor": "rgb(17,17,17)",
           "landcolor": "rgb(17,17,17)",
           "showlakes": true,
           "showland": true,
           "subunitcolor": "#506784"
          },
          "hoverlabel": {
           "align": "left"
          },
          "hovermode": "closest",
          "mapbox": {
           "style": "dark"
          },
          "paper_bgcolor": "rgb(17,17,17)",
          "plot_bgcolor": "rgb(17,17,17)",
          "polar": {
           "angularaxis": {
            "gridcolor": "#506784",
            "linecolor": "#506784",
            "ticks": ""
           },
           "bgcolor": "rgb(17,17,17)",
           "radialaxis": {
            "gridcolor": "#506784",
            "linecolor": "#506784",
            "ticks": ""
           }
          },
          "scene": {
           "xaxis": {
            "backgroundcolor": "rgb(17,17,17)",
            "gridcolor": "#506784",
            "gridwidth": 2,
            "linecolor": "#506784",
            "showbackground": true,
            "ticks": "",
            "zerolinecolor": "#C8D4E3"
           },
           "yaxis": {
            "backgroundcolor": "rgb(17,17,17)",
            "gridcolor": "#506784",
            "gridwidth": 2,
            "linecolor": "#506784",
            "showbackground": true,
            "ticks": "",
            "zerolinecolor": "#C8D4E3"
           },
           "zaxis": {
            "backgroundcolor": "rgb(17,17,17)",
            "gridcolor": "#506784",
            "gridwidth": 2,
            "linecolor": "#506784",
            "showbackground": true,
            "ticks": "",
            "zerolinecolor": "#C8D4E3"
           }
          },
          "shapedefaults": {
           "line": {
            "color": "#f2f5fa"
           }
          },
          "sliderdefaults": {
           "bgcolor": "#C8D4E3",
           "bordercolor": "rgb(17,17,17)",
           "borderwidth": 1,
           "tickwidth": 0
          },
          "ternary": {
           "aaxis": {
            "gridcolor": "#506784",
            "linecolor": "#506784",
            "ticks": ""
           },
           "baxis": {
            "gridcolor": "#506784",
            "linecolor": "#506784",
            "ticks": ""
           },
           "bgcolor": "rgb(17,17,17)",
           "caxis": {
            "gridcolor": "#506784",
            "linecolor": "#506784",
            "ticks": ""
           }
          },
          "title": {
           "x": 0.05
          },
          "updatemenudefaults": {
           "bgcolor": "#506784",
           "borderwidth": 0
          },
          "xaxis": {
           "automargin": true,
           "gridcolor": "#283442",
           "linecolor": "#506784",
           "ticks": "",
           "title": {
            "standoff": 15
           },
           "zerolinecolor": "#283442",
           "zerolinewidth": 2
          },
          "yaxis": {
           "automargin": true,
           "gridcolor": "#283442",
           "linecolor": "#506784",
           "ticks": "",
           "title": {
            "standoff": 15
           },
           "zerolinecolor": "#283442",
           "zerolinewidth": 2
          }
         }
        },
        "title": {
         "font": {
          "size": 20
         },
         "text": "Distribution of the object types"
        },
        "width": 1000,
        "xaxis": {
         "anchor": "y",
         "domain": [
          0,
          0.94
         ],
         "tickfont": {
          "size": 12
         },
         "title": {
          "font": {
           "size": 16
          },
          "text": "Object type"
         }
        },
        "yaxis": {
         "anchor": "x",
         "domain": [
          0,
          1
         ],
         "range": [
          0,
          50
         ],
         "side": "left",
         "tickfont": {
          "size": 12
         },
         "title": {
          "font": {
           "size": 16
          },
          "text": "Relative Number [%]"
         }
        },
        "yaxis2": {
         "anchor": "x",
         "overlaying": "y",
         "range": [
          0,
          100
         ],
         "side": "right",
         "tickfont": {
          "size": 12
         },
         "tickmode": "sync",
         "title": {
          "font": {
           "size": 16
          },
          "text": "Cumulative Sum [%]"
         }
        }
       }
      }
     },
     "metadata": {},
     "output_type": "display_data"
    }
   ],
   "source": [
    "df_list_prop = df_list.property_type.value_counts().reset_index()\n",
    "df_list_prop['rel']  = df_list_prop['count'] / len(df_list) * 100\n",
    "df_list_prop['rel_cumsum'] = df_list_prop['rel'].cumsum()\n",
    "\n",
    "\n",
    "fig = make_subplots(specs=[[{\"secondary_y\": True}]])\n",
    "\n",
    "fig.add_trace(go.Bar(x=df_list_prop['property_type'], y=df_list_prop['rel'], \n",
    "                     name = 'Relative Number [%]'\n",
    "             ))\n",
    "\n",
    "fig.add_trace(go.Scatter(x=df_list_prop['property_type'], y=df_list_prop['rel_cumsum'],\n",
    "                        name = 'Cumulative Sum [%]',\n",
    "                        mode = 'lines'),\n",
    "                        secondary_y=True)\n",
    "\n",
    "\n",
    "fig.update_layout(\n",
    "    title='Distribution of the object types',\n",
    "    title_font = {\"size\": 20},\n",
    "    xaxis_title = 'Object type',\n",
    "    template='plotly_dark',\n",
    "    hovermode = 'x',\n",
    "    width = 1000,\n",
    "    height = 600,\n",
    "    yaxis = dict(\n",
    "        title=dict(text=\"Relative Number [%]\"),\n",
    "        side=\"left\",\n",
    "        range=[0, 50]),\n",
    "    yaxis2 = dict(\n",
    "        title=dict(text=\"Cumulative Sum [%]\"),\n",
    "        side=\"right\",\n",
    "        range=[0, 100],\n",
    "        overlaying=\"y\",\n",
    "        tickmode=\"sync\")\n",
    ")\n",
    "\n",
    "fig.update_yaxes(\n",
    "    title_font = {\"size\": 16},\n",
    "    tickfont = {\"size\": 12}\n",
    "    )\n",
    "\n",
    "fig.update_xaxes(\n",
    "    title_font = {\"size\": 16},\n",
    "    tickfont = {\"size\": 12}\n",
    "    )\n",
    "\n",
    "fig.update_layout(legend=dict(\n",
    "    orientation=\"h\",\n",
    "    yanchor=\"bottom\",\n",
    "    y=1,\n",
    "    xanchor=\"left\",\n",
    "    x=0\n",
    "    ))\n",
    "\n",
    "\n",
    "\n",
    "fig.show()"
   ]
  },
  {
   "cell_type": "markdown",
   "metadata": {},
   "source": [
    "#### Price per Accomodate over the year per region"
   ]
  },
  {
   "cell_type": "code",
   "execution_count": 366,
   "metadata": {},
   "outputs": [
    {
     "data": {
      "text/html": [
       "<div>\n",
       "<style scoped>\n",
       "    .dataframe tbody tr th:only-of-type {\n",
       "        vertical-align: middle;\n",
       "    }\n",
       "\n",
       "    .dataframe tbody tr th {\n",
       "        vertical-align: top;\n",
       "    }\n",
       "\n",
       "    .dataframe thead th {\n",
       "        text-align: right;\n",
       "    }\n",
       "</style>\n",
       "<table border=\"1\" class=\"dataframe\">\n",
       "  <thead>\n",
       "    <tr style=\"text-align: right;\">\n",
       "      <th></th>\n",
       "      <th>listing_id</th>\n",
       "      <th>date</th>\n",
       "      <th>week</th>\n",
       "      <th>month</th>\n",
       "      <th>month_name</th>\n",
       "      <th>available</th>\n",
       "      <th>price_usd</th>\n",
       "      <th>price_usd_cal</th>\n",
       "      <th>neighbourhood_group_cleansed</th>\n",
       "      <th>accommodates</th>\n",
       "      <th>price_fluc</th>\n",
       "      <th>price_p_accom</th>\n",
       "    </tr>\n",
       "  </thead>\n",
       "  <tbody>\n",
       "    <tr>\n",
       "      <th>0</th>\n",
       "      <td>241032</td>\n",
       "      <td>2016-01-04</td>\n",
       "      <td>1</td>\n",
       "      <td>1</td>\n",
       "      <td>January</td>\n",
       "      <td>True</td>\n",
       "      <td>85.0</td>\n",
       "      <td>85.0</td>\n",
       "      <td>Queen Anne</td>\n",
       "      <td>4</td>\n",
       "      <td>1.0</td>\n",
       "      <td>21.25</td>\n",
       "    </tr>\n",
       "    <tr>\n",
       "      <th>1</th>\n",
       "      <td>241032</td>\n",
       "      <td>2016-01-05</td>\n",
       "      <td>1</td>\n",
       "      <td>1</td>\n",
       "      <td>January</td>\n",
       "      <td>True</td>\n",
       "      <td>85.0</td>\n",
       "      <td>85.0</td>\n",
       "      <td>Queen Anne</td>\n",
       "      <td>4</td>\n",
       "      <td>1.0</td>\n",
       "      <td>21.25</td>\n",
       "    </tr>\n",
       "  </tbody>\n",
       "</table>\n",
       "</div>"
      ],
      "text/plain": [
       "   listing_id       date  week  month month_name  available  price_usd  \\\n",
       "0      241032 2016-01-04     1      1    January       True       85.0   \n",
       "1      241032 2016-01-05     1      1    January       True       85.0   \n",
       "\n",
       "   price_usd_cal neighbourhood_group_cleansed  accommodates  price_fluc  \\\n",
       "0           85.0                   Queen Anne             4         1.0   \n",
       "1           85.0                   Queen Anne             4         1.0   \n",
       "\n",
       "   price_p_accom  \n",
       "0          21.25  \n",
       "1          21.25  "
      ]
     },
     "execution_count": 366,
     "metadata": {},
     "output_type": "execute_result"
    }
   ],
   "source": [
    "rel_cols = ['listing_id',\n",
    "            'date',\n",
    "            'week',\n",
    "            'month',\n",
    "            'month_name',\n",
    "            'available',\n",
    "            'price_usd',\n",
    "            'price_usd_cal',\n",
    "            'neighbourhood_group_cleansed',\n",
    "            'accommodates']\n",
    "\n",
    "df_merge_f = df_merge[rel_cols]\n",
    "\n",
    "df_merge_f = df_merge_f[df_merge_f['available'] == True]\n",
    "\n",
    "df_merge_f['price_fluc'] = df_merge_f['price_usd_cal'] / df_merge_f['price_usd']\n",
    "df_merge_f['price_p_accom'] = df_merge_f['price_usd_cal'] / df_merge_f['accommodates']\n",
    "\n",
    "df_merge_f.head(2)"
   ]
  },
  {
   "cell_type": "code",
   "execution_count": 367,
   "metadata": {},
   "outputs": [
    {
     "data": {
      "application/vnd.plotly.v1+json": {
       "config": {
        "plotlyServerURL": "https://plot.ly"
       },
       "data": [
        {
         "name": "Relative Number [%]",
         "type": "bar",
         "x": [
          "0 ... 5",
          "5 ... 10",
          "10 ... 15",
          "15 ... 20",
          "20 ... 25",
          "25 ... 30",
          "30 ... 35",
          "35 ... 40",
          "40 ... 45",
          "45 ... 50",
          "50 ... 55",
          "55 ... 60",
          "60 ... 65",
          "65 ... 70",
          "70 ... 75",
          "75 ... 80",
          "80 ... 85",
          "85 ... 90",
          "90 ... 95",
          "95 ... 100",
          "100 ... 105",
          "105 ... 110",
          "110 ... 115",
          "115 ... 120",
          "120 ... 125",
          "125 ... 130",
          "130 ... 135",
          "135 ... 140",
          "140 ... 145",
          "145 ... 150",
          "150 ... 155",
          "155 ... 160",
          "160 ... 165",
          "165 ... 170",
          "170 ... 175",
          "175 ... 180",
          "180 ... 185",
          "185 ... 190",
          "190 ... 195"
         ],
         "y": [
          0.03,
          0.21,
          0.92,
          3.57,
          8.51,
          11.49,
          13.46,
          11.61,
          11.53,
          8.8,
          6.61,
          5.33,
          4.6,
          3.09,
          1.85,
          2.5,
          1.02,
          0.93,
          0.66,
          0.62,
          0.78,
          0.14,
          0.41,
          0.1,
          0.21,
          0.3,
          0.03,
          0.15,
          0,
          0.09,
          0.21,
          0.04,
          0,
          0.02,
          0,
          0.02,
          0.01,
          0,
          0
         ]
        },
        {
         "mode": "lines",
         "name": "Cumulative Sum [%]",
         "type": "scatter",
         "x": [
          "0 ... 5",
          "5 ... 10",
          "10 ... 15",
          "15 ... 20",
          "20 ... 25",
          "25 ... 30",
          "30 ... 35",
          "35 ... 40",
          "40 ... 45",
          "45 ... 50",
          "50 ... 55",
          "55 ... 60",
          "60 ... 65",
          "65 ... 70",
          "70 ... 75",
          "75 ... 80",
          "80 ... 85",
          "85 ... 90",
          "90 ... 95",
          "95 ... 100",
          "100 ... 105",
          "105 ... 110",
          "110 ... 115",
          "115 ... 120",
          "120 ... 125",
          "125 ... 130",
          "130 ... 135",
          "135 ... 140",
          "140 ... 145",
          "145 ... 150",
          "150 ... 155",
          "155 ... 160",
          "160 ... 165",
          "165 ... 170",
          "170 ... 175",
          "175 ... 180",
          "180 ... 185",
          "185 ... 190",
          "190 ... 195"
         ],
         "xaxis": "x",
         "y": [
          0.03,
          0.24,
          1.1600000000000001,
          4.73,
          13.24,
          24.73,
          38.19,
          49.8,
          61.33,
          70.13,
          76.74,
          82.07,
          86.66999999999999,
          89.75999999999999,
          91.60999999999999,
          94.10999999999999,
          95.12999999999998,
          96.05999999999999,
          96.71999999999998,
          97.33999999999999,
          98.11999999999999,
          98.25999999999999,
          98.66999999999999,
          98.76999999999998,
          98.97999999999998,
          99.27999999999997,
          99.30999999999997,
          99.45999999999998,
          99.45999999999998,
          99.54999999999998,
          99.75999999999998,
          99.79999999999998,
          99.79999999999998,
          99.81999999999998,
          99.81999999999998,
          99.83999999999997,
          99.84999999999998,
          99.84999999999998,
          99.84999999999998
         ],
         "yaxis": "y2"
        }
       ],
       "layout": {
        "annotations": [
         {
          "align": "right",
          "showarrow": false,
          "text": "Maximum Value: 413.33 USD/accomodate",
          "x": 0.98,
          "xref": "x domain",
          "y": 0.9,
          "yref": "y domain"
         }
        ],
        "height": 600,
        "hovermode": "x",
        "legend": {
         "orientation": "h",
         "x": 0,
         "xanchor": "left",
         "y": 1,
         "yanchor": "bottom"
        },
        "template": {
         "data": {
          "bar": [
           {
            "error_x": {
             "color": "#f2f5fa"
            },
            "error_y": {
             "color": "#f2f5fa"
            },
            "marker": {
             "line": {
              "color": "rgb(17,17,17)",
              "width": 0.5
             },
             "pattern": {
              "fillmode": "overlay",
              "size": 10,
              "solidity": 0.2
             }
            },
            "type": "bar"
           }
          ],
          "barpolar": [
           {
            "marker": {
             "line": {
              "color": "rgb(17,17,17)",
              "width": 0.5
             },
             "pattern": {
              "fillmode": "overlay",
              "size": 10,
              "solidity": 0.2
             }
            },
            "type": "barpolar"
           }
          ],
          "carpet": [
           {
            "aaxis": {
             "endlinecolor": "#A2B1C6",
             "gridcolor": "#506784",
             "linecolor": "#506784",
             "minorgridcolor": "#506784",
             "startlinecolor": "#A2B1C6"
            },
            "baxis": {
             "endlinecolor": "#A2B1C6",
             "gridcolor": "#506784",
             "linecolor": "#506784",
             "minorgridcolor": "#506784",
             "startlinecolor": "#A2B1C6"
            },
            "type": "carpet"
           }
          ],
          "choropleth": [
           {
            "colorbar": {
             "outlinewidth": 0,
             "ticks": ""
            },
            "type": "choropleth"
           }
          ],
          "contour": [
           {
            "colorbar": {
             "outlinewidth": 0,
             "ticks": ""
            },
            "colorscale": [
             [
              0,
              "#0d0887"
             ],
             [
              0.1111111111111111,
              "#46039f"
             ],
             [
              0.2222222222222222,
              "#7201a8"
             ],
             [
              0.3333333333333333,
              "#9c179e"
             ],
             [
              0.4444444444444444,
              "#bd3786"
             ],
             [
              0.5555555555555556,
              "#d8576b"
             ],
             [
              0.6666666666666666,
              "#ed7953"
             ],
             [
              0.7777777777777778,
              "#fb9f3a"
             ],
             [
              0.8888888888888888,
              "#fdca26"
             ],
             [
              1,
              "#f0f921"
             ]
            ],
            "type": "contour"
           }
          ],
          "contourcarpet": [
           {
            "colorbar": {
             "outlinewidth": 0,
             "ticks": ""
            },
            "type": "contourcarpet"
           }
          ],
          "heatmap": [
           {
            "colorbar": {
             "outlinewidth": 0,
             "ticks": ""
            },
            "colorscale": [
             [
              0,
              "#0d0887"
             ],
             [
              0.1111111111111111,
              "#46039f"
             ],
             [
              0.2222222222222222,
              "#7201a8"
             ],
             [
              0.3333333333333333,
              "#9c179e"
             ],
             [
              0.4444444444444444,
              "#bd3786"
             ],
             [
              0.5555555555555556,
              "#d8576b"
             ],
             [
              0.6666666666666666,
              "#ed7953"
             ],
             [
              0.7777777777777778,
              "#fb9f3a"
             ],
             [
              0.8888888888888888,
              "#fdca26"
             ],
             [
              1,
              "#f0f921"
             ]
            ],
            "type": "heatmap"
           }
          ],
          "heatmapgl": [
           {
            "colorbar": {
             "outlinewidth": 0,
             "ticks": ""
            },
            "colorscale": [
             [
              0,
              "#0d0887"
             ],
             [
              0.1111111111111111,
              "#46039f"
             ],
             [
              0.2222222222222222,
              "#7201a8"
             ],
             [
              0.3333333333333333,
              "#9c179e"
             ],
             [
              0.4444444444444444,
              "#bd3786"
             ],
             [
              0.5555555555555556,
              "#d8576b"
             ],
             [
              0.6666666666666666,
              "#ed7953"
             ],
             [
              0.7777777777777778,
              "#fb9f3a"
             ],
             [
              0.8888888888888888,
              "#fdca26"
             ],
             [
              1,
              "#f0f921"
             ]
            ],
            "type": "heatmapgl"
           }
          ],
          "histogram": [
           {
            "marker": {
             "pattern": {
              "fillmode": "overlay",
              "size": 10,
              "solidity": 0.2
             }
            },
            "type": "histogram"
           }
          ],
          "histogram2d": [
           {
            "colorbar": {
             "outlinewidth": 0,
             "ticks": ""
            },
            "colorscale": [
             [
              0,
              "#0d0887"
             ],
             [
              0.1111111111111111,
              "#46039f"
             ],
             [
              0.2222222222222222,
              "#7201a8"
             ],
             [
              0.3333333333333333,
              "#9c179e"
             ],
             [
              0.4444444444444444,
              "#bd3786"
             ],
             [
              0.5555555555555556,
              "#d8576b"
             ],
             [
              0.6666666666666666,
              "#ed7953"
             ],
             [
              0.7777777777777778,
              "#fb9f3a"
             ],
             [
              0.8888888888888888,
              "#fdca26"
             ],
             [
              1,
              "#f0f921"
             ]
            ],
            "type": "histogram2d"
           }
          ],
          "histogram2dcontour": [
           {
            "colorbar": {
             "outlinewidth": 0,
             "ticks": ""
            },
            "colorscale": [
             [
              0,
              "#0d0887"
             ],
             [
              0.1111111111111111,
              "#46039f"
             ],
             [
              0.2222222222222222,
              "#7201a8"
             ],
             [
              0.3333333333333333,
              "#9c179e"
             ],
             [
              0.4444444444444444,
              "#bd3786"
             ],
             [
              0.5555555555555556,
              "#d8576b"
             ],
             [
              0.6666666666666666,
              "#ed7953"
             ],
             [
              0.7777777777777778,
              "#fb9f3a"
             ],
             [
              0.8888888888888888,
              "#fdca26"
             ],
             [
              1,
              "#f0f921"
             ]
            ],
            "type": "histogram2dcontour"
           }
          ],
          "mesh3d": [
           {
            "colorbar": {
             "outlinewidth": 0,
             "ticks": ""
            },
            "type": "mesh3d"
           }
          ],
          "parcoords": [
           {
            "line": {
             "colorbar": {
              "outlinewidth": 0,
              "ticks": ""
             }
            },
            "type": "parcoords"
           }
          ],
          "pie": [
           {
            "automargin": true,
            "type": "pie"
           }
          ],
          "scatter": [
           {
            "marker": {
             "line": {
              "color": "#283442"
             }
            },
            "type": "scatter"
           }
          ],
          "scatter3d": [
           {
            "line": {
             "colorbar": {
              "outlinewidth": 0,
              "ticks": ""
             }
            },
            "marker": {
             "colorbar": {
              "outlinewidth": 0,
              "ticks": ""
             }
            },
            "type": "scatter3d"
           }
          ],
          "scattercarpet": [
           {
            "marker": {
             "colorbar": {
              "outlinewidth": 0,
              "ticks": ""
             }
            },
            "type": "scattercarpet"
           }
          ],
          "scattergeo": [
           {
            "marker": {
             "colorbar": {
              "outlinewidth": 0,
              "ticks": ""
             }
            },
            "type": "scattergeo"
           }
          ],
          "scattergl": [
           {
            "marker": {
             "line": {
              "color": "#283442"
             }
            },
            "type": "scattergl"
           }
          ],
          "scattermapbox": [
           {
            "marker": {
             "colorbar": {
              "outlinewidth": 0,
              "ticks": ""
             }
            },
            "type": "scattermapbox"
           }
          ],
          "scatterpolar": [
           {
            "marker": {
             "colorbar": {
              "outlinewidth": 0,
              "ticks": ""
             }
            },
            "type": "scatterpolar"
           }
          ],
          "scatterpolargl": [
           {
            "marker": {
             "colorbar": {
              "outlinewidth": 0,
              "ticks": ""
             }
            },
            "type": "scatterpolargl"
           }
          ],
          "scatterternary": [
           {
            "marker": {
             "colorbar": {
              "outlinewidth": 0,
              "ticks": ""
             }
            },
            "type": "scatterternary"
           }
          ],
          "surface": [
           {
            "colorbar": {
             "outlinewidth": 0,
             "ticks": ""
            },
            "colorscale": [
             [
              0,
              "#0d0887"
             ],
             [
              0.1111111111111111,
              "#46039f"
             ],
             [
              0.2222222222222222,
              "#7201a8"
             ],
             [
              0.3333333333333333,
              "#9c179e"
             ],
             [
              0.4444444444444444,
              "#bd3786"
             ],
             [
              0.5555555555555556,
              "#d8576b"
             ],
             [
              0.6666666666666666,
              "#ed7953"
             ],
             [
              0.7777777777777778,
              "#fb9f3a"
             ],
             [
              0.8888888888888888,
              "#fdca26"
             ],
             [
              1,
              "#f0f921"
             ]
            ],
            "type": "surface"
           }
          ],
          "table": [
           {
            "cells": {
             "fill": {
              "color": "#506784"
             },
             "line": {
              "color": "rgb(17,17,17)"
             }
            },
            "header": {
             "fill": {
              "color": "#2a3f5f"
             },
             "line": {
              "color": "rgb(17,17,17)"
             }
            },
            "type": "table"
           }
          ]
         },
         "layout": {
          "annotationdefaults": {
           "arrowcolor": "#f2f5fa",
           "arrowhead": 0,
           "arrowwidth": 1
          },
          "autotypenumbers": "strict",
          "coloraxis": {
           "colorbar": {
            "outlinewidth": 0,
            "ticks": ""
           }
          },
          "colorscale": {
           "diverging": [
            [
             0,
             "#8e0152"
            ],
            [
             0.1,
             "#c51b7d"
            ],
            [
             0.2,
             "#de77ae"
            ],
            [
             0.3,
             "#f1b6da"
            ],
            [
             0.4,
             "#fde0ef"
            ],
            [
             0.5,
             "#f7f7f7"
            ],
            [
             0.6,
             "#e6f5d0"
            ],
            [
             0.7,
             "#b8e186"
            ],
            [
             0.8,
             "#7fbc41"
            ],
            [
             0.9,
             "#4d9221"
            ],
            [
             1,
             "#276419"
            ]
           ],
           "sequential": [
            [
             0,
             "#0d0887"
            ],
            [
             0.1111111111111111,
             "#46039f"
            ],
            [
             0.2222222222222222,
             "#7201a8"
            ],
            [
             0.3333333333333333,
             "#9c179e"
            ],
            [
             0.4444444444444444,
             "#bd3786"
            ],
            [
             0.5555555555555556,
             "#d8576b"
            ],
            [
             0.6666666666666666,
             "#ed7953"
            ],
            [
             0.7777777777777778,
             "#fb9f3a"
            ],
            [
             0.8888888888888888,
             "#fdca26"
            ],
            [
             1,
             "#f0f921"
            ]
           ],
           "sequentialminus": [
            [
             0,
             "#0d0887"
            ],
            [
             0.1111111111111111,
             "#46039f"
            ],
            [
             0.2222222222222222,
             "#7201a8"
            ],
            [
             0.3333333333333333,
             "#9c179e"
            ],
            [
             0.4444444444444444,
             "#bd3786"
            ],
            [
             0.5555555555555556,
             "#d8576b"
            ],
            [
             0.6666666666666666,
             "#ed7953"
            ],
            [
             0.7777777777777778,
             "#fb9f3a"
            ],
            [
             0.8888888888888888,
             "#fdca26"
            ],
            [
             1,
             "#f0f921"
            ]
           ]
          },
          "colorway": [
           "#636efa",
           "#EF553B",
           "#00cc96",
           "#ab63fa",
           "#FFA15A",
           "#19d3f3",
           "#FF6692",
           "#B6E880",
           "#FF97FF",
           "#FECB52"
          ],
          "font": {
           "color": "#f2f5fa"
          },
          "geo": {
           "bgcolor": "rgb(17,17,17)",
           "lakecolor": "rgb(17,17,17)",
           "landcolor": "rgb(17,17,17)",
           "showlakes": true,
           "showland": true,
           "subunitcolor": "#506784"
          },
          "hoverlabel": {
           "align": "left"
          },
          "hovermode": "closest",
          "mapbox": {
           "style": "dark"
          },
          "paper_bgcolor": "rgb(17,17,17)",
          "plot_bgcolor": "rgb(17,17,17)",
          "polar": {
           "angularaxis": {
            "gridcolor": "#506784",
            "linecolor": "#506784",
            "ticks": ""
           },
           "bgcolor": "rgb(17,17,17)",
           "radialaxis": {
            "gridcolor": "#506784",
            "linecolor": "#506784",
            "ticks": ""
           }
          },
          "scene": {
           "xaxis": {
            "backgroundcolor": "rgb(17,17,17)",
            "gridcolor": "#506784",
            "gridwidth": 2,
            "linecolor": "#506784",
            "showbackground": true,
            "ticks": "",
            "zerolinecolor": "#C8D4E3"
           },
           "yaxis": {
            "backgroundcolor": "rgb(17,17,17)",
            "gridcolor": "#506784",
            "gridwidth": 2,
            "linecolor": "#506784",
            "showbackground": true,
            "ticks": "",
            "zerolinecolor": "#C8D4E3"
           },
           "zaxis": {
            "backgroundcolor": "rgb(17,17,17)",
            "gridcolor": "#506784",
            "gridwidth": 2,
            "linecolor": "#506784",
            "showbackground": true,
            "ticks": "",
            "zerolinecolor": "#C8D4E3"
           }
          },
          "shapedefaults": {
           "line": {
            "color": "#f2f5fa"
           }
          },
          "sliderdefaults": {
           "bgcolor": "#C8D4E3",
           "bordercolor": "rgb(17,17,17)",
           "borderwidth": 1,
           "tickwidth": 0
          },
          "ternary": {
           "aaxis": {
            "gridcolor": "#506784",
            "linecolor": "#506784",
            "ticks": ""
           },
           "baxis": {
            "gridcolor": "#506784",
            "linecolor": "#506784",
            "ticks": ""
           },
           "bgcolor": "rgb(17,17,17)",
           "caxis": {
            "gridcolor": "#506784",
            "linecolor": "#506784",
            "ticks": ""
           }
          },
          "title": {
           "x": 0.05
          },
          "updatemenudefaults": {
           "bgcolor": "#506784",
           "borderwidth": 0
          },
          "xaxis": {
           "automargin": true,
           "gridcolor": "#283442",
           "linecolor": "#506784",
           "ticks": "",
           "title": {
            "standoff": 15
           },
           "zerolinecolor": "#283442",
           "zerolinewidth": 2
          },
          "yaxis": {
           "automargin": true,
           "gridcolor": "#283442",
           "linecolor": "#506784",
           "ticks": "",
           "title": {
            "standoff": 15
           },
           "zerolinecolor": "#283442",
           "zerolinewidth": 2
          }
         }
        },
        "title": {
         "font": {
          "size": 20
         },
         "text": "Distribution of the prices per accomodate"
        },
        "width": 1000,
        "xaxis": {
         "anchor": "y",
         "domain": [
          0,
          0.94
         ],
         "tickfont": {
          "size": 12
         },
         "title": {
          "font": {
           "size": 16
          },
          "text": "Price per accomodate class [USD]"
         }
        },
        "yaxis": {
         "anchor": "x",
         "domain": [
          0,
          1
         ],
         "range": [
          0,
          15
         ],
         "side": "left",
         "tickfont": {
          "size": 12
         },
         "title": {
          "font": {
           "size": 16
          },
          "text": "Relative Number [%]"
         }
        },
        "yaxis2": {
         "anchor": "x",
         "overlaying": "y",
         "range": [
          0,
          150
         ],
         "side": "right",
         "tickfont": {
          "size": 12
         },
         "tickmode": "sync",
         "title": {
          "font": {
           "size": 16
          },
          "text": "Cumulative Sum [%]"
         }
        }
       }
      }
     },
     "metadata": {},
     "output_type": "display_data"
    }
   ],
   "source": [
    "counts, bins = np.histogram(df_merge_f.price_p_accom, bins=range(0, 200, 5))\n",
    "bin_label = str(bins[:-1]) + ' ... ' + str(bins[1:])\n",
    "\n",
    "rels = np.round(counts / len(df_merge_f) * 100, 2)\n",
    "rels_cumsum = rels.cumsum()\n",
    "\n",
    "max_val = np.round(df_merge_f.price_p_accom.max(), 2)\n",
    "\n",
    "bin_label = []\n",
    "\n",
    "for i in range(len(bins)):\n",
    "    if i < len(bins)-1:\n",
    "        bin_label.append(str(bins[i]) + ' ... ' + str(bins[i+1]))\n",
    "\n",
    "\n",
    "fig = make_subplots(specs=[[{\"secondary_y\": True}]])\n",
    "\n",
    "fig.add_trace(go.Bar(x=bin_label, y=rels, \n",
    "                     name = 'Relative Number [%]'\n",
    "             ))\n",
    "\n",
    "fig.add_trace(go.Scatter(x=bin_label, y=rels_cumsum, \n",
    "                        name = 'Cumulative Sum [%]',\n",
    "                        mode = 'lines'),\n",
    "                        secondary_y=True)\n",
    "\n",
    "fig.update_layout(\n",
    "    title='Distribution of the prices per accomodate',\n",
    "    title_font = {\"size\": 20},\n",
    "    xaxis_title = 'Price per accomodate class [USD]',\n",
    "    template='plotly_dark',\n",
    "    hovermode = 'x',\n",
    "    width = 1000,\n",
    "    height = 600,\n",
    "    yaxis = dict(\n",
    "        title=dict(text=\"Relative Number [%]\"),\n",
    "        side=\"left\",\n",
    "        range=[0, 15]),\n",
    "    yaxis2 = dict(\n",
    "        title=dict(text=\"Cumulative Sum [%]\"),\n",
    "        side=\"right\",\n",
    "        range=[0, 150],\n",
    "        overlaying=\"y\",\n",
    "        tickmode=\"sync\")\n",
    ")\n",
    "\n",
    "fig.update_yaxes(\n",
    "    title_font = {\"size\": 16},\n",
    "    tickfont = {\"size\": 12}\n",
    "    )\n",
    "\n",
    "fig.update_xaxes(\n",
    "    title_font = {\"size\": 16},\n",
    "    tickfont = {\"size\": 12}\n",
    "    )\n",
    "\n",
    "fig.update_layout(legend=dict(\n",
    "    orientation=\"h\",\n",
    "    yanchor=\"bottom\",\n",
    "    y=1,\n",
    "    xanchor=\"left\",\n",
    "    x=0\n",
    "    ))\n",
    "\n",
    "\n",
    "fig.add_annotation(\n",
    "    xref=\"x domain\",\n",
    "    yref=\"y domain\",\n",
    "    # The arrow head will be 25% along the x axis, starting from the left\n",
    "    x=.98,\n",
    "    # The arrow head will be 40% along the y axis, starting from the bottom\n",
    "    y=.9,\n",
    "    text=f\"Maximum Value: {max_val} USD/accomodate\",\n",
    "    align=\"right\",\n",
    "    showarrow=False\n",
    ")\n",
    "\n",
    "\n",
    "fig.show()"
   ]
  },
  {
   "cell_type": "markdown",
   "metadata": {},
   "source": [
    "#### Price per Accomodate over the year per region"
   ]
  },
  {
   "cell_type": "code",
   "execution_count": 368,
   "metadata": {},
   "outputs": [],
   "source": [
    "# Function to calculate qunatiles in a variable way within an aggregtation\n",
    "# Inspiration and adaption from the code here: https://stackoverflow.com/questions/17578115/pass-percentiles-to-pandas-agg-function\n",
    "\n",
    "def quant(q):\n",
    "    def calc_q(x):\n",
    "        return x.quantile(q)\n",
    "    return calc_q\n"
   ]
  },
  {
   "cell_type": "code",
   "execution_count": 370,
   "metadata": {},
   "outputs": [
    {
     "data": {
      "text/html": [
       "<div>\n",
       "<style scoped>\n",
       "    .dataframe tbody tr th:only-of-type {\n",
       "        vertical-align: middle;\n",
       "    }\n",
       "\n",
       "    .dataframe tbody tr th {\n",
       "        vertical-align: top;\n",
       "    }\n",
       "\n",
       "    .dataframe thead th {\n",
       "        text-align: right;\n",
       "    }\n",
       "</style>\n",
       "<table border=\"1\" class=\"dataframe\">\n",
       "  <thead>\n",
       "    <tr style=\"text-align: right;\">\n",
       "      <th></th>\n",
       "      <th>week</th>\n",
       "      <th>mean</th>\n",
       "      <th>median</th>\n",
       "      <th>q01</th>\n",
       "      <th>q05</th>\n",
       "      <th>q25</th>\n",
       "      <th>q50</th>\n",
       "      <th>q75</th>\n",
       "      <th>q95</th>\n",
       "      <th>q99</th>\n",
       "      <th>q99_5</th>\n",
       "      <th>q99_9</th>\n",
       "      <th>min_val</th>\n",
       "      <th>max_val</th>\n",
       "    </tr>\n",
       "  </thead>\n",
       "  <tbody>\n",
       "    <tr>\n",
       "      <th>0</th>\n",
       "      <td>1</td>\n",
       "      <td>0.990415</td>\n",
       "      <td>1.0</td>\n",
       "      <td>0.542636</td>\n",
       "      <td>0.714286</td>\n",
       "      <td>1.0</td>\n",
       "      <td>1.0</td>\n",
       "      <td>1.0</td>\n",
       "      <td>1.192516</td>\n",
       "      <td>1.562500</td>\n",
       "      <td>2.00000</td>\n",
       "      <td>3.258025</td>\n",
       "      <td>0.292793</td>\n",
       "      <td>4.747475</td>\n",
       "    </tr>\n",
       "    <tr>\n",
       "      <th>1</th>\n",
       "      <td>2</td>\n",
       "      <td>0.981272</td>\n",
       "      <td>1.0</td>\n",
       "      <td>0.541538</td>\n",
       "      <td>0.696203</td>\n",
       "      <td>1.0</td>\n",
       "      <td>1.0</td>\n",
       "      <td>1.0</td>\n",
       "      <td>1.215385</td>\n",
       "      <td>1.548571</td>\n",
       "      <td>1.71105</td>\n",
       "      <td>2.100000</td>\n",
       "      <td>0.292793</td>\n",
       "      <td>2.877907</td>\n",
       "    </tr>\n",
       "  </tbody>\n",
       "</table>\n",
       "</div>"
      ],
      "text/plain": [
       "   week      mean  median       q01       q05  q25  q50  q75       q95  \\\n",
       "0     1  0.990415     1.0  0.542636  0.714286  1.0  1.0  1.0  1.192516   \n",
       "1     2  0.981272     1.0  0.541538  0.696203  1.0  1.0  1.0  1.215385   \n",
       "\n",
       "        q99    q99_5     q99_9   min_val   max_val  \n",
       "0  1.562500  2.00000  3.258025  0.292793  4.747475  \n",
       "1  1.548571  1.71105  2.100000  0.292793  2.877907  "
      ]
     },
     "execution_count": 370,
     "metadata": {},
     "output_type": "execute_result"
    }
   ],
   "source": [
    "df_agg = df_merge_f.groupby(['week']).agg(\n",
    "    mean = ('price_fluc', 'mean'),\n",
    "    median = ('price_fluc', 'median'),\n",
    "    q01 = ('price_fluc', quant(0.01)),\n",
    "    q05 = ('price_fluc', quant(0.05)),\n",
    "    q25 = ('price_fluc', quant(0.25)),\n",
    "    q50 = ('price_fluc', quant(0.5)),\n",
    "    q75 = ('price_fluc', quant(0.75)),\n",
    "    q95 = ('price_fluc', quant(0.95)),\n",
    "    q99 = ('price_fluc', quant(0.99)),\n",
    "    q99_5 = ('price_fluc', quant(0.995)),\n",
    "    q99_9 = ('price_fluc', quant(0.999)),\n",
    "    min_val = ('price_fluc', 'min'),\n",
    "    max_val = ('price_fluc', 'max'),\n",
    ").reset_index()\n",
    "\n",
    "df_agg.head(2)"
   ]
  },
  {
   "cell_type": "code",
   "execution_count": 371,
   "metadata": {},
   "outputs": [
    {
     "data": {
      "application/vnd.plotly.v1+json": {
       "config": {
        "plotlyServerURL": "https://plot.ly"
       },
       "data": [
        {
         "hovertemplate": "Quantile=q01<br>Week=%{x}<br>Value=%{y}<extra></extra>",
         "legendgroup": "q01",
         "line": {
          "color": "#636efa",
          "dash": "solid"
         },
         "marker": {
          "symbol": "circle"
         },
         "mode": "lines",
         "name": "q01",
         "orientation": "v",
         "showlegend": true,
         "type": "scatter",
         "x": [
          1,
          2,
          3,
          4,
          5,
          6,
          7,
          8,
          9,
          10,
          11,
          12,
          13,
          14,
          15,
          16,
          17,
          18,
          19,
          20,
          21,
          22,
          23,
          24,
          25,
          26,
          27,
          28,
          29,
          30,
          31,
          32,
          33,
          34,
          35,
          36,
          37,
          38,
          39,
          40,
          41,
          42,
          43,
          44,
          45,
          46,
          47,
          48,
          49,
          50,
          51,
          52
         ],
         "xaxis": "x",
         "y": [
          0.5426356589147286,
          0.5415384615384615,
          0.5581395348837209,
          0.5714461538461538,
          0.5866666666666667,
          0.6129032258064516,
          0.606643165467626,
          0.5977011494252874,
          0.625,
          0.6476190476190476,
          0.6775072463768116,
          0.6966666666666667,
          0.6981818181818182,
          0.7291122994652406,
          0.7272727272727273,
          0.7333333333333333,
          0.7538461538461538,
          0.8461538461538461,
          0.8449197860962567,
          0.8571428571428571,
          0.875,
          0.9384615384615385,
          0.9701492537313433,
          0.9752066115702479,
          0.9846153846153847,
          1,
          1,
          1,
          1,
          1,
          1,
          1,
          1,
          1,
          1,
          1,
          0.9894736842105263,
          0.9731567567567568,
          0.9516395173453996,
          0.9405405405405406,
          0.9230769230769231,
          0.9212923076923077,
          0.9154929577464789,
          0.8866666666666667,
          0.8936170212765957,
          0.8888888888888888,
          0.875,
          0.8895027624309392,
          0.9090909090909091,
          0.9230769230769231,
          1,
          1
         ],
         "yaxis": "y"
        },
        {
         "hovertemplate": "Quantile=q05<br>Week=%{x}<br>Value=%{y}<extra></extra>",
         "legendgroup": "q05",
         "line": {
          "color": "#EF553B",
          "dash": "solid"
         },
         "marker": {
          "symbol": "circle"
         },
         "mode": "lines",
         "name": "q05",
         "orientation": "v",
         "showlegend": true,
         "type": "scatter",
         "x": [
          1,
          2,
          3,
          4,
          5,
          6,
          7,
          8,
          9,
          10,
          11,
          12,
          13,
          14,
          15,
          16,
          17,
          18,
          19,
          20,
          21,
          22,
          23,
          24,
          25,
          26,
          27,
          28,
          29,
          30,
          31,
          32,
          33,
          34,
          35,
          36,
          37,
          38,
          39,
          40,
          41,
          42,
          43,
          44,
          45,
          46,
          47,
          48,
          49,
          50,
          51,
          52
         ],
         "xaxis": "x",
         "y": [
          0.7142857142857143,
          0.6962025316455697,
          0.7,
          0.7111111111111111,
          0.7386622073578596,
          0.7700086749078291,
          0.7666666666666667,
          0.7666666666666667,
          0.797979797979798,
          0.8545454545454545,
          0.88,
          0.8888888888888888,
          0.9,
          0.9475734791524265,
          0.9444786324786325,
          0.971830985915493,
          1,
          1,
          1,
          1,
          1,
          1,
          1,
          1,
          1,
          1,
          1,
          1,
          1,
          1,
          1,
          1,
          1,
          1,
          1,
          1,
          1,
          1,
          1,
          1,
          1,
          1,
          1,
          1,
          1,
          1,
          1,
          1,
          1,
          1,
          1,
          1
         ],
         "yaxis": "y"
        },
        {
         "hovertemplate": "Quantile=q50<br>Week=%{x}<br>Value=%{y}<extra></extra>",
         "legendgroup": "q50",
         "line": {
          "color": "#00cc96",
          "dash": "solid"
         },
         "marker": {
          "symbol": "circle"
         },
         "mode": "lines",
         "name": "q50",
         "orientation": "v",
         "showlegend": true,
         "type": "scatter",
         "x": [
          1,
          2,
          3,
          4,
          5,
          6,
          7,
          8,
          9,
          10,
          11,
          12,
          13,
          14,
          15,
          16,
          17,
          18,
          19,
          20,
          21,
          22,
          23,
          24,
          25,
          26,
          27,
          28,
          29,
          30,
          31,
          32,
          33,
          34,
          35,
          36,
          37,
          38,
          39,
          40,
          41,
          42,
          43,
          44,
          45,
          46,
          47,
          48,
          49,
          50,
          51,
          52
         ],
         "xaxis": "x",
         "y": [
          1,
          1,
          1,
          1,
          1,
          1,
          1,
          1,
          1,
          1,
          1,
          1,
          1,
          1,
          1,
          1,
          1,
          1,
          1,
          1,
          1,
          1,
          1,
          1,
          1,
          1,
          1,
          1,
          1,
          1,
          1,
          1,
          1,
          1,
          1,
          1,
          1,
          1,
          1,
          1,
          1,
          1,
          1,
          1,
          1,
          1,
          1,
          1,
          1,
          1,
          1,
          1
         ],
         "yaxis": "y"
        },
        {
         "hovertemplate": "Quantile=q95<br>Week=%{x}<br>Value=%{y}<extra></extra>",
         "legendgroup": "q95",
         "line": {
          "color": "#ab63fa",
          "dash": "solid"
         },
         "marker": {
          "symbol": "circle"
         },
         "mode": "lines",
         "name": "q95",
         "orientation": "v",
         "showlegend": true,
         "type": "scatter",
         "x": [
          1,
          2,
          3,
          4,
          5,
          6,
          7,
          8,
          9,
          10,
          11,
          12,
          13,
          14,
          15,
          16,
          17,
          18,
          19,
          20,
          21,
          22,
          23,
          24,
          25,
          26,
          27,
          28,
          29,
          30,
          31,
          32,
          33,
          34,
          35,
          36,
          37,
          38,
          39,
          40,
          41,
          42,
          43,
          44,
          45,
          46,
          47,
          48,
          49,
          50,
          51,
          52
         ],
         "xaxis": "x",
         "y": [
          1.1925155166119012,
          1.2153846153846153,
          1.2,
          1.202020202020202,
          1.25,
          1.2755102040816326,
          1.2512562814070352,
          1.25,
          1.303030303030303,
          1.3333333333333333,
          1.3636363636363635,
          1.3775510204081634,
          1.3779527559055118,
          1.469387755102041,
          1.4285714285714286,
          1.4437571592210743,
          1.4666666666666666,
          1.5955555555555556,
          1.5789473684210527,
          1.6,
          1.7257575757575758,
          1.8456375838926173,
          1.8888888888888888,
          1.9373928571428574,
          1.937142857142857,
          1.9696969696969697,
          1.9887640449438202,
          1.9887640449438202,
          1.981818181818182,
          2,
          1.9854085155350958,
          1.975,
          1.9463087248322148,
          1.945736434108527,
          1.9064748201438848,
          1.7142857142857142,
          1.6879166666666656,
          1.6666666666666667,
          1.627906976744186,
          1.419377900413892,
          1.411764705882353,
          1.411764705882353,
          1.404040404040404,
          1.3566433566433567,
          1.3333333333333333,
          1.3457627118644069,
          1.385786802030457,
          1.313437073437073,
          1.3095238095238095,
          1.3333333333333333,
          1.3888888888888888,
          1.5
         ],
         "yaxis": "y"
        },
        {
         "hovertemplate": "Quantile=q99<br>Week=%{x}<br>Value=%{y}<extra></extra>",
         "legendgroup": "q99",
         "line": {
          "color": "#FFA15A",
          "dash": "solid"
         },
         "marker": {
          "symbol": "circle"
         },
         "mode": "lines",
         "name": "q99",
         "orientation": "v",
         "showlegend": true,
         "type": "scatter",
         "x": [
          1,
          2,
          3,
          4,
          5,
          6,
          7,
          8,
          9,
          10,
          11,
          12,
          13,
          14,
          15,
          16,
          17,
          18,
          19,
          20,
          21,
          22,
          23,
          24,
          25,
          26,
          27,
          28,
          29,
          30,
          31,
          32,
          33,
          34,
          35,
          36,
          37,
          38,
          39,
          40,
          41,
          42,
          43,
          44,
          45,
          46,
          47,
          48,
          49,
          50,
          51,
          52
         ],
         "xaxis": "x",
         "y": [
          1.5625,
          1.5485714285714285,
          1.5,
          1.5128205128205128,
          1.6,
          1.7462686567164178,
          1.6387036901717131,
          1.5933333333333333,
          1.7676767676767677,
          1.7714285714285714,
          2,
          2,
          1.875,
          2.065496598639455,
          2,
          2,
          1.9997202797202736,
          2.1,
          2.2,
          2.2151898734177213,
          2.4621221236276005,
          2.489795918367347,
          2.5280898876404496,
          2.718503968253971,
          3.056338028169014,
          3.142857142857143,
          3.163265306122449,
          3.125,
          3.1608040201005023,
          3.1626992103374025,
          3.1888111888111887,
          3.184895104895121,
          3.0444444444444443,
          3.0100502512562812,
          2.7751937984496124,
          2.4930372148859545,
          2.489795918367347,
          2.4978971841901583,
          2.25,
          2.2580484151526825,
          2.2598913043478275,
          2.2181818181818183,
          2.109375,
          2.040983606557377,
          2.0888109287850387,
          2.2608236836355764,
          2.25,
          2.1185185185185187,
          2.2884615384615383,
          2.2666666666666666,
          2.5063291139240507,
          2.7751937984496124
         ],
         "yaxis": "y"
        },
        {
         "hovertemplate": "Quantile=q99_5<br>Week=%{x}<br>Value=%{y}<extra></extra>",
         "legendgroup": "q99_5",
         "line": {
          "color": "#19d3f3",
          "dash": "solid"
         },
         "marker": {
          "symbol": "circle"
         },
         "mode": "lines",
         "name": "q99_5",
         "orientation": "v",
         "showlegend": true,
         "type": "scatter",
         "x": [
          1,
          2,
          3,
          4,
          5,
          6,
          7,
          8,
          9,
          10,
          11,
          12,
          13,
          14,
          15,
          16,
          17,
          18,
          19,
          20,
          21,
          22,
          23,
          24,
          25,
          26,
          27,
          28,
          29,
          30,
          31,
          32,
          33,
          34,
          35,
          36,
          37,
          38,
          39,
          40,
          41,
          42,
          43,
          44,
          45,
          46,
          47,
          48,
          49,
          50,
          51,
          52
         ],
         "xaxis": "x",
         "y": [
          2,
          1.711050000000003,
          1.6499690721649487,
          1.6363636363636365,
          1.868421052631579,
          2,
          1.875,
          1.873092948717945,
          2,
          2,
          2.2265625,
          2.25,
          2.0555555555555554,
          2.364923391215521,
          2.1419734251968183,
          2.145406703159512,
          2.1716404494381996,
          2.3636363636363638,
          2.489795918367347,
          2.5,
          2.915492957746479,
          2.7065217391304346,
          2.874837209302309,
          3.247077464788726,
          3.422594050743657,
          3.5491803278688523,
          3.583897637795238,
          3.562043795620438,
          3.56,
          3.560564496828985,
          3.574803149606299,
          3.5523357664233663,
          3.4444444444444446,
          3.4335664335664338,
          3.051282051282051,
          2.7818181818181817,
          2.8046875,
          2.8100981176180877,
          2.587719298245614,
          2.5714285714285716,
          2.5714285714285716,
          2.5378846153846175,
          2.5063291139240507,
          2.4506012884752923,
          2.489795918367347,
          2.7714887873754077,
          2.749432297660103,
          2.4871794871794872,
          2.6565656565656566,
          2.7751937984496124,
          3.096869728209921,
          3.210633484162896
         ],
         "yaxis": "y"
        }
       ],
       "layout": {
        "legend": {
         "orientation": "h",
         "title": {
          "text": "Quantile"
         },
         "tracegroupgap": 0,
         "x": 1,
         "xanchor": "right",
         "y": 1.02,
         "yanchor": "bottom"
        },
        "template": {
         "data": {
          "bar": [
           {
            "error_x": {
             "color": "#f2f5fa"
            },
            "error_y": {
             "color": "#f2f5fa"
            },
            "marker": {
             "line": {
              "color": "rgb(17,17,17)",
              "width": 0.5
             },
             "pattern": {
              "fillmode": "overlay",
              "size": 10,
              "solidity": 0.2
             }
            },
            "type": "bar"
           }
          ],
          "barpolar": [
           {
            "marker": {
             "line": {
              "color": "rgb(17,17,17)",
              "width": 0.5
             },
             "pattern": {
              "fillmode": "overlay",
              "size": 10,
              "solidity": 0.2
             }
            },
            "type": "barpolar"
           }
          ],
          "carpet": [
           {
            "aaxis": {
             "endlinecolor": "#A2B1C6",
             "gridcolor": "#506784",
             "linecolor": "#506784",
             "minorgridcolor": "#506784",
             "startlinecolor": "#A2B1C6"
            },
            "baxis": {
             "endlinecolor": "#A2B1C6",
             "gridcolor": "#506784",
             "linecolor": "#506784",
             "minorgridcolor": "#506784",
             "startlinecolor": "#A2B1C6"
            },
            "type": "carpet"
           }
          ],
          "choropleth": [
           {
            "colorbar": {
             "outlinewidth": 0,
             "ticks": ""
            },
            "type": "choropleth"
           }
          ],
          "contour": [
           {
            "colorbar": {
             "outlinewidth": 0,
             "ticks": ""
            },
            "colorscale": [
             [
              0,
              "#0d0887"
             ],
             [
              0.1111111111111111,
              "#46039f"
             ],
             [
              0.2222222222222222,
              "#7201a8"
             ],
             [
              0.3333333333333333,
              "#9c179e"
             ],
             [
              0.4444444444444444,
              "#bd3786"
             ],
             [
              0.5555555555555556,
              "#d8576b"
             ],
             [
              0.6666666666666666,
              "#ed7953"
             ],
             [
              0.7777777777777778,
              "#fb9f3a"
             ],
             [
              0.8888888888888888,
              "#fdca26"
             ],
             [
              1,
              "#f0f921"
             ]
            ],
            "type": "contour"
           }
          ],
          "contourcarpet": [
           {
            "colorbar": {
             "outlinewidth": 0,
             "ticks": ""
            },
            "type": "contourcarpet"
           }
          ],
          "heatmap": [
           {
            "colorbar": {
             "outlinewidth": 0,
             "ticks": ""
            },
            "colorscale": [
             [
              0,
              "#0d0887"
             ],
             [
              0.1111111111111111,
              "#46039f"
             ],
             [
              0.2222222222222222,
              "#7201a8"
             ],
             [
              0.3333333333333333,
              "#9c179e"
             ],
             [
              0.4444444444444444,
              "#bd3786"
             ],
             [
              0.5555555555555556,
              "#d8576b"
             ],
             [
              0.6666666666666666,
              "#ed7953"
             ],
             [
              0.7777777777777778,
              "#fb9f3a"
             ],
             [
              0.8888888888888888,
              "#fdca26"
             ],
             [
              1,
              "#f0f921"
             ]
            ],
            "type": "heatmap"
           }
          ],
          "heatmapgl": [
           {
            "colorbar": {
             "outlinewidth": 0,
             "ticks": ""
            },
            "colorscale": [
             [
              0,
              "#0d0887"
             ],
             [
              0.1111111111111111,
              "#46039f"
             ],
             [
              0.2222222222222222,
              "#7201a8"
             ],
             [
              0.3333333333333333,
              "#9c179e"
             ],
             [
              0.4444444444444444,
              "#bd3786"
             ],
             [
              0.5555555555555556,
              "#d8576b"
             ],
             [
              0.6666666666666666,
              "#ed7953"
             ],
             [
              0.7777777777777778,
              "#fb9f3a"
             ],
             [
              0.8888888888888888,
              "#fdca26"
             ],
             [
              1,
              "#f0f921"
             ]
            ],
            "type": "heatmapgl"
           }
          ],
          "histogram": [
           {
            "marker": {
             "pattern": {
              "fillmode": "overlay",
              "size": 10,
              "solidity": 0.2
             }
            },
            "type": "histogram"
           }
          ],
          "histogram2d": [
           {
            "colorbar": {
             "outlinewidth": 0,
             "ticks": ""
            },
            "colorscale": [
             [
              0,
              "#0d0887"
             ],
             [
              0.1111111111111111,
              "#46039f"
             ],
             [
              0.2222222222222222,
              "#7201a8"
             ],
             [
              0.3333333333333333,
              "#9c179e"
             ],
             [
              0.4444444444444444,
              "#bd3786"
             ],
             [
              0.5555555555555556,
              "#d8576b"
             ],
             [
              0.6666666666666666,
              "#ed7953"
             ],
             [
              0.7777777777777778,
              "#fb9f3a"
             ],
             [
              0.8888888888888888,
              "#fdca26"
             ],
             [
              1,
              "#f0f921"
             ]
            ],
            "type": "histogram2d"
           }
          ],
          "histogram2dcontour": [
           {
            "colorbar": {
             "outlinewidth": 0,
             "ticks": ""
            },
            "colorscale": [
             [
              0,
              "#0d0887"
             ],
             [
              0.1111111111111111,
              "#46039f"
             ],
             [
              0.2222222222222222,
              "#7201a8"
             ],
             [
              0.3333333333333333,
              "#9c179e"
             ],
             [
              0.4444444444444444,
              "#bd3786"
             ],
             [
              0.5555555555555556,
              "#d8576b"
             ],
             [
              0.6666666666666666,
              "#ed7953"
             ],
             [
              0.7777777777777778,
              "#fb9f3a"
             ],
             [
              0.8888888888888888,
              "#fdca26"
             ],
             [
              1,
              "#f0f921"
             ]
            ],
            "type": "histogram2dcontour"
           }
          ],
          "mesh3d": [
           {
            "colorbar": {
             "outlinewidth": 0,
             "ticks": ""
            },
            "type": "mesh3d"
           }
          ],
          "parcoords": [
           {
            "line": {
             "colorbar": {
              "outlinewidth": 0,
              "ticks": ""
             }
            },
            "type": "parcoords"
           }
          ],
          "pie": [
           {
            "automargin": true,
            "type": "pie"
           }
          ],
          "scatter": [
           {
            "marker": {
             "line": {
              "color": "#283442"
             }
            },
            "type": "scatter"
           }
          ],
          "scatter3d": [
           {
            "line": {
             "colorbar": {
              "outlinewidth": 0,
              "ticks": ""
             }
            },
            "marker": {
             "colorbar": {
              "outlinewidth": 0,
              "ticks": ""
             }
            },
            "type": "scatter3d"
           }
          ],
          "scattercarpet": [
           {
            "marker": {
             "colorbar": {
              "outlinewidth": 0,
              "ticks": ""
             }
            },
            "type": "scattercarpet"
           }
          ],
          "scattergeo": [
           {
            "marker": {
             "colorbar": {
              "outlinewidth": 0,
              "ticks": ""
             }
            },
            "type": "scattergeo"
           }
          ],
          "scattergl": [
           {
            "marker": {
             "line": {
              "color": "#283442"
             }
            },
            "type": "scattergl"
           }
          ],
          "scattermapbox": [
           {
            "marker": {
             "colorbar": {
              "outlinewidth": 0,
              "ticks": ""
             }
            },
            "type": "scattermapbox"
           }
          ],
          "scatterpolar": [
           {
            "marker": {
             "colorbar": {
              "outlinewidth": 0,
              "ticks": ""
             }
            },
            "type": "scatterpolar"
           }
          ],
          "scatterpolargl": [
           {
            "marker": {
             "colorbar": {
              "outlinewidth": 0,
              "ticks": ""
             }
            },
            "type": "scatterpolargl"
           }
          ],
          "scatterternary": [
           {
            "marker": {
             "colorbar": {
              "outlinewidth": 0,
              "ticks": ""
             }
            },
            "type": "scatterternary"
           }
          ],
          "surface": [
           {
            "colorbar": {
             "outlinewidth": 0,
             "ticks": ""
            },
            "colorscale": [
             [
              0,
              "#0d0887"
             ],
             [
              0.1111111111111111,
              "#46039f"
             ],
             [
              0.2222222222222222,
              "#7201a8"
             ],
             [
              0.3333333333333333,
              "#9c179e"
             ],
             [
              0.4444444444444444,
              "#bd3786"
             ],
             [
              0.5555555555555556,
              "#d8576b"
             ],
             [
              0.6666666666666666,
              "#ed7953"
             ],
             [
              0.7777777777777778,
              "#fb9f3a"
             ],
             [
              0.8888888888888888,
              "#fdca26"
             ],
             [
              1,
              "#f0f921"
             ]
            ],
            "type": "surface"
           }
          ],
          "table": [
           {
            "cells": {
             "fill": {
              "color": "#506784"
             },
             "line": {
              "color": "rgb(17,17,17)"
             }
            },
            "header": {
             "fill": {
              "color": "#2a3f5f"
             },
             "line": {
              "color": "rgb(17,17,17)"
             }
            },
            "type": "table"
           }
          ]
         },
         "layout": {
          "annotationdefaults": {
           "arrowcolor": "#f2f5fa",
           "arrowhead": 0,
           "arrowwidth": 1
          },
          "autotypenumbers": "strict",
          "coloraxis": {
           "colorbar": {
            "outlinewidth": 0,
            "ticks": ""
           }
          },
          "colorscale": {
           "diverging": [
            [
             0,
             "#8e0152"
            ],
            [
             0.1,
             "#c51b7d"
            ],
            [
             0.2,
             "#de77ae"
            ],
            [
             0.3,
             "#f1b6da"
            ],
            [
             0.4,
             "#fde0ef"
            ],
            [
             0.5,
             "#f7f7f7"
            ],
            [
             0.6,
             "#e6f5d0"
            ],
            [
             0.7,
             "#b8e186"
            ],
            [
             0.8,
             "#7fbc41"
            ],
            [
             0.9,
             "#4d9221"
            ],
            [
             1,
             "#276419"
            ]
           ],
           "sequential": [
            [
             0,
             "#0d0887"
            ],
            [
             0.1111111111111111,
             "#46039f"
            ],
            [
             0.2222222222222222,
             "#7201a8"
            ],
            [
             0.3333333333333333,
             "#9c179e"
            ],
            [
             0.4444444444444444,
             "#bd3786"
            ],
            [
             0.5555555555555556,
             "#d8576b"
            ],
            [
             0.6666666666666666,
             "#ed7953"
            ],
            [
             0.7777777777777778,
             "#fb9f3a"
            ],
            [
             0.8888888888888888,
             "#fdca26"
            ],
            [
             1,
             "#f0f921"
            ]
           ],
           "sequentialminus": [
            [
             0,
             "#0d0887"
            ],
            [
             0.1111111111111111,
             "#46039f"
            ],
            [
             0.2222222222222222,
             "#7201a8"
            ],
            [
             0.3333333333333333,
             "#9c179e"
            ],
            [
             0.4444444444444444,
             "#bd3786"
            ],
            [
             0.5555555555555556,
             "#d8576b"
            ],
            [
             0.6666666666666666,
             "#ed7953"
            ],
            [
             0.7777777777777778,
             "#fb9f3a"
            ],
            [
             0.8888888888888888,
             "#fdca26"
            ],
            [
             1,
             "#f0f921"
            ]
           ]
          },
          "colorway": [
           "#636efa",
           "#EF553B",
           "#00cc96",
           "#ab63fa",
           "#FFA15A",
           "#19d3f3",
           "#FF6692",
           "#B6E880",
           "#FF97FF",
           "#FECB52"
          ],
          "font": {
           "color": "#f2f5fa"
          },
          "geo": {
           "bgcolor": "rgb(17,17,17)",
           "lakecolor": "rgb(17,17,17)",
           "landcolor": "rgb(17,17,17)",
           "showlakes": true,
           "showland": true,
           "subunitcolor": "#506784"
          },
          "hoverlabel": {
           "align": "left"
          },
          "hovermode": "closest",
          "mapbox": {
           "style": "dark"
          },
          "paper_bgcolor": "rgb(17,17,17)",
          "plot_bgcolor": "rgb(17,17,17)",
          "polar": {
           "angularaxis": {
            "gridcolor": "#506784",
            "linecolor": "#506784",
            "ticks": ""
           },
           "bgcolor": "rgb(17,17,17)",
           "radialaxis": {
            "gridcolor": "#506784",
            "linecolor": "#506784",
            "ticks": ""
           }
          },
          "scene": {
           "xaxis": {
            "backgroundcolor": "rgb(17,17,17)",
            "gridcolor": "#506784",
            "gridwidth": 2,
            "linecolor": "#506784",
            "showbackground": true,
            "ticks": "",
            "zerolinecolor": "#C8D4E3"
           },
           "yaxis": {
            "backgroundcolor": "rgb(17,17,17)",
            "gridcolor": "#506784",
            "gridwidth": 2,
            "linecolor": "#506784",
            "showbackground": true,
            "ticks": "",
            "zerolinecolor": "#C8D4E3"
           },
           "zaxis": {
            "backgroundcolor": "rgb(17,17,17)",
            "gridcolor": "#506784",
            "gridwidth": 2,
            "linecolor": "#506784",
            "showbackground": true,
            "ticks": "",
            "zerolinecolor": "#C8D4E3"
           }
          },
          "shapedefaults": {
           "line": {
            "color": "#f2f5fa"
           }
          },
          "sliderdefaults": {
           "bgcolor": "#C8D4E3",
           "bordercolor": "rgb(17,17,17)",
           "borderwidth": 1,
           "tickwidth": 0
          },
          "ternary": {
           "aaxis": {
            "gridcolor": "#506784",
            "linecolor": "#506784",
            "ticks": ""
           },
           "baxis": {
            "gridcolor": "#506784",
            "linecolor": "#506784",
            "ticks": ""
           },
           "bgcolor": "rgb(17,17,17)",
           "caxis": {
            "gridcolor": "#506784",
            "linecolor": "#506784",
            "ticks": ""
           }
          },
          "title": {
           "x": 0.05
          },
          "updatemenudefaults": {
           "bgcolor": "#506784",
           "borderwidth": 0
          },
          "xaxis": {
           "automargin": true,
           "gridcolor": "#283442",
           "linecolor": "#506784",
           "ticks": "",
           "title": {
            "standoff": 15
           },
           "zerolinecolor": "#283442",
           "zerolinewidth": 2
          },
          "yaxis": {
           "automargin": true,
           "gridcolor": "#283442",
           "linecolor": "#506784",
           "ticks": "",
           "title": {
            "standoff": 15
           },
           "zerolinecolor": "#283442",
           "zerolinewidth": 2
          }
         }
        },
        "title": {
         "text": "Life expectancy in Canada"
        },
        "xaxis": {
         "anchor": "y",
         "domain": [
          0,
          1
         ],
         "title": {
          "text": "Week"
         }
        },
        "yaxis": {
         "anchor": "x",
         "domain": [
          0,
          1
         ],
         "title": {
          "text": "Value"
         }
        }
       }
      }
     },
     "metadata": {},
     "output_type": "display_data"
    }
   ],
   "source": [
    "# fig = px.box(df_merge_f, x ='week', y=\"price_fluc\")\n",
    "\n",
    "fig = px.line(df_agg, x=\"week\", y=['q01','q05', \"q50\", 'q95', 'q99', 'q99_5'],\n",
    "              labels={\n",
    "                  'variable': 'Quantile',\n",
    "                  'week': 'Week',\n",
    "                  'value': 'Value'\n",
    "              },\n",
    "               title='Life expectancy in Canada',\n",
    "               template='plotly_dark',\n",
    "               )\n",
    "\n",
    "\n",
    "fig.update_layout(legend=dict(\n",
    "    orientation=\"h\",\n",
    "    yanchor=\"bottom\",\n",
    "    y=1.02,\n",
    "    xanchor=\"right\",\n",
    "    x=1\n",
    "))\n",
    "\n",
    "# fig.add_trace(go.Scatter(x=df_agg['week'], y=df_agg['q01'], mode=\"lines\", name=\"q01\"))\n",
    "\n",
    "fig.show()"
   ]
  },
  {
   "cell_type": "code",
   "execution_count": 372,
   "metadata": {},
   "outputs": [],
   "source": [
    "line_dict = {\n",
    "    'q01' : '1% Quantile',\n",
    "    'q05' : '5% Quantile',\n",
    "    'q25' : '25% Quantile',\n",
    "    'q50' : 'Median',\n",
    "    'q75' : '75% Quantile',\n",
    "    'q95' : '95% Quantile',\n",
    "    'q99' : '99% Quantile',\n",
    "    'q99_5' : '99.5% Quantile',\n",
    "    'q99_9' : '99.9% Quantile',\n",
    "}"
   ]
  },
  {
   "cell_type": "code",
   "execution_count": 373,
   "metadata": {},
   "outputs": [
    {
     "data": {
      "application/vnd.plotly.v1+json": {
       "config": {
        "plotlyServerURL": "https://plot.ly"
       },
       "data": [
        {
         "line": {
          "width": 1
         },
         "marker": {
          "color": "#444"
         },
         "mode": "lines",
         "name": "Minimum",
         "showlegend": false,
         "type": "scatter",
         "x": [
          1,
          2,
          3,
          4,
          5,
          6,
          7,
          8,
          9,
          10,
          11,
          12,
          13,
          14,
          15,
          16,
          17,
          18,
          19,
          20,
          21,
          22,
          23,
          24,
          25,
          26,
          27,
          28,
          29,
          30,
          31,
          32,
          33,
          34,
          35,
          36,
          37,
          38,
          39,
          40,
          41,
          42,
          43,
          44,
          45,
          46,
          47,
          48,
          49,
          50,
          51,
          52
         ],
         "y": [
          0.2927927927927928,
          0.2927927927927928,
          0.2927927927927928,
          0.13333333333333333,
          0.31527093596059114,
          0.273972602739726,
          0.31756756756756754,
          0.2927927927927928,
          0.2927927927927928,
          0.3225806451612903,
          0.3225806451612903,
          0.3225806451612903,
          0.3225806451612903,
          0.36727272727272725,
          0.4189189189189189,
          0.40540540540540543,
          0.4009009009009009,
          0.48873873873873874,
          0.47072072072072074,
          0.47072072072072074,
          0.5351170568561873,
          0.5855855855855856,
          0.5866666666666667,
          0.5819397993311036,
          0.5819397993311036,
          0.5819397993311036,
          0.5866666666666667,
          0.5866666666666667,
          0.5866666666666667,
          0.5866666666666667,
          0.5866666666666667,
          0.5866666666666667,
          0.5866666666666667,
          0.5866666666666667,
          0.5866666666666667,
          0.5,
          0.5,
          0.5,
          0.5,
          0.5,
          0.5,
          0.5,
          0.4369369369369369,
          0.4369369369369369,
          0.4369369369369369,
          0.4369369369369369,
          0.4369369369369369,
          0.05917159763313609,
          0.38738738738738737,
          0.4369369369369369,
          0.4391891891891892,
          0.44819819819819817
         ]
        },
        {
         "fill": "tonexty",
         "fillcolor": "rgba(68, 68, 68, .1)",
         "line": {
          "width": 1
         },
         "marker": {
          "color": "#444"
         },
         "mode": "lines",
         "name": "Maximum",
         "showlegend": false,
         "type": "scatter",
         "x": [
          1,
          2,
          3,
          4,
          5,
          6,
          7,
          8,
          9,
          10,
          11,
          12,
          13,
          14,
          15,
          16,
          17,
          18,
          19,
          20,
          21,
          22,
          23,
          24,
          25,
          26,
          27,
          28,
          29,
          30,
          31,
          32,
          33,
          34,
          35,
          36,
          37,
          38,
          39,
          40,
          41,
          42,
          43,
          44,
          45,
          46,
          47,
          48,
          49,
          50,
          51,
          52
         ],
         "y": [
          4.747474747474747,
          2.877906976744186,
          2.877906976744186,
          2.877906976744186,
          2.877906976744186,
          3.75,
          2.877906976744186,
          2.877906976744186,
          3.1515151515151514,
          2.877906976744186,
          3.696969696969697,
          3.717171717171717,
          3.191919191919192,
          3.585858585858586,
          3.4545454545454546,
          3.242424242424242,
          3.6363636363636362,
          4,
          4.232323232323233,
          4.292929292929293,
          5.373737373737374,
          4.545454545454546,
          5.03030303030303,
          5.818181818181818,
          5.838383838383838,
          5.818181818181818,
          8.378378378378379,
          5.909090909090909,
          5.898989898989899,
          5.8686868686868685,
          5.8686868686868685,
          5.8686868686868685,
          5.898989898989899,
          5.8686868686868685,
          5.070707070707071,
          4.545454545454546,
          4.545454545454546,
          4.5353535353535355,
          4.142857142857143,
          4.142857142857143,
          4.142857142857143,
          4.142857142857143,
          4.142857142857143,
          4.142857142857143,
          4.142857142857143,
          4.142857142857143,
          4.142857142857143,
          4.142857142857143,
          4.142857142857143,
          4.152941176470589,
          4.682352941176471,
          5.2727272727272725
         ]
        },
        {
         "line": {
          "width": 1.5
         },
         "mode": "lines",
         "name": "1% Quantile",
         "showlegend": true,
         "type": "scatter",
         "x": [
          1,
          2,
          3,
          4,
          5,
          6,
          7,
          8,
          9,
          10,
          11,
          12,
          13,
          14,
          15,
          16,
          17,
          18,
          19,
          20,
          21,
          22,
          23,
          24,
          25,
          26,
          27,
          28,
          29,
          30,
          31,
          32,
          33,
          34,
          35,
          36,
          37,
          38,
          39,
          40,
          41,
          42,
          43,
          44,
          45,
          46,
          47,
          48,
          49,
          50,
          51,
          52
         ],
         "y": [
          0.5426356589147286,
          0.5415384615384615,
          0.5581395348837209,
          0.5714461538461538,
          0.5866666666666667,
          0.6129032258064516,
          0.606643165467626,
          0.5977011494252874,
          0.625,
          0.6476190476190476,
          0.6775072463768116,
          0.6966666666666667,
          0.6981818181818182,
          0.7291122994652406,
          0.7272727272727273,
          0.7333333333333333,
          0.7538461538461538,
          0.8461538461538461,
          0.8449197860962567,
          0.8571428571428571,
          0.875,
          0.9384615384615385,
          0.9701492537313433,
          0.9752066115702479,
          0.9846153846153847,
          1,
          1,
          1,
          1,
          1,
          1,
          1,
          1,
          1,
          1,
          1,
          0.9894736842105263,
          0.9731567567567568,
          0.9516395173453996,
          0.9405405405405406,
          0.9230769230769231,
          0.9212923076923077,
          0.9154929577464789,
          0.8866666666666667,
          0.8936170212765957,
          0.8888888888888888,
          0.875,
          0.8895027624309392,
          0.9090909090909091,
          0.9230769230769231,
          1,
          1
         ]
        },
        {
         "line": {
          "width": 1.5
         },
         "mode": "lines",
         "name": "5% Quantile",
         "showlegend": true,
         "type": "scatter",
         "x": [
          1,
          2,
          3,
          4,
          5,
          6,
          7,
          8,
          9,
          10,
          11,
          12,
          13,
          14,
          15,
          16,
          17,
          18,
          19,
          20,
          21,
          22,
          23,
          24,
          25,
          26,
          27,
          28,
          29,
          30,
          31,
          32,
          33,
          34,
          35,
          36,
          37,
          38,
          39,
          40,
          41,
          42,
          43,
          44,
          45,
          46,
          47,
          48,
          49,
          50,
          51,
          52
         ],
         "y": [
          0.7142857142857143,
          0.6962025316455697,
          0.7,
          0.7111111111111111,
          0.7386622073578596,
          0.7700086749078291,
          0.7666666666666667,
          0.7666666666666667,
          0.797979797979798,
          0.8545454545454545,
          0.88,
          0.8888888888888888,
          0.9,
          0.9475734791524265,
          0.9444786324786325,
          0.971830985915493,
          1,
          1,
          1,
          1,
          1,
          1,
          1,
          1,
          1,
          1,
          1,
          1,
          1,
          1,
          1,
          1,
          1,
          1,
          1,
          1,
          1,
          1,
          1,
          1,
          1,
          1,
          1,
          1,
          1,
          1,
          1,
          1,
          1,
          1,
          1,
          1
         ]
        },
        {
         "line": {
          "width": 1.5
         },
         "mode": "lines",
         "name": "25% Quantile",
         "showlegend": true,
         "type": "scatter",
         "x": [
          1,
          2,
          3,
          4,
          5,
          6,
          7,
          8,
          9,
          10,
          11,
          12,
          13,
          14,
          15,
          16,
          17,
          18,
          19,
          20,
          21,
          22,
          23,
          24,
          25,
          26,
          27,
          28,
          29,
          30,
          31,
          32,
          33,
          34,
          35,
          36,
          37,
          38,
          39,
          40,
          41,
          42,
          43,
          44,
          45,
          46,
          47,
          48,
          49,
          50,
          51,
          52
         ],
         "y": [
          1,
          1,
          0.9663865546218487,
          0.9856115107913669,
          1,
          1,
          1,
          1,
          1,
          1,
          1,
          1,
          1,
          1,
          1,
          1,
          1,
          1,
          1,
          1,
          1,
          1,
          1,
          1,
          1,
          1,
          1,
          1,
          1,
          1,
          1,
          1,
          1,
          1,
          1,
          1,
          1,
          1,
          1,
          1,
          1,
          1,
          1,
          1,
          1,
          1,
          1,
          1,
          1,
          1,
          1,
          1
         ]
        },
        {
         "line": {
          "width": 1.5
         },
         "mode": "lines",
         "name": "Median",
         "showlegend": true,
         "type": "scatter",
         "x": [
          1,
          2,
          3,
          4,
          5,
          6,
          7,
          8,
          9,
          10,
          11,
          12,
          13,
          14,
          15,
          16,
          17,
          18,
          19,
          20,
          21,
          22,
          23,
          24,
          25,
          26,
          27,
          28,
          29,
          30,
          31,
          32,
          33,
          34,
          35,
          36,
          37,
          38,
          39,
          40,
          41,
          42,
          43,
          44,
          45,
          46,
          47,
          48,
          49,
          50,
          51,
          52
         ],
         "y": [
          1,
          1,
          1,
          1,
          1,
          1,
          1,
          1,
          1,
          1,
          1,
          1,
          1,
          1,
          1,
          1,
          1,
          1,
          1,
          1,
          1,
          1,
          1,
          1,
          1,
          1,
          1,
          1,
          1,
          1,
          1,
          1,
          1,
          1,
          1,
          1,
          1,
          1,
          1,
          1,
          1,
          1,
          1,
          1,
          1,
          1,
          1,
          1,
          1,
          1,
          1,
          1
         ]
        },
        {
         "line": {
          "width": 1.5
         },
         "mode": "lines",
         "name": "75% Quantile",
         "showlegend": true,
         "type": "scatter",
         "x": [
          1,
          2,
          3,
          4,
          5,
          6,
          7,
          8,
          9,
          10,
          11,
          12,
          13,
          14,
          15,
          16,
          17,
          18,
          19,
          20,
          21,
          22,
          23,
          24,
          25,
          26,
          27,
          28,
          29,
          30,
          31,
          32,
          33,
          34,
          35,
          36,
          37,
          38,
          39,
          40,
          41,
          42,
          43,
          44,
          45,
          46,
          47,
          48,
          49,
          50,
          51,
          52
         ],
         "y": [
          1,
          1,
          1,
          1,
          1,
          1,
          1,
          1,
          1,
          1,
          1,
          1,
          1,
          1,
          1,
          1,
          1,
          1.0555555555555556,
          1.0526315789473684,
          1.0588235294117647,
          1.087719298245614,
          1.1342782730642091,
          1.1428571428571428,
          1.144927536231884,
          1.1470588235294117,
          1.144927536231884,
          1.1470588235294117,
          1.1428571428571428,
          1.1428571428571428,
          1.1380636604774537,
          1.1333333333333333,
          1.1261261261261262,
          1.125,
          1.125,
          1.1013824884792627,
          1,
          1,
          1,
          1,
          1,
          1,
          1,
          1,
          1,
          1,
          1,
          1,
          1,
          1,
          1,
          1,
          1
         ]
        },
        {
         "line": {
          "width": 1.5
         },
         "mode": "lines",
         "name": "95% Quantile",
         "showlegend": true,
         "type": "scatter",
         "x": [
          1,
          2,
          3,
          4,
          5,
          6,
          7,
          8,
          9,
          10,
          11,
          12,
          13,
          14,
          15,
          16,
          17,
          18,
          19,
          20,
          21,
          22,
          23,
          24,
          25,
          26,
          27,
          28,
          29,
          30,
          31,
          32,
          33,
          34,
          35,
          36,
          37,
          38,
          39,
          40,
          41,
          42,
          43,
          44,
          45,
          46,
          47,
          48,
          49,
          50,
          51,
          52
         ],
         "y": [
          1.1925155166119012,
          1.2153846153846153,
          1.2,
          1.202020202020202,
          1.25,
          1.2755102040816326,
          1.2512562814070352,
          1.25,
          1.303030303030303,
          1.3333333333333333,
          1.3636363636363635,
          1.3775510204081634,
          1.3779527559055118,
          1.469387755102041,
          1.4285714285714286,
          1.4437571592210743,
          1.4666666666666666,
          1.5955555555555556,
          1.5789473684210527,
          1.6,
          1.7257575757575758,
          1.8456375838926173,
          1.8888888888888888,
          1.9373928571428574,
          1.937142857142857,
          1.9696969696969697,
          1.9887640449438202,
          1.9887640449438202,
          1.981818181818182,
          2,
          1.9854085155350958,
          1.975,
          1.9463087248322148,
          1.945736434108527,
          1.9064748201438848,
          1.7142857142857142,
          1.6879166666666656,
          1.6666666666666667,
          1.627906976744186,
          1.419377900413892,
          1.411764705882353,
          1.411764705882353,
          1.404040404040404,
          1.3566433566433567,
          1.3333333333333333,
          1.3457627118644069,
          1.385786802030457,
          1.313437073437073,
          1.3095238095238095,
          1.3333333333333333,
          1.3888888888888888,
          1.5
         ]
        },
        {
         "line": {
          "width": 1.5
         },
         "mode": "lines",
         "name": "99% Quantile",
         "showlegend": true,
         "type": "scatter",
         "x": [
          1,
          2,
          3,
          4,
          5,
          6,
          7,
          8,
          9,
          10,
          11,
          12,
          13,
          14,
          15,
          16,
          17,
          18,
          19,
          20,
          21,
          22,
          23,
          24,
          25,
          26,
          27,
          28,
          29,
          30,
          31,
          32,
          33,
          34,
          35,
          36,
          37,
          38,
          39,
          40,
          41,
          42,
          43,
          44,
          45,
          46,
          47,
          48,
          49,
          50,
          51,
          52
         ],
         "y": [
          1.5625,
          1.5485714285714285,
          1.5,
          1.5128205128205128,
          1.6,
          1.7462686567164178,
          1.6387036901717131,
          1.5933333333333333,
          1.7676767676767677,
          1.7714285714285714,
          2,
          2,
          1.875,
          2.065496598639455,
          2,
          2,
          1.9997202797202736,
          2.1,
          2.2,
          2.2151898734177213,
          2.4621221236276005,
          2.489795918367347,
          2.5280898876404496,
          2.718503968253971,
          3.056338028169014,
          3.142857142857143,
          3.163265306122449,
          3.125,
          3.1608040201005023,
          3.1626992103374025,
          3.1888111888111887,
          3.184895104895121,
          3.0444444444444443,
          3.0100502512562812,
          2.7751937984496124,
          2.4930372148859545,
          2.489795918367347,
          2.4978971841901583,
          2.25,
          2.2580484151526825,
          2.2598913043478275,
          2.2181818181818183,
          2.109375,
          2.040983606557377,
          2.0888109287850387,
          2.2608236836355764,
          2.25,
          2.1185185185185187,
          2.2884615384615383,
          2.2666666666666666,
          2.5063291139240507,
          2.7751937984496124
         ]
        },
        {
         "line": {
          "width": 1.5
         },
         "mode": "lines",
         "name": "99.5% Quantile",
         "showlegend": true,
         "type": "scatter",
         "x": [
          1,
          2,
          3,
          4,
          5,
          6,
          7,
          8,
          9,
          10,
          11,
          12,
          13,
          14,
          15,
          16,
          17,
          18,
          19,
          20,
          21,
          22,
          23,
          24,
          25,
          26,
          27,
          28,
          29,
          30,
          31,
          32,
          33,
          34,
          35,
          36,
          37,
          38,
          39,
          40,
          41,
          42,
          43,
          44,
          45,
          46,
          47,
          48,
          49,
          50,
          51,
          52
         ],
         "y": [
          2,
          1.711050000000003,
          1.6499690721649487,
          1.6363636363636365,
          1.868421052631579,
          2,
          1.875,
          1.873092948717945,
          2,
          2,
          2.2265625,
          2.25,
          2.0555555555555554,
          2.364923391215521,
          2.1419734251968183,
          2.145406703159512,
          2.1716404494381996,
          2.3636363636363638,
          2.489795918367347,
          2.5,
          2.915492957746479,
          2.7065217391304346,
          2.874837209302309,
          3.247077464788726,
          3.422594050743657,
          3.5491803278688523,
          3.583897637795238,
          3.562043795620438,
          3.56,
          3.560564496828985,
          3.574803149606299,
          3.5523357664233663,
          3.4444444444444446,
          3.4335664335664338,
          3.051282051282051,
          2.7818181818181817,
          2.8046875,
          2.8100981176180877,
          2.587719298245614,
          2.5714285714285716,
          2.5714285714285716,
          2.5378846153846175,
          2.5063291139240507,
          2.4506012884752923,
          2.489795918367347,
          2.7714887873754077,
          2.749432297660103,
          2.4871794871794872,
          2.6565656565656566,
          2.7751937984496124,
          3.096869728209921,
          3.210633484162896
         ]
        },
        {
         "line": {
          "width": 1.5
         },
         "mode": "lines",
         "name": "99.9% Quantile",
         "showlegend": true,
         "type": "scatter",
         "x": [
          1,
          2,
          3,
          4,
          5,
          6,
          7,
          8,
          9,
          10,
          11,
          12,
          13,
          14,
          15,
          16,
          17,
          18,
          19,
          20,
          21,
          22,
          23,
          24,
          25,
          26,
          27,
          28,
          29,
          30,
          31,
          32,
          33,
          34,
          35,
          36,
          37,
          38,
          39,
          40,
          41,
          42,
          43,
          44,
          45,
          46,
          47,
          48,
          49,
          50,
          51,
          52
         ],
         "y": [
          3.2580247649623977,
          2.1,
          2.0837600000000385,
          2,
          2.25,
          2.4683947821100944,
          2.25,
          2.1389142857143137,
          2.4577466018617735,
          2.5,
          2.826771653543307,
          2.83,
          2.5384615384615383,
          2.7544247500127055,
          2.6855680255158014,
          2.7520050251256527,
          2.707591919191927,
          2.9106158637874744,
          3.038353834023431,
          3.06532456140351,
          3.6363636363636362,
          3.2982456140350878,
          3.680363636363708,
          4.117655896069648,
          4.251968503937008,
          4.2635984251968715,
          4.606299212598425,
          4.35338582677212,
          4.412688043928731,
          4.335031496063959,
          4.598569670978821,
          4.480314960629921,
          4.280701754385965,
          4.3887969924812715,
          4.015921428571495,
          3.938437500000009,
          4.008928571428571,
          4.008928571428571,
          3.6298383838384507,
          3.6363636363636362,
          3.6363636363636362,
          3.6363636363636362,
          3.621838383838438,
          3.619030303030373,
          3.6161616161616164,
          3.6363636363636362,
          3.6363636363636362,
          3.6161616161616164,
          3.6363636363636362,
          3.919671420083354,
          4.125,
          4.313131313131313
         ]
        }
       ],
       "layout": {
        "height": 600,
        "hovermode": "x",
        "legend": {
         "orientation": "h",
         "x": 0,
         "xanchor": "left",
         "y": 1,
         "yanchor": "bottom"
        },
        "template": {
         "data": {
          "bar": [
           {
            "error_x": {
             "color": "#f2f5fa"
            },
            "error_y": {
             "color": "#f2f5fa"
            },
            "marker": {
             "line": {
              "color": "rgb(17,17,17)",
              "width": 0.5
             },
             "pattern": {
              "fillmode": "overlay",
              "size": 10,
              "solidity": 0.2
             }
            },
            "type": "bar"
           }
          ],
          "barpolar": [
           {
            "marker": {
             "line": {
              "color": "rgb(17,17,17)",
              "width": 0.5
             },
             "pattern": {
              "fillmode": "overlay",
              "size": 10,
              "solidity": 0.2
             }
            },
            "type": "barpolar"
           }
          ],
          "carpet": [
           {
            "aaxis": {
             "endlinecolor": "#A2B1C6",
             "gridcolor": "#506784",
             "linecolor": "#506784",
             "minorgridcolor": "#506784",
             "startlinecolor": "#A2B1C6"
            },
            "baxis": {
             "endlinecolor": "#A2B1C6",
             "gridcolor": "#506784",
             "linecolor": "#506784",
             "minorgridcolor": "#506784",
             "startlinecolor": "#A2B1C6"
            },
            "type": "carpet"
           }
          ],
          "choropleth": [
           {
            "colorbar": {
             "outlinewidth": 0,
             "ticks": ""
            },
            "type": "choropleth"
           }
          ],
          "contour": [
           {
            "colorbar": {
             "outlinewidth": 0,
             "ticks": ""
            },
            "colorscale": [
             [
              0,
              "#0d0887"
             ],
             [
              0.1111111111111111,
              "#46039f"
             ],
             [
              0.2222222222222222,
              "#7201a8"
             ],
             [
              0.3333333333333333,
              "#9c179e"
             ],
             [
              0.4444444444444444,
              "#bd3786"
             ],
             [
              0.5555555555555556,
              "#d8576b"
             ],
             [
              0.6666666666666666,
              "#ed7953"
             ],
             [
              0.7777777777777778,
              "#fb9f3a"
             ],
             [
              0.8888888888888888,
              "#fdca26"
             ],
             [
              1,
              "#f0f921"
             ]
            ],
            "type": "contour"
           }
          ],
          "contourcarpet": [
           {
            "colorbar": {
             "outlinewidth": 0,
             "ticks": ""
            },
            "type": "contourcarpet"
           }
          ],
          "heatmap": [
           {
            "colorbar": {
             "outlinewidth": 0,
             "ticks": ""
            },
            "colorscale": [
             [
              0,
              "#0d0887"
             ],
             [
              0.1111111111111111,
              "#46039f"
             ],
             [
              0.2222222222222222,
              "#7201a8"
             ],
             [
              0.3333333333333333,
              "#9c179e"
             ],
             [
              0.4444444444444444,
              "#bd3786"
             ],
             [
              0.5555555555555556,
              "#d8576b"
             ],
             [
              0.6666666666666666,
              "#ed7953"
             ],
             [
              0.7777777777777778,
              "#fb9f3a"
             ],
             [
              0.8888888888888888,
              "#fdca26"
             ],
             [
              1,
              "#f0f921"
             ]
            ],
            "type": "heatmap"
           }
          ],
          "heatmapgl": [
           {
            "colorbar": {
             "outlinewidth": 0,
             "ticks": ""
            },
            "colorscale": [
             [
              0,
              "#0d0887"
             ],
             [
              0.1111111111111111,
              "#46039f"
             ],
             [
              0.2222222222222222,
              "#7201a8"
             ],
             [
              0.3333333333333333,
              "#9c179e"
             ],
             [
              0.4444444444444444,
              "#bd3786"
             ],
             [
              0.5555555555555556,
              "#d8576b"
             ],
             [
              0.6666666666666666,
              "#ed7953"
             ],
             [
              0.7777777777777778,
              "#fb9f3a"
             ],
             [
              0.8888888888888888,
              "#fdca26"
             ],
             [
              1,
              "#f0f921"
             ]
            ],
            "type": "heatmapgl"
           }
          ],
          "histogram": [
           {
            "marker": {
             "pattern": {
              "fillmode": "overlay",
              "size": 10,
              "solidity": 0.2
             }
            },
            "type": "histogram"
           }
          ],
          "histogram2d": [
           {
            "colorbar": {
             "outlinewidth": 0,
             "ticks": ""
            },
            "colorscale": [
             [
              0,
              "#0d0887"
             ],
             [
              0.1111111111111111,
              "#46039f"
             ],
             [
              0.2222222222222222,
              "#7201a8"
             ],
             [
              0.3333333333333333,
              "#9c179e"
             ],
             [
              0.4444444444444444,
              "#bd3786"
             ],
             [
              0.5555555555555556,
              "#d8576b"
             ],
             [
              0.6666666666666666,
              "#ed7953"
             ],
             [
              0.7777777777777778,
              "#fb9f3a"
             ],
             [
              0.8888888888888888,
              "#fdca26"
             ],
             [
              1,
              "#f0f921"
             ]
            ],
            "type": "histogram2d"
           }
          ],
          "histogram2dcontour": [
           {
            "colorbar": {
             "outlinewidth": 0,
             "ticks": ""
            },
            "colorscale": [
             [
              0,
              "#0d0887"
             ],
             [
              0.1111111111111111,
              "#46039f"
             ],
             [
              0.2222222222222222,
              "#7201a8"
             ],
             [
              0.3333333333333333,
              "#9c179e"
             ],
             [
              0.4444444444444444,
              "#bd3786"
             ],
             [
              0.5555555555555556,
              "#d8576b"
             ],
             [
              0.6666666666666666,
              "#ed7953"
             ],
             [
              0.7777777777777778,
              "#fb9f3a"
             ],
             [
              0.8888888888888888,
              "#fdca26"
             ],
             [
              1,
              "#f0f921"
             ]
            ],
            "type": "histogram2dcontour"
           }
          ],
          "mesh3d": [
           {
            "colorbar": {
             "outlinewidth": 0,
             "ticks": ""
            },
            "type": "mesh3d"
           }
          ],
          "parcoords": [
           {
            "line": {
             "colorbar": {
              "outlinewidth": 0,
              "ticks": ""
             }
            },
            "type": "parcoords"
           }
          ],
          "pie": [
           {
            "automargin": true,
            "type": "pie"
           }
          ],
          "scatter": [
           {
            "marker": {
             "line": {
              "color": "#283442"
             }
            },
            "type": "scatter"
           }
          ],
          "scatter3d": [
           {
            "line": {
             "colorbar": {
              "outlinewidth": 0,
              "ticks": ""
             }
            },
            "marker": {
             "colorbar": {
              "outlinewidth": 0,
              "ticks": ""
             }
            },
            "type": "scatter3d"
           }
          ],
          "scattercarpet": [
           {
            "marker": {
             "colorbar": {
              "outlinewidth": 0,
              "ticks": ""
             }
            },
            "type": "scattercarpet"
           }
          ],
          "scattergeo": [
           {
            "marker": {
             "colorbar": {
              "outlinewidth": 0,
              "ticks": ""
             }
            },
            "type": "scattergeo"
           }
          ],
          "scattergl": [
           {
            "marker": {
             "line": {
              "color": "#283442"
             }
            },
            "type": "scattergl"
           }
          ],
          "scattermapbox": [
           {
            "marker": {
             "colorbar": {
              "outlinewidth": 0,
              "ticks": ""
             }
            },
            "type": "scattermapbox"
           }
          ],
          "scatterpolar": [
           {
            "marker": {
             "colorbar": {
              "outlinewidth": 0,
              "ticks": ""
             }
            },
            "type": "scatterpolar"
           }
          ],
          "scatterpolargl": [
           {
            "marker": {
             "colorbar": {
              "outlinewidth": 0,
              "ticks": ""
             }
            },
            "type": "scatterpolargl"
           }
          ],
          "scatterternary": [
           {
            "marker": {
             "colorbar": {
              "outlinewidth": 0,
              "ticks": ""
             }
            },
            "type": "scatterternary"
           }
          ],
          "surface": [
           {
            "colorbar": {
             "outlinewidth": 0,
             "ticks": ""
            },
            "colorscale": [
             [
              0,
              "#0d0887"
             ],
             [
              0.1111111111111111,
              "#46039f"
             ],
             [
              0.2222222222222222,
              "#7201a8"
             ],
             [
              0.3333333333333333,
              "#9c179e"
             ],
             [
              0.4444444444444444,
              "#bd3786"
             ],
             [
              0.5555555555555556,
              "#d8576b"
             ],
             [
              0.6666666666666666,
              "#ed7953"
             ],
             [
              0.7777777777777778,
              "#fb9f3a"
             ],
             [
              0.8888888888888888,
              "#fdca26"
             ],
             [
              1,
              "#f0f921"
             ]
            ],
            "type": "surface"
           }
          ],
          "table": [
           {
            "cells": {
             "fill": {
              "color": "#506784"
             },
             "line": {
              "color": "rgb(17,17,17)"
             }
            },
            "header": {
             "fill": {
              "color": "#2a3f5f"
             },
             "line": {
              "color": "rgb(17,17,17)"
             }
            },
            "type": "table"
           }
          ]
         },
         "layout": {
          "annotationdefaults": {
           "arrowcolor": "#f2f5fa",
           "arrowhead": 0,
           "arrowwidth": 1
          },
          "autotypenumbers": "strict",
          "coloraxis": {
           "colorbar": {
            "outlinewidth": 0,
            "ticks": ""
           }
          },
          "colorscale": {
           "diverging": [
            [
             0,
             "#8e0152"
            ],
            [
             0.1,
             "#c51b7d"
            ],
            [
             0.2,
             "#de77ae"
            ],
            [
             0.3,
             "#f1b6da"
            ],
            [
             0.4,
             "#fde0ef"
            ],
            [
             0.5,
             "#f7f7f7"
            ],
            [
             0.6,
             "#e6f5d0"
            ],
            [
             0.7,
             "#b8e186"
            ],
            [
             0.8,
             "#7fbc41"
            ],
            [
             0.9,
             "#4d9221"
            ],
            [
             1,
             "#276419"
            ]
           ],
           "sequential": [
            [
             0,
             "#0d0887"
            ],
            [
             0.1111111111111111,
             "#46039f"
            ],
            [
             0.2222222222222222,
             "#7201a8"
            ],
            [
             0.3333333333333333,
             "#9c179e"
            ],
            [
             0.4444444444444444,
             "#bd3786"
            ],
            [
             0.5555555555555556,
             "#d8576b"
            ],
            [
             0.6666666666666666,
             "#ed7953"
            ],
            [
             0.7777777777777778,
             "#fb9f3a"
            ],
            [
             0.8888888888888888,
             "#fdca26"
            ],
            [
             1,
             "#f0f921"
            ]
           ],
           "sequentialminus": [
            [
             0,
             "#0d0887"
            ],
            [
             0.1111111111111111,
             "#46039f"
            ],
            [
             0.2222222222222222,
             "#7201a8"
            ],
            [
             0.3333333333333333,
             "#9c179e"
            ],
            [
             0.4444444444444444,
             "#bd3786"
            ],
            [
             0.5555555555555556,
             "#d8576b"
            ],
            [
             0.6666666666666666,
             "#ed7953"
            ],
            [
             0.7777777777777778,
             "#fb9f3a"
            ],
            [
             0.8888888888888888,
             "#fdca26"
            ],
            [
             1,
             "#f0f921"
            ]
           ]
          },
          "colorway": [
           "#636efa",
           "#EF553B",
           "#00cc96",
           "#ab63fa",
           "#FFA15A",
           "#19d3f3",
           "#FF6692",
           "#B6E880",
           "#FF97FF",
           "#FECB52"
          ],
          "font": {
           "color": "#f2f5fa"
          },
          "geo": {
           "bgcolor": "rgb(17,17,17)",
           "lakecolor": "rgb(17,17,17)",
           "landcolor": "rgb(17,17,17)",
           "showlakes": true,
           "showland": true,
           "subunitcolor": "#506784"
          },
          "hoverlabel": {
           "align": "left"
          },
          "hovermode": "closest",
          "mapbox": {
           "style": "dark"
          },
          "paper_bgcolor": "rgb(17,17,17)",
          "plot_bgcolor": "rgb(17,17,17)",
          "polar": {
           "angularaxis": {
            "gridcolor": "#506784",
            "linecolor": "#506784",
            "ticks": ""
           },
           "bgcolor": "rgb(17,17,17)",
           "radialaxis": {
            "gridcolor": "#506784",
            "linecolor": "#506784",
            "ticks": ""
           }
          },
          "scene": {
           "xaxis": {
            "backgroundcolor": "rgb(17,17,17)",
            "gridcolor": "#506784",
            "gridwidth": 2,
            "linecolor": "#506784",
            "showbackground": true,
            "ticks": "",
            "zerolinecolor": "#C8D4E3"
           },
           "yaxis": {
            "backgroundcolor": "rgb(17,17,17)",
            "gridcolor": "#506784",
            "gridwidth": 2,
            "linecolor": "#506784",
            "showbackground": true,
            "ticks": "",
            "zerolinecolor": "#C8D4E3"
           },
           "zaxis": {
            "backgroundcolor": "rgb(17,17,17)",
            "gridcolor": "#506784",
            "gridwidth": 2,
            "linecolor": "#506784",
            "showbackground": true,
            "ticks": "",
            "zerolinecolor": "#C8D4E3"
           }
          },
          "shapedefaults": {
           "line": {
            "color": "#f2f5fa"
           }
          },
          "sliderdefaults": {
           "bgcolor": "#C8D4E3",
           "bordercolor": "rgb(17,17,17)",
           "borderwidth": 1,
           "tickwidth": 0
          },
          "ternary": {
           "aaxis": {
            "gridcolor": "#506784",
            "linecolor": "#506784",
            "ticks": ""
           },
           "baxis": {
            "gridcolor": "#506784",
            "linecolor": "#506784",
            "ticks": ""
           },
           "bgcolor": "rgb(17,17,17)",
           "caxis": {
            "gridcolor": "#506784",
            "linecolor": "#506784",
            "ticks": ""
           }
          },
          "title": {
           "x": 0.05
          },
          "updatemenudefaults": {
           "bgcolor": "#506784",
           "borderwidth": 0
          },
          "xaxis": {
           "automargin": true,
           "gridcolor": "#283442",
           "linecolor": "#506784",
           "ticks": "",
           "title": {
            "standoff": 15
           },
           "zerolinecolor": "#283442",
           "zerolinewidth": 2
          },
          "yaxis": {
           "automargin": true,
           "gridcolor": "#283442",
           "linecolor": "#506784",
           "ticks": "",
           "title": {
            "standoff": 15
           },
           "zerolinecolor": "#283442",
           "zerolinewidth": 2
          }
         }
        },
        "title": {
         "text": "Relative Price Fluctuation"
        },
        "width": 1400,
        "xaxis": {
         "dtick": 4,
         "tick0": 0,
         "title": {
          "text": "Week"
         }
        },
        "yaxis": {
         "title": {
          "text": "Relative Price Fluctuation [-]"
         }
        }
       }
      }
     },
     "metadata": {},
     "output_type": "display_data"
    }
   ],
   "source": [
    "fig = go.Figure([\n",
    "    go.Scatter(\n",
    "        name='Minimum',\n",
    "        x=df_agg['week'],\n",
    "        y=df_agg['min_val'],\n",
    "        mode='lines',\n",
    "        marker=dict(color=\"#444\"),\n",
    "        line=dict(width=1),\n",
    "        showlegend=False\n",
    "    ),\n",
    "    go.Scatter(\n",
    "        name='Maximum',\n",
    "        x=df_agg['week'],\n",
    "        y=df_agg['max_val'],\n",
    "        marker=dict(color=\"#444\"),\n",
    "        line=dict(width=1),\n",
    "        mode='lines',\n",
    "        fillcolor='rgba(68, 68, 68, .1)',\n",
    "        fill='tonexty',\n",
    "        showlegend=False\n",
    "    )\n",
    "])\n",
    "\n",
    "lines = ['q01', 'q05', 'q25', 'q50', 'q75', 'q95', 'q99', 'q99_5', 'q99_9']\n",
    "\n",
    "for l in lines:\n",
    "    fig.add_trace(\n",
    "        go.Scatter(\n",
    "            name=line_dict[l],\n",
    "            x=df_agg['week'],\n",
    "            y=df_agg[l],\n",
    "            line=dict(width=1.5),\n",
    "            mode='lines',\n",
    "            showlegend=True\n",
    "        ),\n",
    "    )\n",
    "\n",
    "\n",
    "fig.update_layout(\n",
    "    yaxis_title='Relative Price Fluctuation [-]',\n",
    "    xaxis_title = 'Week',\n",
    "    title='Relative Price Fluctuation',\n",
    "    hovermode=\"x\",\n",
    "    template='plotly_dark',\n",
    "    width = 1400,\n",
    "    height = 600\n",
    ")\n",
    "\n",
    "fig.update_layout(legend=dict(\n",
    "    orientation=\"h\",\n",
    "    yanchor=\"bottom\",\n",
    "    y=1,\n",
    "    xanchor=\"left\",\n",
    "    x=0\n",
    "))\n",
    "\n",
    "fig.update_xaxes(tick0 = 0, dtick = 4)\n",
    "\n",
    "fig.show()"
   ]
  },
  {
   "cell_type": "code",
   "execution_count": 374,
   "metadata": {},
   "outputs": [
    {
     "data": {
      "image/png": "[encoded data removed]",
      "text/plain": [
       "<Figure size 1200x600 with 1 Axes>"
      ]
     },
     "metadata": {},
     "output_type": "display_data"
    }
   ],
   "source": [
    "timerange = 'week'\n",
    "\n",
    "fig, ax = plt.subplots(ncols=1, nrows=1, figsize = (12,6))\n",
    "\n",
    "df_merge_f.boxplot(column='price_fluc', by=timerange, ax= ax)\n",
    "\n",
    "df_agg.plot(x = timerange, y='q01', ax = ax, label = 'q01')\n",
    "df_agg.plot(x = timerange, y='q05', ax = ax, label = 'q05')\n",
    "df_agg.plot(x = timerange, y='q50', ax = ax, label = 'q50')\n",
    "df_agg.plot(x = timerange, y='q95', ax = ax, label = 'q95')\n",
    "df_agg.plot(x = timerange, y='q99', ax = ax, label = 'q99')\n",
    "\n",
    "\n",
    "ax.set_xlabel('Month', fontsize = 14)\n",
    "# ax.set_xticklabels(temp_df['month_name'])\n",
    "ax.set_ylabel('price [US$]', fontsize = 14)\n",
    "\n",
    "fig.tight_layout()\n",
    "\n",
    "plt.show()"
   ]
  },
  {
   "cell_type": "code",
   "execution_count": 375,
   "metadata": {},
   "outputs": [
    {
     "data": {
      "text/plain": [
       "array(['Queen Anne', 'Ballard', 'Other neighborhoods', 'Cascade',\n",
       "       'Central Area', 'University District', 'Downtown', 'Magnolia',\n",
       "       'West Seattle', 'Interbay', 'Beacon Hill', 'Rainier Valley',\n",
       "       'Delridge', 'Seward Park', 'Northgate', 'Capitol Hill',\n",
       "       'Lake City'], dtype=object)"
      ]
     },
     "execution_count": 375,
     "metadata": {},
     "output_type": "execute_result"
    }
   ],
   "source": [
    "df_merge_f.neighbourhood_group_cleansed.unique()"
   ]
  },
  {
   "cell_type": "code",
   "execution_count": null,
   "metadata": {},
   "outputs": [
    {
     "data": {
      "text/html": [
       "<div>\n",
       "<style scoped>\n",
       "    .dataframe tbody tr th:only-of-type {\n",
       "        vertical-align: middle;\n",
       "    }\n",
       "\n",
       "    .dataframe tbody tr th {\n",
       "        vertical-align: top;\n",
       "    }\n",
       "\n",
       "    .dataframe thead th {\n",
       "        text-align: right;\n",
       "    }\n",
       "</style>\n",
       "<table border=\"1\" class=\"dataframe\">\n",
       "  <thead>\n",
       "    <tr style=\"text-align: right;\">\n",
       "      <th></th>\n",
       "      <th>neighbourhood_group_cleansed</th>\n",
       "      <th>week</th>\n",
       "      <th>median</th>\n",
       "      <th>q05</th>\n",
       "      <th>q95</th>\n",
       "    </tr>\n",
       "  </thead>\n",
       "  <tbody>\n",
       "    <tr>\n",
       "      <th>0</th>\n",
       "      <td>Ballard</td>\n",
       "      <td>1</td>\n",
       "      <td>33.312500</td>\n",
       "      <td>16.666667</td>\n",
       "      <td>66.666667</td>\n",
       "    </tr>\n",
       "    <tr>\n",
       "      <th>1</th>\n",
       "      <td>Ballard</td>\n",
       "      <td>2</td>\n",
       "      <td>32.666667</td>\n",
       "      <td>16.000000</td>\n",
       "      <td>63.000000</td>\n",
       "    </tr>\n",
       "    <tr>\n",
       "      <th>2</th>\n",
       "      <td>Ballard</td>\n",
       "      <td>3</td>\n",
       "      <td>32.500000</td>\n",
       "      <td>16.000000</td>\n",
       "      <td>63.000000</td>\n",
       "    </tr>\n",
       "    <tr>\n",
       "      <th>3</th>\n",
       "      <td>Ballard</td>\n",
       "      <td>4</td>\n",
       "      <td>32.500000</td>\n",
       "      <td>16.666667</td>\n",
       "      <td>62.975000</td>\n",
       "    </tr>\n",
       "    <tr>\n",
       "      <th>4</th>\n",
       "      <td>Ballard</td>\n",
       "      <td>5</td>\n",
       "      <td>33.000000</td>\n",
       "      <td>17.500000</td>\n",
       "      <td>66.666667</td>\n",
       "    </tr>\n",
       "    <tr>\n",
       "      <th>...</th>\n",
       "      <td>...</td>\n",
       "      <td>...</td>\n",
       "      <td>...</td>\n",
       "      <td>...</td>\n",
       "      <td>...</td>\n",
       "    </tr>\n",
       "    <tr>\n",
       "      <th>879</th>\n",
       "      <td>West Seattle</td>\n",
       "      <td>48</td>\n",
       "      <td>39.000000</td>\n",
       "      <td>17.000000</td>\n",
       "      <td>75.000000</td>\n",
       "    </tr>\n",
       "    <tr>\n",
       "      <th>880</th>\n",
       "      <td>West Seattle</td>\n",
       "      <td>49</td>\n",
       "      <td>39.000000</td>\n",
       "      <td>17.000000</td>\n",
       "      <td>75.000000</td>\n",
       "    </tr>\n",
       "    <tr>\n",
       "      <th>881</th>\n",
       "      <td>West Seattle</td>\n",
       "      <td>50</td>\n",
       "      <td>39.000000</td>\n",
       "      <td>17.000000</td>\n",
       "      <td>75.000000</td>\n",
       "    </tr>\n",
       "    <tr>\n",
       "      <th>882</th>\n",
       "      <td>West Seattle</td>\n",
       "      <td>51</td>\n",
       "      <td>39.500000</td>\n",
       "      <td>17.000000</td>\n",
       "      <td>75.000000</td>\n",
       "    </tr>\n",
       "    <tr>\n",
       "      <th>883</th>\n",
       "      <td>West Seattle</td>\n",
       "      <td>52</td>\n",
       "      <td>39.500000</td>\n",
       "      <td>17.000000</td>\n",
       "      <td>75.000000</td>\n",
       "    </tr>\n",
       "  </tbody>\n",
       "</table>\n",
       "<p>884 rows × 5 columns</p>\n",
       "</div>"
      ],
      "text/plain": [
       "    neighbourhood_group_cleansed  week     median        q05        q95\n",
       "0                        Ballard     1  33.312500  16.666667  66.666667\n",
       "1                        Ballard     2  32.666667  16.000000  63.000000\n",
       "2                        Ballard     3  32.500000  16.000000  63.000000\n",
       "3                        Ballard     4  32.500000  16.666667  62.975000\n",
       "4                        Ballard     5  33.000000  17.500000  66.666667\n",
       "..                           ...   ...        ...        ...        ...\n",
       "879                 West Seattle    48  39.000000  17.000000  75.000000\n",
       "880                 West Seattle    49  39.000000  17.000000  75.000000\n",
       "881                 West Seattle    50  39.000000  17.000000  75.000000\n",
       "882                 West Seattle    51  39.500000  17.000000  75.000000\n",
       "883                 West Seattle    52  39.500000  17.000000  75.000000\n",
       "\n",
       "[884 rows x 5 columns]"
      ]
     },
     "execution_count": 37,
     "metadata": {},
     "output_type": "execute_result"
    }
   ],
   "source": [
    "df_agg = df_merge_f.groupby(['neighbourhood_group_cleansed','week']).agg(\n",
    "    median = ('price_p_accom', 'median'),\n",
    "    q05 = ('price_p_accom', q05),\n",
    "    q95 = ('price_p_accom', q95)\n",
    ").reset_index()\n",
    "\n",
    "df_agg"
   ]
  },
  {
   "cell_type": "code",
   "execution_count": null,
   "metadata": {},
   "outputs": [
    {
     "data": {
      "text/plain": [
       "['January',\n",
       " 'February',\n",
       " 'March',\n",
       " 'April',\n",
       " 'May',\n",
       " 'June',\n",
       " 'July',\n",
       " 'August',\n",
       " 'September',\n",
       " 'October',\n",
       " 'November',\n",
       " 'December']"
      ]
     },
     "execution_count": 22,
     "metadata": {},
     "output_type": "execute_result"
    }
   ],
   "source": [
    "temp_df = df_merge_f.groupby(['month', 'month_name']).count().reset_index()\n",
    "temp_df['month_name'].to_list()"
   ]
  },
  {
   "cell_type": "markdown",
   "metadata": {},
   "source": [
    "Weiteres Vorgehen:\n",
    "- Berechnung des Medians pro Nachbarschaft und Berechnung der relative Änderung über das Jahr (Spread zwischen 5 und 95 % Percentil bspw.)\n",
    "- Karte mit Darstellung der größten Änderung\n",
    "- Ggf. Modellierung des Preises für Seattle oder aber auch nur einen Bereich"
   ]
  }
 ],
 "metadata": {
  "kernelspec": {
   "display_name": ".venv",
   "language": "python",
   "name": "python3"
  },
  "language_info": {
   "codemirror_mode": {
    "name": "ipython",
    "version": 3
   },
   "file_extension": ".py",
   "mimetype": "text/x-python",
   "name": "python",
   "nbconvert_exporter": "python",
   "pygments_lexer": "ipython3",
   "version": "3.11.2"
  }
 },
 "nbformat": 4,
 "nbformat_minor": 2
}
